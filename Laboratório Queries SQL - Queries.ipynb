{
 "cells": [
  {
   "cell_type": "markdown",
   "id": "8de191da",
   "metadata": {},
   "source": [
    "# Importando bibliotecas úteis"
   ]
  },
  {
   "cell_type": "code",
   "execution_count": 1,
   "id": "5ebf9135",
   "metadata": {},
   "outputs": [],
   "source": [
    "import pandas as pd\n",
    "import sqlite3"
   ]
  },
  {
   "cell_type": "markdown",
   "id": "eea766ee",
   "metadata": {},
   "source": [
    "# Conectando ao BD"
   ]
  },
  {
   "cell_type": "code",
   "execution_count": 2,
   "id": "53f4dcaf",
   "metadata": {},
   "outputs": [],
   "source": [
    "con = sqlite3.connect(\"usinas.db\")"
   ]
  },
  {
   "cell_type": "code",
   "execution_count": 3,
   "id": "8451902d",
   "metadata": {},
   "outputs": [],
   "source": [
    "cursor = con.cursor()"
   ]
  },
  {
   "cell_type": "markdown",
   "id": "8b74c0aa",
   "metadata": {},
   "source": [
    "# Queries"
   ]
  },
  {
   "cell_type": "code",
   "execution_count": 4,
   "id": "3522139b",
   "metadata": {},
   "outputs": [
    {
     "name": "stdout",
     "output_type": "stream",
     "text": [
      "[('2024-12-31', 'Biomassa', 'Agroindustriais', 'Bagaço de Cana de Açúcar', 359, 8125583.7, 12, 2012), ('2024-12-31', 'Biomassa', 'Agroindustriais', 'Bagaço de Cana de Açúcar', 381, 9358566.0, 12, 2013), ('2024-12-31', 'Biomassa', 'Agroindustriais', 'Bagaço de Cana de Açúcar', 387, 9880703.0, 12, 2014), ('2024-12-31', 'Biomassa', 'Agroindustriais', 'Bagaço de Cana de Açúcar', 394, 10531820.2, 12, 2015), ('2024-12-31', 'Biomassa', 'Agroindustriais', 'Bagaço de Cana de Açúcar', 398, 10897104.2, 12, 2016), ('2024-12-31', 'Biomassa', 'Agroindustriais', 'Bagaço de Cana de Açúcar', 349, 7271587.7, 3, 2012), ('2024-12-31', 'Biomassa', 'Agroindustriais', 'Bagaço de Cana de Açúcar', 367, 8532611.7, 3, 2013), ('2024-12-31', 'Biomassa', 'Agroindustriais', 'Bagaço de Cana de Açúcar', 378, 9339425.7, 3, 2014), ('2024-12-31', 'Biomassa', 'Agroindustriais', 'Bagaço de Cana de Açúcar', 387, 9933550.2, 3, 2015), ('2024-12-31', 'Biomassa', 'Agroindustriais', 'Bagaço de Cana de Açúcar', 394, 10594460.0, 3, 2016), ('2024-12-31', 'Biomassa', 'Agroindustriais', 'Bagaço de Cana de Açúcar', 399, 10909920.2, 3, 2017), ('2024-12-31', 'Biomassa', 'Agroindustriais', 'Bagaço de Cana de Açúcar', 353, 7618287.7, 6, 2012), ('2024-12-31', 'Biomassa', 'Agroindustriais', 'Bagaço de Cana de Açúcar', 370, 8926911.7, 6, 2013), ('2024-12-31', 'Biomassa', 'Agroindustriais', 'Bagaço de Cana de Açúcar', 378, 9390071.0, 6, 2014), ('2024-12-31', 'Biomassa', 'Agroindustriais', 'Bagaço de Cana de Açúcar', 391, 10295950.2, 6, 2015), ('2024-12-31', 'Biomassa', 'Agroindustriais', 'Bagaço de Cana de Açúcar', 392, 10661760.2, 6, 2016), ('2024-12-31', 'Biomassa', 'Agroindustriais', 'Bagaço de Cana de Açúcar', 358, 8027644.0, 9, 2012), ('2024-12-31', 'Biomassa', 'Agroindustriais', 'Bagaço de Cana de Açúcar', 374, 9154935.7, 9, 2013), ('2024-12-31', 'Biomassa', 'Agroindustriais', 'Bagaço de Cana de Açúcar', 384, 9778071.0, 9, 2014), ('2024-12-31', 'Biomassa', 'Agroindustriais', 'Bagaço de Cana de Açúcar', 390, 10436420.2, 9, 2015), ('2024-12-31', 'Biomassa', 'Agroindustriais', 'Bagaço de Cana de Açúcar', 396, 10771760.2, 9, 2016), ('2024-12-31', 'Biomassa', 'Agroindustriais', 'Biogas - AGR', 19, 79000.0, 12, 2012), ('2024-12-31', 'Biomassa', 'Agroindustriais', 'Biogas - AGR', 23, 79626.0, 12, 2013), ('2024-12-31', 'Biomassa', 'Agroindustriais', 'Biogas - AGR', 2, 1722.0, 12, 2014), ('2024-12-31', 'Biomassa', 'Agroindustriais', 'Biogas - AGR', 2, 1722.0, 12, 2015), ('2024-12-31', 'Biomassa', 'Agroindustriais', 'Biogas - AGR', 19, 77308.0, 3, 2012), ('2024-12-31', 'Biomassa', 'Agroindustriais', 'Biogas - AGR', 18, 74298.0, 3, 2013), ('2024-12-31', 'Biomassa', 'Agroindustriais', 'Biogas - AGR', 23, 80659.0, 3, 2014), ('2024-12-31', 'Biomassa', 'Agroindustriais', 'Biogas - AGR', 2, 1722.0, 3, 2015), ('2024-12-31', 'Biomassa', 'Agroindustriais', 'Biogas - AGR', 2, 1722.0, 3, 2016), ('2024-12-31', 'Biomassa', 'Agroindustriais', 'Biogas - AGR', 19, 77308.0, 6, 2012), ('2024-12-31', 'Biomassa', 'Agroindustriais', 'Biogas - AGR', 19, 74388.0, 6, 2013), ('2024-12-31', 'Biomassa', 'Agroindustriais', 'Biogas - AGR', 23, 84857.0, 6, 2014), ('2024-12-31', 'Biomassa', 'Agroindustriais', 'Biogas - AGR', 2, 1722.0, 6, 2015), ('2024-12-31', 'Biomassa', 'Agroindustriais', 'Biogás - AGR', 3, 1822.0, 6, 2016), ('2024-12-31', 'Biomassa', 'Agroindustriais', 'Biogas - AGR', 20, 79608.0, 9, 2012), ('2024-12-31', 'Biomassa', 'Agroindustriais', 'Biogas - AGR', 22, 79594.0, 9, 2013), ('2024-12-31', 'Biomassa', 'Agroindustriais', 'Biogas - AGR', 2, 1722.0, 9, 2014), ('2024-12-31', 'Biomassa', 'Agroindustriais', 'Biogas - AGR', 2, 1722.0, 9, 2015), ('2024-12-31', 'Biomassa', 'Agroindustriais', 'Biogas - AGR', 3, 1822.0, 9, 2016), ('2024-12-31', 'Biomassa', 'Agroindustriais', 'Biogás - AGR', 3, 1822.0, 12, 2016), ('2024-12-31', 'Biomassa', 'Agroindustriais', 'Biogás - AGR', 3, 1822.0, 3, 2017), ('2024-12-31', 'Biomassa', 'Agroindustriais', 'Capim Elefante', 2, 31700.0, 12, 2012), ('2024-12-31', 'Biomassa', 'Agroindustriais', 'Capim Elefante', 2, 31700.0, 12, 2013), ('2024-12-31', 'Biomassa', 'Agroindustriais', 'Capim Elefante', 2, 31700.0, 12, 2014), ('2024-12-31', 'Biomassa', 'Agroindustriais', 'Capim Elefante', 3, 65700.0, 12, 2015), ('2024-12-31', 'Biomassa', 'Agroindustriais', 'Capim Elefante', 3, 65700.0, 12, 2016), ('2024-12-31', 'Biomassa', 'Agroindustriais', 'Capim Elefante', 2, 31700.0, 3, 2012), ('2024-12-31', 'Biomassa', 'Agroindustriais', 'Capim Elefante', 2, 31700.0, 3, 2013), ('2024-12-31', 'Biomassa', 'Agroindustriais', 'Capim Elefante', 2, 31700.0, 3, 2014), ('2024-12-31', 'Biomassa', 'Agroindustriais', 'Capim Elefante', 3, 65700.0, 3, 2015), ('2024-12-31', 'Biomassa', 'Agroindustriais', 'Capim Elefante', 3, 65700.0, 3, 2016), ('2024-12-31', 'Biomassa', 'Agroindustriais', 'Capim Elefante', 3, 65700.0, 3, 2017), ('2024-12-31', 'Biomassa', 'Agroindustriais', 'Capim Elefante', 2, 31700.0, 6, 2012), ('2024-12-31', 'Biomassa', 'Agroindustriais', 'Capim Elefante', 2, 31700.0, 6, 2013), ('2024-12-31', 'Biomassa', 'Agroindustriais', 'Capim Elefante', 2, 31700.0, 6, 2014), ('2024-12-31', 'Biomassa', 'Agroindustriais', 'Capim Elefante', 3, 65700.0, 6, 2015), ('2024-12-31', 'Biomassa', 'Agroindustriais', 'Capim Elefante', 3, 65700.0, 6, 2016), ('2024-12-31', 'Biomassa', 'Agroindustriais', 'Capim Elefante', 2, 31700.0, 9, 2012), ('2024-12-31', 'Biomassa', 'Agroindustriais', 'Capim Elefante', 2, 31700.0, 9, 2013), ('2024-12-31', 'Biomassa', 'Agroindustriais', 'Capim Elefante', 2, 31700.0, 9, 2014), ('2024-12-31', 'Biomassa', 'Agroindustriais', 'Capim Elefante', 3, 65700.0, 9, 2015), ('2024-12-31', 'Biomassa', 'Agroindustriais', 'Capim Elefante', 3, 65700.0, 9, 2016), ('2024-12-31', 'Biomassa', 'Agroindustriais', 'Casca de Arroz', 9, 36433.0, 12, 2012), ('2024-12-31', 'Biomassa', 'Agroindustriais', 'Casca de Arroz', 9, 36433.0, 12, 2013), ('2024-12-31', 'Biomassa', 'Agroindustriais', 'Casca de Arroz', 10, 37533.0, 12, 2014), ('2024-12-31', 'Biomassa', 'Agroindustriais', 'Casca de Arroz', 12, 45333.0, 12, 2015), ('2024-12-31', 'Biomassa', 'Agroindustriais', 'Casca de Arroz', 12, 45333.0, 12, 2016), ('2024-12-31', 'Biomassa', 'Agroindustriais', 'Casca de Arroz', 8, 32608.0, 3, 2012), ('2024-12-31', 'Biomassa', 'Agroindustriais', 'Casca de Arroz', 9, 36433.0, 3, 2013), ('2024-12-31', 'Biomassa', 'Agroindustriais', 'Casca de Arroz', 9, 36433.0, 3, 2014), ('2024-12-31', 'Biomassa', 'Agroindustriais', 'Casca de Arroz', 11, 39533.0, 3, 2015), ('2024-12-31', 'Biomassa', 'Agroindustriais', 'Casca de Arroz', 12, 45333.0, 3, 2016), ('2024-12-31', 'Biomassa', 'Agroindustriais', 'Casca de Arroz', 12, 45333.0, 3, 2017), ('2024-12-31', 'Biomassa', 'Agroindustriais', 'Casca de Arroz', 8, 32608.0, 6, 2012), ('2024-12-31', 'Biomassa', 'Agroindustriais', 'Casca de Arroz', 9, 36433.0, 6, 2013), ('2024-12-31', 'Biomassa', 'Agroindustriais', 'Casca de Arroz', 9, 36433.0, 6, 2014), ('2024-12-31', 'Biomassa', 'Agroindustriais', 'Casca de Arroz', 11, 39533.0, 6, 2015), ('2024-12-31', 'Biomassa', 'Agroindustriais', 'Casca de Arroz', 12, 45333.0, 6, 2016), ('2024-12-31', 'Biomassa', 'Agroindustriais', 'Casca de Arroz', 8, 32608.0, 9, 2012), ('2024-12-31', 'Biomassa', 'Agroindustriais', 'Casca de Arroz', 9, 36433.0, 9, 2013), ('2024-12-31', 'Biomassa', 'Agroindustriais', 'Casca de Arroz', 10, 37633.0, 9, 2014), ('2024-12-31', 'Biomassa', 'Agroindustriais', 'Casca de Arroz', 11, 39533.0, 9, 2015), ('2024-12-31', 'Biomassa', 'Agroindustriais', 'Casca de Arroz', 12, 45333.0, 9, 2016), ('2024-12-31', 'Biomassa', 'Biocombustíveis líquidos', 'Etanol', 1, 320.0, 12, 2016), ('2024-12-31', 'Biomassa', 'Biocombustíveis líquidos', 'Etanol', 1, 320.0, 3, 2017), ('2024-12-31', 'Biomassa', 'Biocombustíveis líquidos', 'Etanol', 1, 320.0, 9, 2016), ('2024-12-31', 'Biomassa', 'Biocombustíveis líquidos', 'Óleos Vegetais', 2, 4350.4, 12, 2012), ('2024-12-31', 'Biomassa', 'Biocombustíveis líquidos', 'Óleos Vegetais', 2, 4350.4, 12, 2013), ('2024-12-31', 'Biomassa', 'Biocombustíveis líquidos', 'Óleos Vegetais', 3, 19110.4, 12, 2014), ('2024-12-31', 'Biomassa', 'Biocombustíveis líquidos', 'Óleos Vegetais', 2, 4350.4, 12, 2015), ('2024-12-31', 'Biomassa', 'Biocombustíveis líquidos', 'Óleos Vegetais', 2, 4350.4, 12, 2016), ('2024-12-31', 'Biomassa', 'Biocombustíveis líquidos', 'Óleos Vegetais', 2, 4350.4, 3, 2012), ('2024-12-31', 'Biomassa', 'Biocombustíveis líquidos', 'Óleos Vegetais', 2, 4350.4, 3, 2013), ('2024-12-31', 'Biomassa', 'Biocombustíveis líquidos', 'Óleos Vegetais', 2, 4350.4, 3, 2014), ('2024-12-31', 'Biomassa', 'Biocombustíveis líquidos', 'Óleos Vegetais', 2, 4350.4, 3, 2015), ('2024-12-31', 'Biomassa', 'Biocombustíveis líquidos', 'Óleos Vegetais', 2, 4350.4, 3, 2016), ('2024-12-31', 'Biomassa', 'Biocombustíveis líquidos', 'Óleos Vegetais', 2, 4350.4, 3, 2017), ('2024-12-31', 'Biomassa', 'Biocombustíveis líquidos', 'Óleos Vegetais', 2, 4350.4, 6, 2012), ('2024-12-31', 'Biomassa', 'Biocombustíveis líquidos', 'Óleos Vegetais', 2, 4350.4, 6, 2013), ('2024-12-31', 'Biomassa', 'Biocombustíveis líquidos', 'Óleos Vegetais', 2, 4350.4, 6, 2014), ('2024-12-31', 'Biomassa', 'Biocombustíveis líquidos', 'Óleos Vegetais', 2, 4350.4, 6, 2015), ('2024-12-31', 'Biomassa', 'Biocombustíveis líquidos', 'Óleos Vegetais', 2, 4350.4, 6, 2016), ('2024-12-31', 'Biomassa', 'Biocombustíveis líquidos', 'Óleos Vegetais', 2, 4350.4, 9, 2012), ('2024-12-31', 'Biomassa', 'Biocombustíveis líquidos', 'Óleos Vegetais', 2, 4350.4, 9, 2013), ('2024-12-31', 'Biomassa', 'Biocombustíveis líquidos', 'Óleos Vegetais', 3, 19110.0, 9, 2014), ('2024-12-31', 'Biomassa', 'Biocombustíveis líquidos', 'Óleos Vegetais', 2, 4350.4, 9, 2015), ('2024-12-31', 'Biomassa', 'Biocombustíveis líquidos', 'Óleos Vegetais', 1, 4030.4, 9, 2016), ('2024-12-31', 'Fóssil', 'Carvão mineral', 'Calor de Processo - CM', 1, 24400.0, 9, 2016), ('2024-12-31', 'Fóssil', 'Carvão mineral', 'Carvão Mineral', 13, 3389465.0, 9, 2016), ('2024-12-31', 'Biomassa', 'Floresta', 'Carvão Vegetal', 3, 25200.0, 12, 2012), ('2024-12-31', 'Biomassa', 'Floresta', 'Carvão Vegetal', 3, 25200.0, 12, 2013), ('2024-12-31', 'Biomassa', 'Floresta', 'Carvão Vegetal', 7, 51400.0, 12, 2014), ('2024-12-31', 'Biomassa', 'Floresta', 'Carvão Vegetal', 7, 51397.0, 12, 2015), ('2024-12-31', 'Biomassa', 'Floresta', 'Carvão Vegetal', 8, 54097.0, 12, 2016), ('2024-12-31', 'Biomassa', 'Floresta', 'Carvão Vegetal', 3, 25200.0, 3, 2012), ('2024-12-31', 'Biomassa', 'Floresta', 'Carvão Vegetal', 3, 25200.0, 3, 2013), ('2024-12-31', 'Biomassa', 'Floresta', 'Carvão Vegetal', 5, 35000.0, 3, 2014), ('2024-12-31', 'Biomassa', 'Floresta', 'Carvão Vegetal', 7, 51397.0, 3, 2015), ('2024-12-31', 'Biomassa', 'Floresta', 'Carvão Vegetal', 7, 51397.0, 3, 2016), ('2024-12-31', 'Biomassa', 'Floresta', 'Carvão Vegetal', 8, 54097.0, 3, 2017), ('2024-12-31', 'Biomassa', 'Floresta', 'Carvão Vegetal', 3, 25200.0, 6, 2012), ('2024-12-31', 'Biomassa', 'Floresta', 'Carvão Vegetal', 3, 25200.0, 6, 2013), ('2024-12-31', 'Biomassa', 'Floresta', 'Carvão Vegetal', 5, 35000.0, 6, 2014), ('2024-12-31', 'Biomassa', 'Floresta', 'Carvão Vegetal', 7, 51397.0, 6, 2015), ('2024-12-31', 'Biomassa', 'Floresta', 'Carvão Vegetal', 8, 54097.0, 6, 2016), ('2024-12-31', 'Biomassa', 'Floresta', 'Carvão Vegetal', 3, 25200.0, 9, 2012), ('2024-12-31', 'Biomassa', 'Floresta', 'Carvão Vegetal', 3, 25200.0, 9, 2013), ('2024-12-31', 'Biomassa', 'Floresta', 'Carvão Vegetal', 7, 54900.0, 9, 2014), ('2024-12-31', 'Biomassa', 'Floresta', 'Carvão Vegetal', 7, 51397.0, 9, 2015), ('2024-12-31', 'Biomassa', 'Floresta', 'Carvão Vegetal', 8, 54097.0, 9, 2016), ('2024-12-31', 'Biomassa', 'Floresta', 'Gás de Alto Forno - Biomassa', 0, 0.0, 12, 2012), ('2024-12-31', 'Biomassa', 'Floresta', 'Gás de Alto Forno - Biomassa', 0, 0.0, 12, 2013), ('2024-12-31', 'Biomassa', 'Floresta', 'Gás de Alto Forno - Biomassa', 7, 107865.0, 12, 2014), ('2024-12-31', 'Biomassa', 'Floresta', 'Gás de Alto Forno - Biomassa', 9, 111865.05, 12, 2015), ('2024-12-31', 'Biomassa', 'Floresta', 'Gás de Alto Forno - Biomassa', 11, 332265.05, 12, 2016), ('2024-12-31', 'Biomassa', 'Floresta', 'Gás de Alto Forno - Biomassa', 0, 0.0, 3, 2012), ('2024-12-31', 'Biomassa', 'Floresta', 'Gás de Alto Forno - Biomassa', 0, 0.0, 3, 2013), ('2024-12-31', 'Biomassa', 'Floresta', 'Gás de Alto Forno - Biomassa', 0, 0.0, 3, 2014), ('2024-12-31', 'Biomassa', 'Floresta', 'Gás de Alto Forno - Biomassa', 8, 109865.0, 3, 2015), ('2024-12-31', 'Biomassa', 'Floresta', 'Gás de Alto Forno - Biomassa', 10, 114265.05, 3, 2016), ('2024-12-31', 'Biomassa', 'Floresta', 'Gás de Alto Forno - Biomassa', 11, 332265.05, 3, 2017), ('2024-12-31', 'Biomassa', 'Floresta', 'Gás de Alto Forno - Biomassa', 0, 0.0, 6, 2012), ('2024-12-31', 'Biomassa', 'Floresta', 'Gás de Alto Forno - Biomassa', 0, 0.0, 6, 2013), ('2024-12-31', 'Biomassa', 'Floresta', 'Gás de Alto Forno - Biomassa', 0, 0.0, 6, 2014), ('2024-12-31', 'Biomassa', 'Floresta', 'Gás de Alto Forno - Biomassa', 8, 109865.0, 6, 2015), ('2024-12-31', 'Biomassa', 'Floresta', 'Gás de Alto Forno - Biomassa', 10, 114265.05, 6, 2016), ('2024-12-31', 'Biomassa', 'Floresta', 'Gás de Alto Forno - Biomassa', 0, 0.0, 9, 2012), ('2024-12-31', 'Biomassa', 'Floresta', 'Gás de Alto Forno - Biomassa', 0, 0.0, 9, 2013), ('2024-12-31', 'Biomassa', 'Floresta', 'Gás de Alto Forno - Biomassa', 5, 92865.0, 9, 2014), ('2024-12-31', 'Biomassa', 'Floresta', 'Gás de Alto Forno - Biomassa', 8, 109865.0, 9, 2015), ('2024-12-31', 'Biomassa', 'Floresta', 'Gás de Alto Forno - Biomassa', 10, 114265.05, 9, 2016), ('2024-12-31', 'Biomassa', 'Floresta', 'Lenha', 2, 14650.0, 12, 2016), ('2024-12-31', 'Biomassa', 'Floresta', 'Lenha', 2, 14650.0, 3, 2017), ('2024-12-31', 'Biomassa', 'Floresta', 'Lenha', 2, 14650.0, 9, 2016), ('2024-12-31', 'Biomassa', 'Floresta', 'Licor Negro', 14, 1235643.0, 12, 2012), ('2024-12-31', 'Biomassa', 'Floresta', 'Licor Negro', 17, 1568004.0, 12, 2013), ('2024-12-31', 'Biomassa', 'Floresta', 'Licor Negro', 17, 1785102.0, 12, 2014), ('2024-12-31', 'Biomassa', 'Floresta', 'Licor Negro', 17, 1978136.0, 12, 2015), ('2024-12-31', 'Biomassa', 'Floresta', 'Licor Negro', 17, 2261136.0, 12, 2016), ('2024-12-31', 'Biomassa', 'Floresta', 'Licor Negro', 14, 1245198.0, 3, 2012), ('2024-12-31', 'Biomassa', 'Floresta', 'Licor Negro', 14, 1246222.0, 3, 2013), ('2024-12-31', 'Biomassa', 'Floresta', 'Licor Negro', 16, 1530182.0, 3, 2014), ('2024-12-31', 'Biomassa', 'Floresta', 'Licor Negro', 17, 1785102.0, 3, 2015), ('2024-12-31', 'Biomassa', 'Floresta', 'Licor Negro', 17, 1978136.0, 3, 2016), ('2024-12-31', 'Biomassa', 'Floresta', 'Licor Negro', 17, 2261136.0, 3, 2017), ('2024-12-31', 'Biomassa', 'Floresta', 'Licor Negro', 14, 1245198.0, 6, 2012), ('2024-12-31', 'Biomassa', 'Floresta', 'Licor Negro', 15, 1304182.0, 6, 2013), ('2024-12-31', 'Biomassa', 'Floresta', 'Licor Negro', 17, 1657582.0, 6, 2014), ('2024-12-31', 'Biomassa', 'Floresta', 'Licor Negro', 17, 1885649.0, 6, 2015), ('2024-12-31', 'Biomassa', 'Floresta', 'Licor Negro', 16, 1931136.0, 6, 2016), ('2024-12-31', 'Biomassa', 'Floresta', 'Licor Negro', 14, 1235643.0, 9, 2012), ('2024-12-31', 'Biomassa', 'Floresta', 'Licor Negro', 16, 1417182.0, 9, 2013), ('2024-12-31', 'Biomassa', 'Floresta', 'Licor Negro', 17, 1785022.0, 9, 2014), ('2024-12-31', 'Biomassa', 'Floresta', 'Licor Negro', 17, 1978136.0, 9, 2015), ('2024-12-31', 'Biomassa', 'Floresta', 'Licor Negro', 17, 2261136.0, 9, 2016), ('2024-12-31', 'Biomassa', 'Floresta', 'Resíduos Florestais', 40, 322335.0, 12, 2012), ('2024-12-31', 'Biomassa', 'Floresta', 'Resíduos Florestais', 45, 367735.0, 12, 2013), ('2024-12-31', 'Biomassa', 'Floresta', 'Resíduos Florestais', 46, 357725.0, 12, 2014), ('2024-12-31', 'Biomassa', 'Floresta', 'Resíduos Florestais', 49, 381925.0, 12, 2015), ('2024-12-31', 'Biomassa', 'Floresta', 'Resíduos Florestais', 50, 386525.0, 12, 2016), ('2024-12-31', 'Biomassa', 'Floresta', 'Resíduos Florestais', 38, 319635.0, 3, 2012), ('2024-12-31', 'Biomassa', 'Floresta', 'Resíduos Florestais', 40, 322335.0, 3, 2013), ('2024-12-31', 'Biomassa', 'Floresta', 'Resíduos Florestais', 44, 365935.0, 3, 2014), ('2024-12-31', 'Biomassa', 'Floresta', 'Resíduos Florestais', 47, 358925.0, 3, 2015), ('2024-12-31', 'Biomassa', 'Floresta', 'Resíduos Florestais', 51, 397925.0, 3, 2016), ('2024-12-31', 'Biomassa', 'Floresta', 'Resíduos Florestais', 50, 386100.0, 3, 2017), ('2024-12-31', 'Biomassa', 'Floresta', 'Resíduos Florestais', 38, 319635.0, 6, 2012), ('2024-12-31', 'Biomassa', 'Floresta', 'Resíduos Florestais', 41, 354535.0, 6, 2013), ('2024-12-31', 'Biomassa', 'Floresta', 'Resíduos Florestais', 46, 370935.0, 6, 2014), ('2024-12-31', 'Biomassa', 'Floresta', 'Resíduos Florestais', 48, 361925.0, 6, 2015), ('2024-12-31', 'Biomassa', 'Floresta', 'Resíduos Florestais', 52, 401025.0, 6, 2016), ('2024-12-31', 'Biomassa', 'Floresta', 'Resíduos Florestais', 39, 321135.0, 9, 2012), ('2024-12-31', 'Biomassa', 'Floresta', 'Resíduos Florestais', 44, 365935.0, 9, 2013), ('2024-12-31', 'Biomassa', 'Floresta', 'Resíduos Florestais', 45, 340935.0, 9, 2014), ('2024-12-31', 'Biomassa', 'Floresta', 'Resíduos Florestais', 49, 381925.0, 9, 2015), ('2024-12-31', 'Biomassa', 'Floresta', 'Resíduos Florestais', 51, 389525.0, 9, 2016), ('2024-12-31', 'Biomassa', 'Resíduos animais', 'Biogás - RA', 0, 0.0, 12, 2012), ('2024-12-31', 'Biomassa', 'Resíduos animais', 'Biogás - RA', 0, 0.0, 12, 2013), ('2024-12-31', 'Biomassa', 'Resíduos animais', 'Biogás - RA', 12, 1361.0, 12, 2014), ('2024-12-31', 'Biomassa', 'Resíduos animais', 'Biogás - RA', 10, 1924.0, 12, 2015), ('2024-12-31', 'Biomassa', 'Resíduos animais', 'Biogás - RA', 11, 2099.2, 12, 2016), ('2024-12-31', 'Biomassa', 'Resíduos animais', 'Biogás - RA', 0, 0.0, 3, 2012), ('2024-12-31', 'Biomassa', 'Resíduos animais', 'Biogás - RA', 0, 0.0, 3, 2013), ('2024-12-31', 'Biomassa', 'Resíduos animais', 'Biogás - RA', 0, 0.0, 3, 2014), ('2024-12-31', 'Biomassa', 'Resíduos animais', 'Biogás - RA', 12, 2081.0, 3, 2015), ('2024-12-31', 'Biomassa', 'Resíduos animais', 'Biogás - RA', 10, 1924.0, 3, 2016), ('2024-12-31', 'Biomassa', 'Resíduos animais', 'Biogás - RA', 11, 2099.2, 3, 2017), ('2024-12-31', 'Biomassa', 'Resíduos animais', 'Biogás - RA', 0, 0.0, 6, 2012), ('2024-12-31', 'Biomassa', 'Resíduos animais', 'Biogás - RA', 0, 0.0, 6, 2013), ('2024-12-31', 'Biomassa', 'Resíduos animais', 'Biogás - RA', 0, 0.0, 6, 2014), ('2024-12-31', 'Biomassa', 'Resíduos animais', 'Biogás - RA', 9, 1804.0, 6, 2015), ('2024-12-31', 'Biomassa', 'Resíduos animais', 'Biogás - RA', 10, 1924.0, 6, 2016), ('2024-12-31', 'Biomassa', 'Resíduos animais', 'Biogás - RA', 0, 0.0, 9, 2012), ('2024-12-31', 'Biomassa', 'Resíduos animais', 'Biogás - RA', 0, 0.0, 9, 2013), ('2024-12-31', 'Biomassa', 'Resíduos animais', 'Biogás - RA', 10, 1164.0, 9, 2014), ('2024-12-31', 'Biomassa', 'Resíduos animais', 'Biogás - RA', 9, 1804.0, 9, 2015), ('2024-12-31', 'Biomassa', 'Resíduos animais', 'Biogás - RA', 11, 2099.2, 9, 2016), ('2024-12-31', 'Biomassa', 'Resíduos sólidos urbanos', 'Biogás - RU', 0, 0.0, 12, 2012), ('2024-12-31', 'Biomassa', 'Resíduos sólidos urbanos', 'Biogás - RU', 0, 0.0, 12, 2013), ('2024-12-31', 'Biomassa', 'Resíduos sólidos urbanos', 'Biogás - RU', 11, 66971.0, 12, 2014), ('2024-12-31', 'Biomassa', 'Resíduos sólidos urbanos', 'Biogás - RU', 12, 75151.0, 12, 2015), ('2024-12-31', 'Biomassa', 'Resíduos sólidos urbanos', 'Biogás - RU', 15, 114680.0, 12, 2016), ('2024-12-31', 'Biomassa', 'Resíduos sólidos urbanos', 'Biogás - RU', 0, 0.0, 3, 2012), ('2024-12-31', 'Biomassa', 'Resíduos sólidos urbanos', 'Biogás - RU', 0, 0.0, 3, 2013), ('2024-12-31', 'Biomassa', 'Resíduos sólidos urbanos', 'Biogás - RU', 0, 0.0, 3, 2014), ('2024-12-31', 'Biomassa', 'Resíduos sólidos urbanos', 'Biogás - RU', 10, 62317.0, 3, 2015), ('2024-12-31', 'Biomassa', 'Resíduos sólidos urbanos', 'Biogás - RU', 14, 83699.0, 3, 2016), ('2024-12-31', 'Biomassa', 'Resíduos sólidos urbanos', 'Biogás - RU', 15, 114680.0, 3, 2017), ('2024-12-31', 'Biomassa', 'Resíduos sólidos urbanos', 'Biogás - RU', 0, 0.0, 6, 2012), ('2024-12-31', 'Biomassa', 'Resíduos sólidos urbanos', 'Biogás - RU', 0, 0.0, 6, 2013), ('2024-12-31', 'Biomassa', 'Resíduos sólidos urbanos', 'Biogás - RU', 0, 0.0, 6, 2014), ('2024-12-31', 'Biomassa', 'Resíduos sólidos urbanos', 'Biogás - RU', 11, 70873.0, 6, 2015), ('2024-12-31', 'Biomassa', 'Resíduos sólidos urbanos', 'Biogás - RU', 14, 83699.0, 6, 2016), ('2024-12-31', 'Biomassa', 'Resíduos sólidos urbanos', 'Biogás - RU', 0, 0.0, 9, 2012), ('2024-12-31', 'Biomassa', 'Resíduos sólidos urbanos', 'Biogás - RU', 0, 0.0, 9, 2013), ('2024-12-31', 'Biomassa', 'Resíduos sólidos urbanos', 'Biogás - RU', 11, 66971.0, 9, 2014), ('2024-12-31', 'Biomassa', 'Resíduos sólidos urbanos', 'Biogás - RU', 11, 70873.0, 9, 2015), ('2024-12-31', 'Biomassa', 'Resíduos sólidos urbanos', 'Biogás - RU', 15, 113246.0, 9, 2016), ('2024-12-31', 'Biomassa', 'Resíduos sólidos urbanos', 'Carvão - RU', 1, 2700.0, 3, 2017), ('2024-12-31', 'Fóssil', 'Carvão mineral', 'Calor de Processo - CM', 0, 0.0, 12, 2012), ('2024-12-31', 'Fóssil', 'Carvão mineral', 'Calor de Processo - CM', 0, 0.0, 12, 2013), ('2024-12-31', 'Fóssil', 'Carvão mineral', 'Calor de Processo - CM', 1, 24400.0, 12, 2014), ('2024-12-31', 'Fóssil', 'Carvão mineral', 'Calor de Processo - CM', 1, 24400.0, 12, 2015), ('2024-12-31', 'Fóssil', 'Carvão mineral', 'Calor de Processo - CM', 1, 24400.0, 12, 2016), ('2024-12-31', 'Fóssil', 'Carvão mineral', 'Calor de Processo - CM', 0, 0.0, 3, 2012), ('2024-12-31', 'Fóssil', 'Carvão mineral', 'Calor de Processo - CM', 0, 0.0, 3, 2013), ('2024-12-31', 'Fóssil', 'Carvão mineral', 'Calor de Processo - CM', 0, 0.0, 3, 2014), ('2024-12-31', 'Fóssil', 'Carvão mineral', 'Calor de Processo - CM', 1, 24400.0, 3, 2015), ('2024-12-31', 'Fóssil', 'Carvão mineral', 'Calor de Processo - CM', 1, 24400.0, 3, 2016), ('2024-12-31', 'Fóssil', 'Carvão mineral', 'Calor de Processo - CM', 1, 24400.0, 3, 2017), ('2024-12-31', 'Fóssil', 'Carvão mineral', 'Calor de Processo - CM', 0, 0.0, 6, 2012), ('2024-12-31', 'Fóssil', 'Carvão mineral', 'Calor de Processo - CM', 0, 0.0, 6, 2013), ('2024-12-31', 'Fóssil', 'Carvão mineral', 'Calor de Processo - CM', 0, 0.0, 6, 2014), ('2024-12-31', 'Fóssil', 'Carvão mineral', 'Calor de Processo - CM', 1, 24400.0, 6, 2015), ('2024-12-31', 'Fóssil', 'Carvão mineral', 'Calor de Processo - CM', 1, 24400.0, 6, 2016), ('2024-12-31', 'Fóssil', 'Carvão mineral', 'Calor de Processo - CM', 0, 0.0, 9, 2012), ('2024-12-31', 'Fóssil', 'Carvão mineral', 'Calor de Processo - CM', 0, 0.0, 9, 2013), ('2024-12-31', 'Fóssil', 'Carvão mineral', 'Calor de Processo - CM', 1, 24400.0, 9, 2014), ('2024-12-31', 'Fóssil', 'Carvão mineral', 'Calor de Processo - CM', 1, 24400.0, 9, 2015), ('2024-12-31', 'Fóssil', 'Carvão mineral', 'Carvão Mineral', 11, 2304191.0, 12, 2012), ('2024-12-31', 'Fóssil', 'Carvão mineral', 'Carvão Mineral', 13, 3389465.0, 12, 2013), ('2024-12-31', 'Fóssil', 'Carvão mineral', 'Carvão Mineral', 13, 3389465.0, 12, 2014), ('2024-12-31', 'Fóssil', 'Carvão mineral', 'Carvão Mineral', 13, 3389465.0, 12, 2015), ('2024-12-31', 'Fóssil', 'Carvão mineral', 'Carvão Mineral', 13, 3389465.0, 12, 2016), ('2024-12-31', 'Fóssil', 'Carvão mineral', 'Carvão Mineral', 10, 1944054.0, 3, 2012), ('2024-12-31', 'Fóssil', 'Carvão mineral', 'Carvão Mineral', 12, 2664328.0, 3, 2013), ('2024-12-31', 'Fóssil', 'Carvão mineral', 'Carvão Mineral', 13, 3389465.0, 3, 2014), ('2024-12-31', 'Fóssil', 'Carvão mineral', 'Carvão Mineral', 13, 3389465.0, 3, 2015), ('2024-12-31', 'Fóssil', 'Carvão mineral', 'Carvão Mineral', 13, 3389465.0, 3, 2016), ('2024-12-31', 'Fóssil', 'Carvão mineral', 'Carvão Mineral', 13, 3389465.0, 3, 2017), ('2024-12-31', 'Fóssil', 'Carvão mineral', 'Carvão Mineral', 10, 1944054.0, 6, 2012), ('2024-12-31', 'Fóssil', 'Carvão mineral', 'Carvão Mineral', 12, 3024465.0, 6, 2013), ('2024-12-31', 'Fóssil', 'Carvão mineral', 'Carvão Mineral', 13, 3389465.0, 6, 2014), ('2024-12-31', 'Fóssil', 'Carvão mineral', 'Carvão Mineral', 13, 3389465.0, 6, 2015), ('2024-12-31', 'Fóssil', 'Carvão mineral', 'Carvão Mineral', 13, 3389465.0, 6, 2016), ('2024-12-31', 'Fóssil', 'Carvão mineral', 'Carvão Mineral', 10, 1944054.0, 9, 2012), ('2024-12-31', 'Fóssil', 'Carvão mineral', 'Carvão Mineral', 12, 3024465.0, 9, 2013), ('2024-12-31', 'Fóssil', 'Carvão mineral', 'Carvão Mineral', 13, 3389465.0, 9, 2014), ('2024-12-31', 'Fóssil', 'Carvão mineral', 'Carvão Mineral', 13, 3389465.0, 9, 2015), ('2024-12-31', 'Fóssil', 'Carvão mineral', 'Gás de Alto Forno - CM', 15, 304555.0, 12, 2012), ('2024-12-31', 'Fóssil', 'Carvão mineral', 'Gás de Alto Forno - CM', 15, 308555.0, 12, 2013), ('2024-12-31', 'Fóssil', 'Carvão mineral', 'Gás de Alto Forno - CM', 8, 179290.0, 12, 2014), ('2024-12-31', 'Fóssil', 'Carvão mineral', 'Gás de Alto Forno - CM', 8, 198290.0, 12, 2015), ('2024-12-31', 'Fóssil', 'Carvão mineral', 'Gás de Alto Forno - CM', 9, 199130.0, 12, 2016), ('2024-12-31', 'Fóssil', 'Carvão mineral', 'Gás de Alto Forno - CM', 15, 304555.0, 3, 2012), ('2024-12-31', 'Fóssil', 'Carvão mineral', 'Gás de Alto Forno - CM', 15, 308555.0, 3, 2013), ('2024-12-31', 'Fóssil', 'Carvão mineral', 'Gás de Alto Forno - CM', 17, 330555.0, 3, 2014), ('2024-12-31', 'Fóssil', 'Carvão mineral', 'Gás de Alto Forno - CM', 9, 200290.0, 3, 2015), ('2024-12-31', 'Fóssil', 'Carvão mineral', 'Gás de Alto Forno - CM', 8, 198290.0, 3, 2016), ('2024-12-31', 'Fóssil', 'Carvão mineral', 'Gás de Alto Forno - CM', 9, 199130.0, 3, 2017), ('2024-12-31', 'Fóssil', 'Carvão mineral', 'Gás de Alto Forno - CM', 15, 304555.0, 6, 2012), ('2024-12-31', 'Fóssil', 'Carvão mineral', 'Gás de Alto Forno - CM', 15, 308555.0, 6, 2013), ('2024-12-31', 'Fóssil', 'Carvão mineral', 'Gás de Alto Forno - CM', 17, 330555.0, 6, 2014), ('2024-12-31', 'Fóssil', 'Carvão mineral', 'Gás de Alto Forno - CM', 9, 200290.0, 6, 2015), ('2024-12-31', 'Fóssil', 'Carvão mineral', 'Gás de Alto Forno - CM', 8, 198290.0, 6, 2016), ('2024-12-31', 'Fóssil', 'Carvão mineral', 'Gás de Alto Forno - CM', 15, 304555.0, 9, 2012), ('2024-12-31', 'Fóssil', 'Carvão mineral', 'Gás de Alto Forno - CM', 15, 308555.0, 9, 2013), ('2024-12-31', 'Fóssil', 'Carvão mineral', 'Gás de Alto Forno - CM', 8, 179290.0, 9, 2014), ('2024-12-31', 'Fóssil', 'Carvão mineral', 'Gás de Alto Forno - CM', 9, 200290.0, 9, 2015), ('2024-12-31', 'Fóssil', 'Carvão mineral', 'Gás de Alto Forno - CM', 9, 199130.0, 9, 2016), ('2024-12-31', 'Fóssil', 'Gás natural', 'Calor de Processo - GN', 10, 875020.0, 12, 2012), ('2024-12-31', 'Fóssil', 'Gás natural', 'Calor de Processo - GN', 11, 899520.0, 12, 2013), ('2024-12-31', 'Fóssil', 'Gás natural', 'Calor de Processo - GN', 1, 40000.0, 12, 2014), ('2024-12-31', 'Fóssil', 'Gás natural', 'Calor de Processo - GN', 1, 40000.0, 12, 2015), ('2024-12-31', 'Fóssil', 'Gás natural', 'Calor de Processo - GN', 1, 40000.0, 12, 2016), ('2024-12-31', 'Fóssil', 'Gás natural', 'Calor de Processo - GN', 10, 928120.0, 3, 2012), ('2024-12-31', 'Fóssil', 'Gás natural', 'Calor de Processo - GN', 10, 875020.0, 3, 2013), ('2024-12-31', 'Fóssil', 'Gás natural', 'Calor de Processo - GN', 11, 899520.0, 3, 2014), ('2024-12-31', 'Fóssil', 'Gás natural', 'Calor de Processo - GN', 1, 40000.0, 3, 2015), ('2024-12-31', 'Fóssil', 'Gás natural', 'Calor de Processo - GN', 1, 40000.0, 3, 2016), ('2024-12-31', 'Fóssil', 'Gás natural', 'Calor de Processo - GN', 1, 40000.0, 3, 2017), ('2024-12-31', 'Fóssil', 'Gás natural', 'Calor de Processo - GN', 10, 928120.0, 6, 2012), ('2024-12-31', 'Fóssil', 'Gás natural', 'Calor de Processo - GN', 11, 899520.0, 6, 2013), ('2024-12-31', 'Fóssil', 'Gás natural', 'Calor de Processo - GN', 11, 899520.0, 6, 2014), ('2024-12-31', 'Fóssil', 'Gás natural', 'Calor de Processo - GN', 1, 40000.0, 6, 2015), ('2024-12-31', 'Fóssil', 'Gás natural', 'Calor de Processo - GN', 1, 40000.0, 6, 2016), ('2024-12-31', 'Fóssil', 'Gás natural', 'Calor de Processo - GN', 10, 928120.0, 9, 2012), ('2024-12-31', 'Fóssil', 'Gás natural', 'Calor de Processo - GN', 11, 899520.0, 9, 2013), ('2024-12-31', 'Fóssil', 'Gás natural', 'Calor de Processo - GN', 1, 40000.0, 9, 2014), ('2024-12-31', 'Fóssil', 'Gás natural', 'Calor de Processo - GN', 1, 40000.0, 9, 2015), ('2024-12-31', 'Fóssil', 'Gás natural', 'Calor de Processo - GN', 1, 40000.0, 9, 2016), ('2024-12-31', 'Fóssil', 'Gás natural', 'Gás Natural', 105, 11415492.8, 12, 2012), ('2024-12-31', 'Fóssil', 'Gás natural', 'Gás Natural', 113, 12170185.8, 12, 2013), ('2024-12-31', 'Fóssil', 'Gás natural', 'Gás Natural', 121, 12549996.0, 12, 2014), ('2024-12-31', 'Fóssil', 'Gás natural', 'Gás Natural', 145, 12387681.74, 12, 2015), ('2024-12-31', 'Fóssil', 'Gás natural', 'Gás Natural', 155, 12964385.54, 12, 2016), ('2024-12-31', 'Fóssil', 'Gás natural', 'Gás Natural', 105, 11429702.8, 3, 2012), ('2024-12-31', 'Fóssil', 'Gás natural', 'Gás Natural', 109, 12000829.8, 3, 2013), ('2024-12-31', 'Fóssil', 'Gás natural', 'Gás Natural', 116, 12534520.8, 3, 2014), ('2024-12-31', 'Fóssil', 'Gás natural', 'Gás Natural', 135, 12852650.0, 3, 2015), ('2024-12-31', 'Fóssil', 'Gás natural', 'Gás Natural', 147, 12387682.0, 3, 2016), ('2024-12-31', 'Fóssil', 'Gás natural', 'Gás Natural', 159, 12968689.22, 3, 2017), ('2024-12-31', 'Fóssil', 'Gás natural', 'Gás Natural', 106, 11561812.8, 6, 2012), ('2024-12-31', 'Fóssil', 'Gás natural', 'Gás Natural', 110, 11936348.8, 6, 2013), ('2024-12-31', 'Fóssil', 'Gás natural', 'Gás Natural', 115, 12533616.0, 6, 2014), ('2024-12-31', 'Fóssil', 'Gás natural', 'Gás Natural', 138, 12853261.26, 6, 2015), ('2024-12-31', 'Fóssil', 'Gás natural', 'Gás Natural', 151, 12996356.94, 6, 2016), ('2024-12-31', 'Fóssil', 'Gás natural', 'Gás Natural', 105, 11550013.0, 9, 2012), ('2024-12-31', 'Fóssil', 'Gás natural', 'Gás Natural', 110, 11936348.8, 9, 2013), ('2024-12-31', 'Fóssil', 'Gás natural', 'Gás Natural', 117, 12541000.0, 9, 2014), ('2024-12-31', 'Fóssil', 'Gás natural', 'Gás Natural', 141, 12864356.86, 9, 2015), ('2024-12-31', 'Fóssil', 'Gás natural', 'Gás Natural', 151, 12978018.54, 9, 2016), ('2024-12-31', 'Fóssil', 'Outros Fósseis', 'Calor de Processo - OF', 10, 356191.0, 12, 2012), ('2024-12-31', 'Fóssil', 'Outros Fósseis', 'Calor de Processo - OF', 37, 365863.0, 12, 2013), ('2024-12-31', 'Fóssil', 'Outros Fósseis', 'Calor de Processo - OF', 2, 149300.0, 12, 2014), ('2024-12-31', 'Fóssil', 'Outros Fósseis', 'Calor de Processo - OF', 1, 147300.0, 12, 2015), ('2024-12-31', 'Fóssil', 'Outros Fósseis', 'Calor de Processo - OF', 1, 147300.0, 12, 2016), ('2024-12-31', 'Fóssil', 'Outros Fósseis', 'Calor de Processo - OF', 8, 402008.0, 3, 2012), ('2024-12-31', 'Fóssil', 'Outros Fósseis', 'Calor de Processo - OF', 7, 352788.0, 3, 2013), ('2024-12-31', 'Fóssil', 'Outros Fósseis', 'Calor de Processo - OF', 31, 272563.0, 3, 2014), ('2024-12-31', 'Fóssil', 'Outros Fósseis', 'Calor de Processo - OF', 1, 147300.0, 3, 2015), ('2024-12-31', 'Fóssil', 'Outros Fósseis', 'Calor de Processo - OF', 1, 147300.0, 3, 2016), ('2024-12-31', 'Fóssil', 'Outros Fósseis', 'Calor de Processo - OF', 1, 147300.0, 3, 2017), ('2024-12-31', 'Fóssil', 'Outros Fósseis', 'Calor de Processo - OF', 10, 405411.0, 6, 2012), ('2024-12-31', 'Fóssil', 'Outros Fósseis', 'Calor de Processo - OF', 8, 352788.0, 6, 2013), ('2024-12-31', 'Fóssil', 'Outros Fósseis', 'Calor de Processo - OF', 7, 221788.0, 6, 2014), ('2024-12-31', 'Fóssil', 'Outros Fósseis', 'Calor de Processo - OF', 1, 147300.0, 6, 2015), ('2024-12-31', 'Fóssil', 'Outros Fósseis', 'Calor de Processo - OF', 1, 147300.0, 6, 2016), ('2024-12-31', 'Fóssil', 'Outros Fósseis', 'Calor de Processo - OF', 10, 405411.0, 9, 2012), ('2024-12-31', 'Fóssil', 'Outros Fósseis', 'Calor de Processo - OF', 9, 354708.0, 9, 2013), ('2024-12-31', 'Fóssil', 'Outros Fósseis', 'Calor de Processo - OF', 2, 149300.0, 9, 2014), ('2024-12-31', 'Fóssil', 'Outros Fósseis', 'Calor de Processo - OF', 1, 147300.0, 9, 2015), ('2024-12-31', 'Fóssil', 'Outros Fósseis', 'Calor de Processo - OF', 1, 147300.0, 9, 2016), ('2024-12-31', 'Fóssil', 'Petróleo', 'Gás de Refinaria', 8, 341600.0, 12, 2012), ('2024-12-31', 'Fóssil', 'Petróleo', 'Gás de Refinaria', 6, 253800.0, 12, 2013), ('2024-12-31', 'Fóssil', 'Petróleo', 'Gás de Refinaria', 7, 339960.0, 12, 2014), ('2024-12-31', 'Fóssil', 'Petróleo', 'Gás de Refinaria', 7, 339960.0, 12, 2015), ('2024-12-31', 'Fóssil', 'Petróleo', 'Gás de Refinaria', 7, 339960.0, 12, 2016), ('2024-12-31', 'Fóssil', 'Petróleo', 'Gás de Refinaria', 8, 305000.0, 3, 2012), ('2024-12-31', 'Fóssil', 'Petróleo', 'Gás de Refinaria', 7, 278300.0, 3, 2013), ('2024-12-31', 'Fóssil', 'Petróleo', 'Gás de Refinaria', 6, 295560.0, 3, 2014), ('2024-12-31', 'Fóssil', 'Petróleo', 'Gás de Refinaria', 7, 339960.0, 3, 2015), ('2024-12-31', 'Fóssil', 'Petróleo', 'Gás de Refinaria', 7, 339960.0, 3, 2016), ('2024-12-31', 'Fóssil', 'Petróleo', 'Gás de Refinaria', 6, 315560.0, 3, 2017), ('2024-12-31', 'Fóssil', 'Petróleo', 'Gás de Refinaria', 8, 328000.0, 6, 2012), ('2024-12-31', 'Fóssil', 'Petróleo', 'Gás de Refinaria', 6, 253800.0, 6, 2013), ('2024-12-31', 'Fóssil', 'Petróleo', 'Gás de Refinaria', 6, 295560.0, 6, 2014), ('2024-12-31', 'Fóssil', 'Petróleo', 'Gás de Refinaria', 7, 339960.0, 6, 2015), ('2024-12-31', 'Fóssil', 'Petróleo', 'Gás de Refinaria', 7, 339960.0, 6, 2016), ('2024-12-31', 'Fóssil', 'Petróleo', 'Gás de Refinaria', 8, 328000.0, 9, 2012), ('2024-12-31', 'Fóssil', 'Petróleo', 'Gás de Refinaria', 6, 253800.0, 9, 2013), ('2024-12-31', 'Fóssil', 'Petróleo', 'Gás de Refinaria', 7, 339960.0, 9, 2014), ('2024-12-31', 'Fóssil', 'Petróleo', 'Gás de Refinaria', 7, 339960.0, 9, 2015), ('2024-12-31', 'Fóssil', 'Petróleo', 'Gás de Refinaria', 7, 339960.0, 9, 2016), ('2024-12-31', 'Fóssil', 'Petróleo', 'Óleo Combustível', 34, 3794511.0, 12, 2012), ('2024-12-31', 'Fóssil', 'Petróleo', 'Óleo Combustível', 34, 4022613.0, 12, 2013), ('2024-12-31', 'Fóssil', 'Petróleo', 'Óleo Combustível', 34, 4083973.0, 12, 2014), ('2024-12-31', 'Fóssil', 'Petróleo', 'Óleo Combustível', 41, 4537095.35, 12, 2015), ('2024-12-31', 'Fóssil', 'Petróleo', 'Óleo Combustível', 41, 4056773.0, 12, 2016), ('2024-12-31', 'Fóssil', 'Petróleo', 'Óleo Combustível', 34, 3805311.0, 3, 2012), ('2024-12-31', 'Fóssil', 'Petróleo', 'Óleo Combustível', 34, 4119647.0, 3, 2013), ('2024-12-31', 'Fóssil', 'Petróleo', 'Óleo Combustível', 33, 4083613.0, 3, 2014), ('2024-12-31', 'Fóssil', 'Petróleo', 'Óleo Combustível', 39, 3935151.47, 3, 2015), ('2024-12-31', 'Fóssil', 'Petróleo', 'Óleo Combustível', 41, 4141353.0, 3, 2016), ('2024-12-31', 'Fóssil', 'Petróleo', 'Óleo Combustível', 43, 4056847.0, 3, 2017), ('2024-12-31', 'Fóssil', 'Petróleo', 'Óleo Combustível', 34, 3805311.0, 6, 2012), ('2024-12-31', 'Fóssil', 'Petróleo', 'Óleo Combustível', 33, 3837647.0, 6, 2013), ('2024-12-31', 'Fóssil', 'Petróleo', 'Óleo Combustível', 33, 4083613.0, 6, 2014), ('2024-12-31', 'Fóssil', 'Petróleo', 'Óleo Combustível', 40, 4481713.29, 6, 2015), ('2024-12-31', 'Fóssil', 'Petróleo', 'Óleo Combustível', 40, 4055973.0, 6, 2016), ('2024-12-31', 'Fóssil', 'Petróleo', 'Óleo Combustível', 34, 3805311.0, 9, 2012), ('2024-12-31', 'Fóssil', 'Petróleo', 'Óleo Combustível', 33, 3817823.0, 9, 2013), ('2024-12-31', 'Fóssil', 'Petróleo', 'Óleo Combustível', 34, 4083973.0, 9, 2014), ('2024-12-31', 'Fóssil', 'Petróleo', 'Óleo Combustível', 40, 4516410.55, 9, 2015), ('2024-12-31', 'Fóssil', 'Petróleo', 'Óleo Combustível', 40, 4055973.0, 9, 2016), ('2024-12-31', 'Fóssil', 'Petróleo', 'Óleo Diesel', 964, 3421063.63, 12, 2012), ('2024-12-31', 'Fóssil', 'Petróleo', 'Óleo Diesel', 1112, 3657158.0, 12, 2013), ('2024-12-31', 'Fóssil', 'Petróleo', 'Óleo Diesel', 1180, 3583585.0, 12, 2014), ('2024-12-31', 'Fóssil', 'Petróleo', 'Óleo Diesel', 2103, 4141353.0, 12, 2015), ('2024-12-31', 'Fóssil', 'Petróleo', 'Óleo Diesel', 2169, 4802285.22, 12, 2016), ('2024-12-31', 'Fóssil', 'Petróleo', 'Óleo Diesel', 914, 3227874.72, 3, 2012), ('2024-12-31', 'Fóssil', 'Petróleo', 'Óleo Diesel', 998, 3466974.43, 3, 2013), ('2024-12-31', 'Fóssil', 'Petróleo', 'Óleo Diesel', 1118, 3527328.44, 3, 2014), ('2024-12-31', 'Fóssil', 'Petróleo', 'Óleo Diesel', 1563, 4090553.0, 3, 2015), ('2024-12-31', 'Fóssil', 'Petróleo', 'Óleo Diesel', 2127, 4574815.0, 3, 2016), ('2024-12-31', 'Fóssil', 'Petróleo', 'Óleo Diesel', 2166, 4802599.54, 3, 2017), ('2024-12-31', 'Fóssil', 'Petróleo', 'Óleo Diesel', 928, 3231546.92, 6, 2012), ('2024-12-31', 'Fóssil', 'Petróleo', 'Óleo Diesel', 1068, 3490590.83, 6, 2013), ('2024-12-31', 'Fóssil', 'Petróleo', 'Óleo Diesel', 1171, 3571954.0, 6, 2014), ('2024-12-31', 'Fóssil', 'Petróleo', 'Óleo Diesel', 1974, 4091353.0, 6, 2015), ('2024-12-31', 'Fóssil', 'Petróleo', 'Óleo Diesel', 2135, 4614693.97, 6, 2016), ('2024-12-31', 'Fóssil', 'Petróleo', 'Óleo Diesel', 942, 3394829.0, 9, 2012), ('2024-12-31', 'Fóssil', 'Petróleo', 'Óleo Diesel', 1086, 3509702.27, 9, 2013), ('2024-12-31', 'Fóssil', 'Petróleo', 'Óleo Diesel', 1177, 3594498.0, 9, 2014), ('2024-12-31', 'Fóssil', 'Petróleo', 'Óleo Diesel', 2069, 4091353.0, 9, 2015), ('2024-12-31', 'Fóssil', 'Petróleo', 'Óleo Diesel', 2153, 4692443.57, 9, 2016), ('2024-12-31', 'Fóssil', 'Petróleo', 'Outros Energéticos de Petróleo', 0, 0.0, 12, 2012), ('2024-12-31', 'Fóssil', 'Petróleo', 'Outros Energéticos de Petróleo', 0, 0.0, 12, 2013), ('2024-12-31', 'Fóssil', 'Petróleo', 'Outros Energéticos de Petróleo', 15, 925208.0, 12, 2014), ('2024-12-31', 'Fóssil', 'Petróleo', 'Outros Energéticos de Petróleo', 16, 937928.0, 12, 2015), ('2024-12-31', 'Fóssil', 'Petróleo', 'Outros Energéticos de Petróleo', 17, 955928.0, 12, 2016), ('2024-12-31', 'Fóssil', 'Petróleo', 'Outros Energéticos de Petróleo', 0, 0.0, 3, 2012), ('2024-12-31', 'Fóssil', 'Petróleo', 'Outros Energéticos de Petróleo', 0, 0.0, 3, 2013), ('2024-12-31', 'Fóssil', 'Petróleo', 'Outros Energéticos de Petróleo', 0, 0.0, 3, 2014), ('2024-12-31', 'Fóssil', 'Petróleo', 'Outros Energéticos de Petróleo', 16, 937928.0, 3, 2015), ('2024-12-31', 'Fóssil', 'Petróleo', 'Outros Energéticos de Petróleo', 16, 937928.0, 3, 2016), ('2024-12-31', 'Fóssil', 'Petróleo', 'Outros Energéticos de Petróleo', 18, 980328.0, 3, 2017), ('2024-12-31', 'Fóssil', 'Petróleo', 'Outros Energéticos de Petróleo', 0, 0.0, 6, 2012), ('2024-12-31', 'Fóssil', 'Petróleo', 'Outros Energéticos de Petróleo', 0, 0.0, 6, 2013), ('2024-12-31', 'Fóssil', 'Petróleo', 'Outros Energéticos de Petróleo', 0, 0.0, 6, 2014), ('2024-12-31', 'Fóssil', 'Petróleo', 'Outros Energéticos de Petróleo', 16, 937928.0, 6, 2015), ('2024-12-31', 'Fóssil', 'Petróleo', 'Outros Energéticos de Petróleo', 17, 955928.0, 6, 2016), ('2024-12-31', 'Fóssil', 'Petróleo', 'Outros Energéticos de Petróleo', 0, 0.0, 9, 2012), ('2024-12-31', 'Fóssil', 'Petróleo', 'Outros Energéticos de Petróleo', 0, 0.0, 9, 2013), ('2024-12-31', 'Fóssil', 'Petróleo', 'Outros Energéticos de Petróleo', 15, 925208.0, 9, 2014), ('2024-12-31', 'Fóssil', 'Petróleo', 'Outros Energéticos de Petróleo', 16, 937928.0, 9, 2015), ('2024-12-31', 'Fóssil', 'Petróleo', 'Outros Energéticos de Petróleo', 17, 955928.0, 9, 2016), ('2024-12-31', 'Biomassa', 'Agroindustriais', 'Bagaço de Cana de Açúcar', 397, 11020810.2, 6, 2017), ('2024-12-31', 'Biomassa', 'Agroindustriais', 'Biogás - AGR', 3, 1822.0, 6, 2017), ('2024-12-31', 'Biomassa', 'Agroindustriais', 'Capim Elefante', 3, 65700.0, 6, 2017), ('2024-12-31', 'Biomassa', 'Agroindustriais', 'Casca de Arroz', 12, 45333.0, 6, 2017), ('2024-12-31', 'Biomassa', 'Biocombustíveis líquidos', 'Etanol', 1, 320.0, 6, 2017), ('2024-12-31', 'Biomassa', 'Biocombustíveis líquidos', 'Óleos Vegetais', 2, 4350.4, 6, 2017), ('2024-12-31', 'Biomassa', 'Floresta', 'Carvão Vegetal', 7, 41197.0, 6, 2017), ('2024-12-31', 'Biomassa', 'Floresta', 'Gás de Alto Forno - Biomassa', 10, 114265.05, 6, 2017), ('2024-12-31', 'Biomassa', 'Floresta', 'Lenha', 2, 14650.0, 6, 2017), ('2024-12-31', 'Biomassa', 'Floresta', 'Licor Negro', 17, 2261136.0, 6, 2017), ('2024-12-31', 'Biomassa', 'Floresta', 'Resíduos Florestais', 50, 386100.0, 6, 2017), ('2024-12-31', 'Biomassa', 'Resíduos animais', 'Biogás - RA', 11, 2099.2, 6, 2017), ('2024-12-31', 'Biomassa', 'Resíduos sólidos urbanos', 'Biogás - RU', 16, 117532.0, 6, 2017), ('2024-12-31', 'Biomassa', 'Resíduos sólidos urbanos', 'Carvão - RU', 1, 2700.0, 6, 2017), ('2024-12-31', 'Fóssil', 'Carvão mineral', 'Calor de Processo - CM', 1, 24400.0, 6, 2017), ('2024-12-31', 'Fóssil', 'Carvão mineral', 'Carvão Mineral', 12, 3317465.0, 6, 2017), ('2024-12-31', 'Fóssil', 'Carvão mineral', 'Gás de Alto Forno - CM', 9, 390130.0, 6, 2017), ('2024-12-31', 'Fóssil', 'Gás natural', 'Calor de Processo - GN', 1, 40000.0, 6, 2017), ('2024-12-31', 'Fóssil', 'Gás natural', 'Gás Natural', 162, 12977729.22, 6, 2017), ('2024-12-31', 'Fóssil', 'Outros Fósseis', 'Calor de Processo - OF', 1, 147300.0, 6, 2017), ('2024-12-31', 'Fóssil', 'Petróleo', 'Gás de Refinaria', 6, 315560.0, 6, 2017), ('2024-12-31', 'Fóssil', 'Petróleo', 'Óleo Combustível', 69, 4057968.98, 6, 2017), ('2024-12-31', 'Fóssil', 'Petróleo', 'Óleo Diesel', 2115, 4692159.34, 6, 2017), ('2024-12-31', 'Fóssil', 'Petróleo', 'Outros Energéticos de Petróleo', 18, 980328.0, 6, 2017), ('2024-12-31', 'Biomassa', 'Agroindustriais', 'Bagaço de Cana de Açúcar', 400, 11157935.2, 12, 2017), ('2024-12-31', 'Biomassa', 'Agroindustriais', 'Biogás - AGR', 3, 1822.0, 12, 2017), ('2024-12-31', 'Biomassa', 'Agroindustriais', 'Capim Elefante', 3, 65700.0, 12, 2017), ('2024-12-31', 'Biomassa', 'Agroindustriais', 'Casca de Arroz', 12, 45333.0, 12, 2017), ('2024-12-31', 'Biomassa', 'Biocombustíveis líquidos', 'Etanol', 1, 320.0, 12, 2017), ('2024-12-31', 'Biomassa', 'Biocombustíveis líquidos', 'Óleos Vegetais', 2, 4350.4, 12, 2017), ('2024-12-31', 'Biomassa', 'Floresta', 'Carvão Vegetal', 8, 43197.0, 12, 2017), ('2024-12-31', 'Biomassa', 'Floresta', 'Gás de Alto Forno - Biomassa', 10, 114265.05, 12, 2017), ('2024-12-31', 'Biomassa', 'Floresta', 'Lenha', 4, 23900.0, 12, 2017), ('2024-12-31', 'Biomassa', 'Floresta', 'Licor Negro', 18, 2542616.0, 12, 2017), ('2024-12-31', 'Biomassa', 'Floresta', 'Resíduos Florestais', 55, 425197.0, 12, 2017), ('2024-12-31', 'Biomassa', 'Resíduos animais', 'Biogás - RA', 14, 4481.2, 12, 2017), ('2024-12-31', 'Biomassa', 'Resíduos sólidos urbanos', 'Biogás - RU', 19, 128850.6, 12, 2017), ('2024-12-31', 'Biomassa', 'Resíduos sólidos urbanos', 'Carvão - RU', 1, 2700.0, 12, 2017), ('2024-12-31', 'Fóssil', 'Carvão mineral', 'Calor de Processo - CM', 2, 28400.0, 12, 2017), ('2024-12-31', 'Fóssil', 'Carvão mineral', 'Carvão Mineral', 14, 3323740.0, 12, 2017), ('2024-12-31', 'Fóssil', 'Carvão mineral', 'Gás de Alto Forno - CM', 10, 375330.0, 12, 2017), ('2024-12-31', 'Fóssil', 'Gás natural', 'Calor de Processo - GN', 1, 40000.0, 12, 2017), ('2024-12-31', 'Fóssil', 'Gás natural', 'Gás Natural', 166, 12980311.22, 12, 2017), ('2024-12-31', 'Fóssil', 'Outros Fósseis', 'Calor de Processo - OF', 1, 147300.0, 12, 2017), ('2024-12-31', 'Fóssil', 'Petróleo', 'Gás de Refinaria', 6, 315560.0, 12, 2017), ('2024-12-31', 'Fóssil', 'Petróleo', 'Óleo Combustível', 75, 4055884.98, 12, 2017), ('2024-12-31', 'Fóssil', 'Petróleo', 'Óleo Diesel', 2168, 4771486.35, 12, 2017), ('2024-12-31', 'Fóssil', 'Petróleo', 'Outros Energéticos de Petróleo', 18, 1028328.0, 12, 2017), ('2024-12-31', 'Biomassa', 'Agroindustriais', 'Bagaço de Cana de Açúcar', 396, 11097035.2, 9, 2017), ('2024-12-31', 'Biomassa', 'Agroindustriais', 'Biogás - AGR', 3, 1822.0, 9, 2017), ('2024-12-31', 'Biomassa', 'Agroindustriais', 'Capim Elefante', 3, 65700.0, 9, 2017), ('2024-12-31', 'Biomassa', 'Agroindustriais', 'Casca de Arroz', 12, 45333.0, 9, 2017), ('2024-12-31', 'Biomassa', 'Biocombustíveis líquidos', 'Etanol', 1, 320.0, 9, 2017), ('2024-12-31', 'Biomassa', 'Biocombustíveis líquidos', 'Óleos Vegetais', 2, 4350.4, 9, 2017), ('2024-12-31', 'Biomassa', 'Floresta', 'Carvão Vegetal', 7, 41197.0, 9, 2017), ('2024-12-31', 'Biomassa', 'Floresta', 'Gás de Alto Forno - Biomassa', 10, 114265.05, 9, 2017), ('2024-12-31', 'Biomassa', 'Floresta', 'Lenha', 3, 15650.0, 9, 2017), ('2024-12-31', 'Biomassa', 'Floresta', 'Licor Negro', 17, 2273036.0, 9, 2017), ('2024-12-31', 'Biomassa', 'Floresta', 'Resíduos Florestais', 50, 404270.0, 9, 2017), ('2024-12-31', 'Biomassa', 'Resíduos animais', 'Biogás - RA', 13, 4439.2, 9, 2017), ('2024-12-31', 'Biomassa', 'Resíduos sólidos urbanos', 'Biogás - RU', 17, 122249.6, 9, 2017), ('2024-12-31', 'Biomassa', 'Resíduos sólidos urbanos', 'Carvão - RU', 1, 2700.0, 9, 2017), ('2024-12-31', 'Fóssil', 'Carvão mineral', 'Calor de Processo - CM', 1, 24400.0, 9, 2017), ('2024-12-31', 'Fóssil', 'Carvão mineral', 'Carvão Mineral', 12, 3317465.0, 9, 2017), ('2024-12-31', 'Fóssil', 'Carvão mineral', 'Gás de Alto Forno - CM', 8, 371630.0, 9, 2017), ('2024-12-31', 'Fóssil', 'Gás natural', 'Calor de Processo - GN', 1, 40000.0, 9, 2017), ('2024-12-31', 'Fóssil', 'Gás natural', 'Gás Natural', 161, 12963427.22, 9, 2017), ('2024-12-31', 'Fóssil', 'Outros Fósseis', 'Calor de Processo - OF', 1, 147300.0, 9, 2017), ('2024-12-31', 'Fóssil', 'Petróleo', 'Gás de Refinaria', 6, 315560.0, 9, 2017), ('2024-12-31', 'Fóssil', 'Petróleo', 'Óleo Combustível', 72, 4055750.98, 9, 2017), ('2024-12-31', 'Fóssil', 'Petróleo', 'Óleo Diesel', 2115, 4676928.09, 9, 2017), ('2024-12-31', 'Fóssil', 'Petróleo', 'Outros Energéticos de Petróleo', 18, 980328.0, 9, 2017), ('2024-12-31', 'Biomassa', 'Agroindustriais', 'Bagaço de Cana de Açúcar', 401, 11180735.2, 3, 2018), ('2024-12-31', 'Biomassa', 'Agroindustriais', 'Biogás - AGR', 2, 948.0, 3, 2018), ('2024-12-31', 'Biomassa', 'Agroindustriais', 'Capim Elefante', 2, 31700.0, 3, 2018), ('2024-12-31', 'Biomassa', 'Agroindustriais', 'Casca de Arroz', 12, 45333.0, 3, 2018), ('2024-12-31', 'Biomassa', 'Biocombustíveis líquidos', 'Etanol', 1, 320.0, 3, 2018), ('2024-12-31', 'Biomassa', 'Biocombustíveis líquidos', 'Óleos Vegetais', 2, 4350.4, 3, 2018), ('2024-12-31', 'Biomassa', 'Floresta', 'Carvão Vegetal', 8, 43197.0, 3, 2018), ('2024-12-31', 'Biomassa', 'Floresta', 'Gás de Alto Forno - Biomassa', 10, 114265.05, 3, 2018), ('2024-12-31', 'Biomassa', 'Floresta', 'Lenha', 4, 23900.0, 3, 2018), ('2024-12-31', 'Biomassa', 'Floresta', 'Licor Negro', 18, 2542616.0, 3, 2018), ('2024-12-31', 'Biomassa', 'Floresta', 'Resíduos Florestais', 55, 425197.0, 3, 2018), ('2024-12-31', 'Biomassa', 'Resíduos animais', 'Biogás - RA', 14, 4481.2, 3, 2018), ('2024-12-31', 'Biomassa', 'Resíduos sólidos urbanos', 'Biogás - RU', 19, 128850.6, 3, 2018), ('2024-12-31', 'Biomassa', 'Resíduos sólidos urbanos', 'Carvão - RU', 1, 2700.0, 3, 2018), ('2024-12-31', 'Fóssil', 'Carvão mineral', 'Calor de Processo - CM', 2, 28400.0, 3, 2018), ('2024-12-31', 'Fóssil', 'Carvão mineral', 'Carvão Mineral', 14, 3323740.0, 3, 2018), ('2024-12-31', 'Fóssil', 'Carvão mineral', 'Gás de Alto Forno - CM', 10, 375330.0, 3, 2018), ('2024-12-31', 'Fóssil', 'Gás natural', 'Calor de Processo - GN', 1, 40000.0, 3, 2018), ('2024-12-31', 'Fóssil', 'Gás natural', 'Gás Natural', 165, 12953699.22, 3, 2018), ('2024-12-31', 'Fóssil', 'Outros Fósseis', 'Calor de Processo - OF', 1, 147300.0, 3, 2018), ('2024-12-31', 'Fóssil', 'Petróleo', 'Gás de Alto Forno - PE', 1, 1200.0, 3, 2018), ('2024-12-31', 'Fóssil', 'Petróleo', 'Gás de Refinaria', 6, 315560.0, 3, 2018), ('2024-12-31', 'Fóssil', 'Petróleo', 'Óleo Combustível', 78, 4055966.98, 3, 2018), ('2024-12-31', 'Fóssil', 'Petróleo', 'Óleo Diesel', 2157, 4720995.39, 3, 2018), ('2024-12-31', 'Fóssil', 'Petróleo', 'Outros Energéticos de Petróleo', 18, 1028328.0, 3, 2018), ('2024-12-31', 'Fóssil', 'Petróleo', 'Gás de Alto Forno - PE', 1, 1200.0, 12, 2017), ('2024-12-31', 'Biomassa', 'Agroindustriais', 'Bagaço de Cana de Açúcar', 401, 11180735.2, 6, 2018), ('2024-12-31', 'Biomassa', 'Agroindustriais', 'Biogás - AGR', 2, 948.0, 6, 2018), ('2024-12-31', 'Biomassa', 'Agroindustriais', 'Capim Elefante', 2, 31700.0, 6, 2018), ('2024-12-31', 'Biomassa', 'Agroindustriais', 'Casca de Arroz', 12, 45333.0, 6, 2018), ('2024-12-31', 'Biomassa', 'Biocombustíveis líquidos', 'Etanol', 1, 320.0, 6, 2018), ('2024-12-31', 'Biomassa', 'Biocombustíveis líquidos', 'Óleos Vegetais', 2, 4350.4, 6, 2018), ('2024-12-31', 'Biomassa', 'Floresta', 'Carvão Vegetal', 8, 43197.0, 6, 2018), ('2024-12-31', 'Biomassa', 'Floresta', 'Gás de Alto Forno - Biomassa', 10, 114265.05, 6, 2018), ('2024-12-31', 'Biomassa', 'Floresta', 'Lenha', 4, 23900.0, 6, 2018), ('2024-12-31', 'Biomassa', 'Floresta', 'Licor Negro', 18, 2542616.0, 6, 2018), ('2024-12-31', 'Biomassa', 'Floresta', 'Resíduos Florestais', 55, 425197.0, 6, 2018), ('2024-12-31', 'Biomassa', 'Resíduos animais', 'Biogás - RA', 14, 4481.2, 6, 2018), ('2024-12-31', 'Biomassa', 'Resíduos sólidos urbanos', 'Biogás - RU', 19, 128850.6, 6, 2018), ('2024-12-31', 'Biomassa', 'Resíduos sólidos urbanos', 'Carvão - RU', 1, 2700.0, 6, 2018), ('2024-12-31', 'Fóssil', 'Carvão mineral', 'Calor de Processo - CM', 2, 28400.0, 6, 2018), ('2024-12-31', 'Fóssil', 'Carvão mineral', 'Carvão Mineral', 14, 3323740.0, 6, 2018), ('2024-12-31', 'Fóssil', 'Carvão mineral', 'Gás de Alto Forno - CM', 10, 375330.0, 6, 2018), ('2024-12-31', 'Fóssil', 'Gás natural', 'Calor de Processo - GN', 1, 40000.0, 6, 2018), ('2024-12-31', 'Fóssil', 'Gás natural', 'Gás Natural', 165, 12953699.22, 6, 2018), ('2024-12-31', 'Fóssil', 'Outros Fósseis', 'Calor de Processo - OF', 1, 147300.0, 6, 2018), ('2024-12-31', 'Fóssil', 'Petróleo', 'Gás de Alto Forno - PE', 1, 1200.0, 6, 2018), ('2024-12-31', 'Fóssil', 'Petróleo', 'Gás de Refinaria', 6, 315560.0, 6, 2018), ('2024-12-31', 'Fóssil', 'Petróleo', 'Óleo Combustível', 78, 4055966.98, 6, 2018), ('2024-12-31', 'Fóssil', 'Petróleo', 'Óleo Diesel', 2157, 4720995.39, 6, 2018), ('2024-12-31', 'Fóssil', 'Petróleo', 'Outros Energéticos de Petróleo', 18, 1028328.0, 6, 2018), ('2024-12-31', 'Biomassa', 'Agroindustriais', 'Bagaço de Cana de Açúcar', 404, 11264992.0, 9, 2018), ('2024-12-31', 'Biomassa', 'Agroindustriais', 'Biogás - AGR', 3, 7951.0, 9, 2018), ('2024-12-31', 'Biomassa', 'Agroindustriais', 'Capim Elefante', 2, 31700.0, 9, 2018), ('2024-12-31', 'Biomassa', 'Agroindustriais', 'Casca de Arroz', 12, 45333.0, 9, 2018), ('2024-12-31', 'Biomassa', 'Biocombustíveis líquidos', 'Etanol', 1, 320.0, 9, 2018), ('2024-12-31', 'Biomassa', 'Biocombustíveis líquidos', 'Óleos Vegetais', 2, 4350.4, 9, 2018), ('2024-12-31', 'Biomassa', 'Floresta', 'Carvão Vegetal', 8, 43197.0, 9, 2018), ('2024-12-31', 'Biomassa', 'Floresta', 'Gás de Alto Forno - Biomassa', 12, 127705.0, 9, 2018), ('2024-12-31', 'Biomassa', 'Floresta', 'Lenha', 5, 36015.0, 9, 2018), ('2024-12-31', 'Biomassa', 'Floresta', 'Licor Negro', 18, 2542616.0, 9, 2018), ('2024-12-31', 'Biomassa', 'Floresta', 'Resíduos Florestais', 56, 427697.0, 9, 2018), ('2024-12-31', 'Biomassa', 'Resíduos animais', 'Biogás - RA', 14, 4481.2, 9, 2018), ('2024-12-31', 'Biomassa', 'Resíduos sólidos urbanos', 'Biogás - RU', 20, 133128.0, 9, 2018), ('2024-12-31', 'Biomassa', 'Resíduos sólidos urbanos', 'Carvão - RU', 2, 5250.0, 9, 2018), ('2024-12-31', 'Fóssil', 'Carvão mineral', 'Calor de Processo - CM', 2, 28400.0, 9, 2018), ('2024-12-31', 'Fóssil', 'Carvão mineral', 'Carvão Mineral', 14, 3323740.0, 9, 2018), ('2024-12-31', 'Fóssil', 'Carvão mineral', 'Gás de Alto Forno - CM', 8, 365690.0, 9, 2018), ('2024-12-31', 'Fóssil', 'Gás natural', 'Calor de Processo - GN', 1, 40000.0, 9, 2018), ('2024-12-31', 'Fóssil', 'Gás natural', 'Gás Natural', 166, 12963278.0, 9, 2018), ('2024-12-31', 'Fóssil', 'Outros Fósseis', 'Calor de Processo - OF', 1, 147300.0, 9, 2018), ('2024-12-31', 'Fóssil', 'Petróleo', 'Gás de Alto Forno - PE', 1, 1200.0, 9, 2018), ('2024-12-31', 'Fóssil', 'Petróleo', 'Gás de Refinaria', 6, 315120.0, 9, 2018), ('2024-12-31', 'Fóssil', 'Petróleo', 'Óleo Combustível', 77, 4051467.0, 9, 2018), ('2024-12-31', 'Fóssil', 'Petróleo', 'Óleo Diesel', 2148, 4397957.0, 9, 2018), ('2024-12-31', 'Fóssil', 'Petróleo', 'Outros Energéticos de Petróleo', 18, 1028328.0, 9, 2018), ('2024-12-31', 'Biomassa', 'Agroindustriais', 'Bagaço de Cana de Açúcar', 406, 11345247.2, 12, 2018), ('2024-12-31', 'Biomassa', 'Agroindustriais', 'Biogás - AGR', 3, 7951.0, 12, 2018), ('2024-12-31', 'Biomassa', 'Agroindustriais', 'Capim Elefante', 2, 31700.0, 12, 2018), ('2024-12-31', 'Biomassa', 'Agroindustriais', 'Casca de Arroz', 12, 45333.0, 12, 2018), ('2024-12-31', 'Biomassa', 'Biocombustíveis líquidos', 'Etanol', 1, 320.0, 12, 2018), ('2024-12-31', 'Biomassa', 'Biocombustíveis líquidos', 'Óleos Vegetais', 2, 4350.4, 12, 2018), ('2024-12-31', 'Biomassa', 'Floresta', 'Carvão Vegetal', 8, 43197.0, 12, 2018), ('2024-12-31', 'Biomassa', 'Floresta', 'Gás de Alto Forno - Biomassa', 12, 127705.05, 12, 2018), ('2024-12-31', 'Biomassa', 'Floresta', 'Lenha', 5, 36015.0, 12, 2018), ('2024-12-31', 'Biomassa', 'Floresta', 'Licor Negro', 18, 2542616.0, 12, 2018), ('2024-12-31', 'Biomassa', 'Floresta', 'Resíduos Florestais', 56, 427697.0, 12, 2018), ('2024-12-31', 'Biomassa', 'Resíduos animais', 'Biogás - RA', 14, 4481.2, 12, 2018), ('2024-12-31', 'Biomassa', 'Resíduos sólidos urbanos', 'Biogás - RU', 20, 133128.0, 12, 2018), ('2024-12-31', 'Biomassa', 'Resíduos sólidos urbanos', 'Carvão - RU', 2, 5250.0, 12, 2018), ('2024-12-31', 'Fóssil', 'Carvão mineral', 'Calor de Processo - CM', 2, 28400.0, 12, 2018), ('2024-12-31', 'Fóssil', 'Carvão mineral', 'Carvão Mineral', 12, 2857740.0, 12, 2018), ('2024-12-31', 'Fóssil', 'Carvão mineral', 'Gás de Alto Forno - CM', 8, 365690.0, 12, 2018), ('2024-12-31', 'Fóssil', 'Gás natural', 'Calor de Processo - GN', 1, 40000.0, 12, 2018), ('2024-12-31', 'Fóssil', 'Gás natural', 'Gás Natural', 167, 13103138.79, 12, 2018), ('2024-12-31', 'Fóssil', 'Outros Fósseis', 'Calor de Processo - OF', 1, 147300.0, 12, 2018), ('2024-12-31', 'Fóssil', 'Petróleo', 'Gás de Alto Forno - PE', 1, 1200.0, 12, 2018), ('2024-12-31', 'Fóssil', 'Petróleo', 'Gás de Refinaria', 6, 315120.0, 12, 2018), ('2024-12-31', 'Fóssil', 'Petróleo', 'Óleo Combustível', 76, 3584902.98, 12, 2018), ('2024-12-31', 'Fóssil', 'Petróleo', 'Óleo Diesel', 2148, 4182610.27, 12, 2018), ('2024-12-31', 'Fóssil', 'Petróleo', 'Outros Energéticos de Petróleo', 18, 1028328.0, 12, 2018), ('2024-12-31', 'Biomassa', 'Agroindustriais', 'Bagaço de Cana de Açúcar', 407, 11352402.2, 3, 2019), ('2024-12-31', 'Biomassa', 'Agroindustriais', 'Biogás - AGR', 3, 7951.0, 3, 2019), ('2024-12-31', 'Biomassa', 'Agroindustriais', 'Capim Elefante', 2, 31700.0, 3, 2019), ('2024-12-31', 'Biomassa', 'Agroindustriais', 'Casca de Arroz', 13, 53333.0, 3, 2019), ('2024-12-31', 'Biomassa', 'Biocombustíveis líquidos', 'Etanol', 1, 320.0, 3, 2019), ('2024-12-31', 'Biomassa', 'Biocombustíveis líquidos', 'Óleos Vegetais', 2, 4350.4, 3, 2019), ('2024-12-31', 'Biomassa', 'Floresta', 'Carvão Vegetal', 8, 48197.0, 3, 2019), ('2024-12-31', 'Biomassa', 'Floresta', 'Gás de Alto Forno - Biomassa', 12, 127705.05, 3, 2019), ('2024-12-31', 'Biomassa', 'Floresta', 'Lenha', 5, 36715.0, 3, 2019), ('2024-12-31', 'Biomassa', 'Floresta', 'Licor Negro', 18, 2542616.0, 3, 2019), ('2024-12-31', 'Biomassa', 'Floresta', 'Resíduos Florestais', 58, 434117.0, 3, 2019), ('2024-12-31', 'Biomassa', 'Resíduos animais', 'Biogás - RA', 14, 4481.2, 3, 2019), ('2024-12-31', 'Biomassa', 'Resíduos sólidos urbanos', 'Biogás - RU', 21, 137734.6, 3, 2019), ('2024-12-31', 'Biomassa', 'Resíduos sólidos urbanos', 'Carvão - RU', 2, 5250.0, 3, 2019), ('2024-12-31', 'Fóssil', 'Carvão mineral', 'Calor de Processo - CM', 2, 28400.0, 3, 2019), ('2024-12-31', 'Fóssil', 'Carvão mineral', 'Carvão Mineral', 12, 2857740.0, 3, 2019), ('2024-12-31', 'Fóssil', 'Carvão mineral', 'Gás de Alto Forno - CM', 8, 365690.0, 3, 2019), ('2024-12-31', 'Fóssil', 'Gás natural', 'Calor de Processo - GN', 1, 40000.0, 3, 2019), ('2024-12-31', 'Fóssil', 'Gás natural', 'Gás Natural', 168, 13329418.79, 3, 2019), ('2024-12-31', 'Fóssil', 'Outros Fósseis', 'Calor de Processo - OF', 3, 157950.0, 3, 2019), ('2024-12-31', 'Fóssil', 'Petróleo', 'Gás de Alto Forno - PE', 1, 1200.0, 3, 2019), ('2024-12-31', 'Fóssil', 'Petróleo', 'Gás de Refinaria', 6, 319530.0, 3, 2019), ('2024-12-31', 'Fóssil', 'Petróleo', 'Óleo Combustível', 77, 3344179.38, 3, 2019), ('2024-12-31', 'Fóssil', 'Petróleo', 'Óleo Diesel', 2148, 4184051.27, 3, 2019), ('2024-12-31', 'Fóssil', 'Petróleo', 'Outros Energéticos de Petróleo', 17, 1023328.0, 3, 2019), ('2024-12-31', 'Biomassa', 'Agroindustriais', 'Bagaço de Cana de Açúcar', 405, 11404802.2, 6, 2019), ('2024-12-31', 'Biomassa', 'Agroindustriais', 'Biogás - AGR', 3, 7951.0, 6, 2019), ('2024-12-31', 'Biomassa', 'Agroindustriais', 'Capim Elefante', 2, 31700.0, 6, 2019), ('2024-12-31', 'Biomassa', 'Agroindustriais', 'Casca de Arroz', 13, 53333.0, 6, 2019), ('2024-12-31', 'Biomassa', 'Biocombustíveis líquidos', 'Etanol', 1, 320.0, 6, 2019), ('2024-12-31', 'Biomassa', 'Biocombustíveis líquidos', 'Óleos Vegetais', 2, 4350.4, 6, 2019), ('2024-12-31', 'Biomassa', 'Floresta', 'Carvão Vegetal', 8, 48197.0, 6, 2019), ('2024-12-31', 'Biomassa', 'Floresta', 'Gás de Alto Forno - Biomassa', 12, 127705.05, 6, 2019), ('2024-12-31', 'Biomassa', 'Floresta', 'Lenha', 5, 36715.0, 6, 2019), ('2024-12-31', 'Biomassa', 'Floresta', 'Licor Negro', 18, 2542616.0, 6, 2019), ('2024-12-31', 'Biomassa', 'Floresta', 'Resíduos Florestais', 58, 434117.0, 6, 2019), ('2024-12-31', 'Biomassa', 'Resíduos animais', 'Biogás - RA', 14, 4481.2, 6, 2019), ('2024-12-31', 'Biomassa', 'Resíduos sólidos urbanos', 'Biogás - RU', 22, 154666.6, 6, 2019), ('2024-12-31', 'Biomassa', 'Resíduos sólidos urbanos', 'Carvão - RU', 2, 5250.0, 6, 2019), ('2024-12-31', 'Fóssil', 'Carvão mineral', 'Calor de Processo - CM', 2, 28400.0, 6, 2019), ('2024-12-31', 'Fóssil', 'Carvão mineral', 'Carvão Mineral', 12, 2857740.0, 6, 2019), ('2024-12-31', 'Fóssil', 'Carvão mineral', 'Gás de Alto Forno - CM', 8, 365690.0, 6, 2019), ('2024-12-31', 'Fóssil', 'Gás natural', 'Calor de Processo - GN', 1, 40000.0, 6, 2019), ('2024-12-31', 'Fóssil', 'Gás natural', 'Gás Natural', 166, 13314418.79, 6, 2019), ('2024-12-31', 'Fóssil', 'Outros Fósseis', 'Calor de Processo - OF', 3, 157950.0, 6, 2019), ('2024-12-31', 'Fóssil', 'Petróleo', 'Gás de Alto Forno - PE', 1, 1200.0, 6, 2019), ('2024-12-31', 'Fóssil', 'Petróleo', 'Gás de Refinaria', 6, 319530.0, 6, 2019), ('2024-12-31', 'Fóssil', 'Petróleo', 'Óleo Combustível', 76, 3344047.38, 6, 2019), ('2024-12-31', 'Fóssil', 'Petróleo', 'Óleo Diesel', 2157, 4145050.27, 6, 2019), ('2024-12-31', 'Fóssil', 'Petróleo', 'Outros Energéticos de Petróleo', 17, 1023328.0, 6, 2019), ('2024-12-31', 'Biomassa', 'Agroindustriais', 'Bagaço de Cana de Açúcar', 404, 11400822.2, 9, 2019), ('2024-12-31', 'Biomassa', 'Agroindustriais', 'Biogás - AGR', 3, 7951.0, 9, 2019), ('2024-12-31', 'Biomassa', 'Agroindustriais', 'Capim Elefante', 2, 31700.0, 9, 2019), ('2024-12-31', 'Biomassa', 'Agroindustriais', 'Casca de Arroz', 13, 53333.0, 9, 2019), ('2024-12-31', 'Biomassa', 'Biocombustíveis líquidos', 'Etanol', 1, 320.0, 9, 2019), ('2024-12-31', 'Biomassa', 'Biocombustíveis líquidos', 'Óleos Vegetais', 2, 4350.4, 9, 2019), ('2024-12-31', 'Biomassa', 'Floresta', 'Carvão Vegetal', 8, 48197.0, 9, 2019), ('2024-12-31', 'Biomassa', 'Floresta', 'Gás de Alto Forno - Biomassa', 12, 127705.05, 9, 2019), ('2024-12-31', 'Biomassa', 'Floresta', 'Lenha', 6, 39915.0, 9, 2019), ('2024-12-31', 'Biomassa', 'Floresta', 'Licor Negro', 18, 2530719.0, 9, 2019), ('2024-12-31', 'Biomassa', 'Floresta', 'Resíduos Florestais', 58, 434117.0, 9, 2019), ('2024-12-31', 'Biomassa', 'Resíduos animais', 'Biogás - RA', 14, 4481.2, 9, 2019), ('2024-12-31', 'Biomassa', 'Resíduos sólidos urbanos', 'Biogás - RU', 22, 164320.6, 9, 2019), ('2024-12-31', 'Biomassa', 'Resíduos sólidos urbanos', 'Carvão - RU', 2, 5250.0, 9, 2019), ('2024-12-31', 'Biomassa', 'Resíduos sólidos urbanos', 'Resíduos Sólidos Urbanos - RU', 1, 4278.0, 9, 2019), ('2024-12-31', 'Fóssil', 'Carvão mineral', 'Calor de Processo - CM', 2, 28400.0, 9, 2019), ('2024-12-31', 'Fóssil', 'Carvão mineral', 'Carvão Mineral', 13, 3202740.0, 9, 2019), ('2024-12-31', 'Fóssil', 'Carvão mineral', 'Gás de Alto Forno - CM', 8, 365690.0, 9, 2019), ('2024-12-31', 'Fóssil', 'Gás natural', 'Calor de Processo - GN', 1, 40000.0, 9, 2019), ('2024-12-31', 'Fóssil', 'Gás natural', 'Gás Natural', 166, 13404532.79, 9, 2019), ('2024-12-31', 'Fóssil', 'Outros Fósseis', 'Calor de Processo - OF', 4, 165970.0, 9, 2019), ('2024-12-31', 'Fóssil', 'Petróleo', 'Gás de Alto Forno - PE', 1, 1200.0, 9, 2019), ('2024-12-31', 'Fóssil', 'Petróleo', 'Gás de Refinaria', 6, 319530.0, 9, 2019), ('2024-12-31', 'Fóssil', 'Petróleo', 'Óleo Combustível', 75, 3319055.38, 9, 2019), ('2024-12-31', 'Fóssil', 'Petróleo', 'Óleo Diesel', 2163, 4221068.87, 9, 2019), ('2024-12-31', 'Fóssil', 'Petróleo', 'Outros Energéticos de Petróleo', 17, 1023328.0, 9, 2019), ('2024-12-31', 'Biomassa', 'Agroindustriais', 'Bagaço de Cana de Açúcar', 405, 11447902.2, 12, 2019), ('2024-12-31', 'Biomassa', 'Agroindustriais', 'Biogás - AGR', 3, 7951.0, 12, 2019), ('2024-12-31', 'Biomassa', 'Agroindustriais', 'Capim Elefante', 2, 31700.0, 12, 2019), ('2024-12-31', 'Biomassa', 'Agroindustriais', 'Casca de Arroz', 13, 53333.0, 12, 2019), ('2024-12-31', 'Biomassa', 'Biocombustíveis líquidos', 'Etanol', 1, 320.0, 12, 2019), ('2024-12-31', 'Biomassa', 'Biocombustíveis líquidos', 'Óleos Vegetais', 2, 4350.4, 12, 2019), ('2024-12-31', 'Biomassa', 'Floresta', 'Biogás - Floresta', 1, 5000.0, 12, 2019), ('2024-12-31', 'Biomassa', 'Floresta', 'Carvão Vegetal', 8, 48197.0, 12, 2019), ('2024-12-31', 'Biomassa', 'Floresta', 'Gás de Alto Forno - Biomassa', 12, 127705.05, 12, 2019), ('2024-12-31', 'Biomassa', 'Floresta', 'Lenha', 7, 82215.0, 12, 2019), ('2024-12-31', 'Biomassa', 'Floresta', 'Licor Negro', 18, 2530719.0, 12, 2019), ('2024-12-31', 'Biomassa', 'Floresta', 'Resíduos Florestais', 58, 447717.0, 12, 2019), ('2024-12-31', 'Biomassa', 'Resíduos animais', 'Biogás - RA', 14, 4481.2, 12, 2019), ('2024-12-31', 'Biomassa', 'Resíduos sólidos urbanos', 'Biogás - RU', 22, 168598.6, 12, 2019), ('2024-12-31', 'Biomassa', 'Resíduos sólidos urbanos', 'Carvão - RU', 3, 8250.0, 12, 2019), ('2024-12-31', 'Biomassa', 'Resíduos sólidos urbanos', 'Resíduos Sólidos Urbanos - RU', 1, 4278.0, 12, 2019), ('2024-12-31', 'Fóssil', 'Carvão mineral', 'Calor de Processo - CM', 2, 28400.0, 12, 2019), ('2024-12-31', 'Fóssil', 'Carvão mineral', 'Carvão Mineral', 13, 3202740.0, 12, 2019), ('2024-12-31', 'Fóssil', 'Carvão mineral', 'Gás de Alto Forno - CM', 8, 365690.0, 12, 2019), ('2024-12-31', 'Fóssil', 'Gás natural', 'Calor de Processo - GN', 1, 40000.0, 12, 2019), ('2024-12-31', 'Fóssil', 'Gás natural', 'Gás Natural', 164, 13352732.79, 12, 2019), ('2024-12-31', 'Fóssil', 'Outros Fósseis', 'Calor de Processo - OF', 4, 165970.0, 12, 2019), ('2024-12-31', 'Fóssil', 'Petróleo', 'Gás de Alto Forno - PE', 1, 1200.0, 12, 2019), ('2024-12-31', 'Fóssil', 'Petróleo', 'Gás de Refinaria', 6, 319530.0, 12, 2019), ('2024-12-31', 'Fóssil', 'Petróleo', 'Óleo Combustível', 75, 3301595.38, 12, 2019), ('2024-12-31', 'Fóssil', 'Petróleo', 'Óleo Diesel', 2174, 4353157.97, 12, 2019), ('2024-12-31', 'Fóssil', 'Petróleo', 'Outros Energéticos de Petróleo', 17, 1023328.0, 12, 2019), ('2024-12-31', 'Biomassa', 'Agroindustriais', 'Bagaço de Cana de Açúcar', 405, 11489702.2, 3, 2020), ('2024-12-31', 'Biomassa', 'Agroindustriais', 'Biogás - AGR', 3, 7951.0, 3, 2020), ('2024-12-31', 'Biomassa', 'Agroindustriais', 'Capim Elefante', 2, 31700.0, 3, 2020), ('2024-12-31', 'Biomassa', 'Agroindustriais', 'Casca de Arroz', 13, 53333.0, 3, 2020), ('2024-12-31', 'Biomassa', 'Biocombustíveis líquidos', 'Etanol', 1, 320.0, 3, 2020), ('2024-12-31', 'Biomassa', 'Biocombustíveis líquidos', 'Óleos Vegetais', 2, 4350.4, 3, 2020), ('2024-12-31', 'Biomassa', 'Floresta', 'Biogás - Floresta', 1, 5000.0, 3, 2020), ('2024-12-31', 'Biomassa', 'Floresta', 'Carvão Vegetal', 8, 48197.0, 3, 2020), ('2024-12-31', 'Biomassa', 'Floresta', 'Gás de Alto Forno - Biomassa', 12, 127705.05, 3, 2020), ('2024-12-31', 'Biomassa', 'Floresta', 'Lenha', 7, 82215.0, 3, 2020), ('2024-12-31', 'Biomassa', 'Floresta', 'Licor Negro', 18, 2530719.0, 3, 2020), ('2024-12-31', 'Biomassa', 'Floresta', 'Resíduos Florestais', 60, 461317.0, 3, 2020), ('2024-12-31', 'Biomassa', 'Resíduos animais', 'Biogás - RA', 14, 4481.2, 3, 2020), ('2024-12-31', 'Biomassa', 'Resíduos sólidos urbanos', 'Biogás - RU', 22, 172786.6, 3, 2020), ('2024-12-31', 'Biomassa', 'Resíduos sólidos urbanos', 'Carvão - RU', 3, 8250.0, 3, 2020), ('2024-12-31', 'Biomassa', 'Resíduos sólidos urbanos', 'Resíduos Sólidos Urbanos - RU', 1, 4278.0, 3, 2020), ('2024-12-31', 'Fóssil', 'Carvão mineral', 'Calor de Processo - CM', 2, 28400.0, 3, 2020), ('2024-12-31', 'Fóssil', 'Carvão mineral', 'Carvão Mineral', 13, 3202740.0, 3, 2020), ('2024-12-31', 'Fóssil', 'Carvão mineral', 'Gás de Alto Forno - CM', 8, 365690.0, 3, 2020), ('2024-12-31', 'Fóssil', 'Gás natural', 'Calor de Processo - GN', 1, 40000.0, 3, 2020), ('2024-12-31', 'Fóssil', 'Gás natural', 'Gás Natural', 166, 14574422.79, 3, 2020), ('2024-12-31', 'Fóssil', 'Outros Fósseis', 'Calor de Processo - OF', 4, 165970.0, 3, 2020), ('2024-12-31', 'Fóssil', 'Petróleo', 'Gás de Alto Forno - PE', 1, 1200.0, 3, 2020), ('2024-12-31', 'Fóssil', 'Petróleo', 'Gás de Refinaria', 6, 319530.0, 3, 2020), ('2024-12-31', 'Fóssil', 'Petróleo', 'Óleo Combustível', 75, 3301595.38, 3, 2020), ('2024-12-31', 'Fóssil', 'Petróleo', 'Óleo Diesel', 2189, 4440334.97, 3, 2020), ('2024-12-31', 'Fóssil', 'Petróleo', 'Outros Energéticos de Petróleo', 17, 1023328.0, 3, 2020), ('2024-12-31', 'Biomassa', 'Agroindustriais', 'Bagaço de Cana de Açúcar', 407, 11627702.2, 6, 2020), ('2024-12-31', 'Biomassa', 'Agroindustriais', 'Biogás - AGR', 3, 7951.0, 6, 2020), ('2024-12-31', 'Biomassa', 'Agroindustriais', 'Capim Elefante', 2, 31700.0, 6, 2020), ('2024-12-31', 'Biomassa', 'Agroindustriais', 'Casca de Arroz', 13, 53333.0, 6, 2020), ('2024-12-31', 'Biomassa', 'Biocombustíveis líquidos', 'Etanol', 1, 320.0, 6, 2020), ('2024-12-31', 'Biomassa', 'Biocombustíveis líquidos', 'Óleos Vegetais', 2, 4350.4, 6, 2020), ('2024-12-31', 'Biomassa', 'Floresta', 'Biogás - Floresta', 1, 5000.0, 6, 2020), ('2024-12-31', 'Biomassa', 'Floresta', 'Carvão Vegetal', 8, 48197.0, 6, 2020), ('2024-12-31', 'Biomassa', 'Floresta', 'Gás de Alto Forno - Biomassa', 12, 127705.05, 6, 2020), ('2024-12-31', 'Biomassa', 'Floresta', 'Lenha', 7, 82215.0, 6, 2020), ('2024-12-31', 'Biomassa', 'Floresta', 'Licor Negro', 18, 2530719.0, 6, 2020), ('2024-12-31', 'Biomassa', 'Floresta', 'Resíduos Florestais', 60, 461317.0, 6, 2020), ('2024-12-31', 'Biomassa', 'Resíduos animais', 'Biogás - RA', 14, 4481.2, 6, 2020), ('2024-12-31', 'Biomassa', 'Resíduos sólidos urbanos', 'Biogás - RU', 21, 168508.6, 6, 2020), ('2024-12-31', 'Biomassa', 'Resíduos sólidos urbanos', 'Carvão - RU', 3, 8250.0, 6, 2020), ('2024-12-31', 'Biomassa', 'Resíduos sólidos urbanos', 'Resíduos Sólidos Urbanos - RU', 1, 4278.0, 6, 2020), ('2024-12-31', 'Fóssil', 'Carvão mineral', 'Calor de Processo - CM', 2, 28400.0, 6, 2020), ('2024-12-31', 'Fóssil', 'Carvão mineral', 'Carvão Mineral', 13, 3202740.0, 6, 2020), ('2024-12-31', 'Fóssil', 'Carvão mineral', 'Gás de Alto Forno - CM', 8, 365690.0, 6, 2020), ('2024-12-31', 'Fóssil', 'Gás natural', 'Calor de Processo - GN', 1, 40000.0, 6, 2020), ('2024-12-31', 'Fóssil', 'Gás natural', 'Gás Natural', 165, 14903036.79, 6, 2020), ('2024-12-31', 'Fóssil', 'Outros Fósseis', 'Calor de Processo - OF', 4, 165970.0, 6, 2020), ('2024-12-31', 'Fóssil', 'Petróleo', 'Gás de Alto Forno - PE', 1, 1200.0, 6, 2020), ('2024-12-31', 'Fóssil', 'Petróleo', 'Gás de Refinaria', 6, 319530.0, 6, 2020), ('2024-12-31', 'Fóssil', 'Petróleo', 'Óleo Combustível', 75, 3301595.38, 6, 2020), ('2024-12-31', 'Fóssil', 'Petróleo', 'Óleo Diesel', 2193, 4441101.97, 6, 2020), ('2024-12-31', 'Fóssil', 'Petróleo', 'Outros Energéticos de Petróleo', 17, 1023328.0, 6, 2020), ('2024-12-31', 'Biomassa', 'Agroindustriais', 'Bagaço de Cana de Açúcar', 406, 11600902.2, 9, 2020), ('2024-12-31', 'Biomassa', 'Agroindustriais', 'Biogás - AGR', 4, 19891.0, 9, 2020), ('2024-12-31', 'Biomassa', 'Agroindustriais', 'Capim Elefante', 2, 31700.0, 9, 2020), ('2024-12-31', 'Biomassa', 'Agroindustriais', 'Casca de Arroz', 13, 53333.0, 9, 2020), ('2024-12-31', 'Biomassa', 'Biocombustíveis líquidos', 'Etanol', 1, 320.0, 9, 2020), ('2024-12-31', 'Biomassa', 'Biocombustíveis líquidos', 'Óleos Vegetais', 2, 4350.4, 9, 2020), ('2024-12-31', 'Biomassa', 'Floresta', 'Biogás - Floresta', 1, 5000.0, 9, 2020), ('2024-12-31', 'Biomassa', 'Floresta', 'Carvão Vegetal', 8, 48197.0, 9, 2020), ('2024-12-31', 'Biomassa', 'Floresta', 'Gás de Alto Forno - Biomassa', 12, 127705.05, 9, 2020), ('2024-12-31', 'Biomassa', 'Floresta', 'Lenha', 8, 104575.0, 9, 2020), ('2024-12-31', 'Biomassa', 'Floresta', 'Licor Negro', 18, 2530719.0, 9, 2020), ('2024-12-31', 'Biomassa', 'Floresta', 'Resíduos Florestais', 60, 473317.0, 9, 2020), ('2024-12-31', 'Biomassa', 'Resíduos animais', 'Biogás - RA', 14, 4481.2, 9, 2020), ('2024-12-31', 'Biomassa', 'Resíduos sólidos urbanos', 'Biogás - RU', 21, 168508.6, 9, 2020), ('2024-12-31', 'Biomassa', 'Resíduos sólidos urbanos', 'Carvão - RU', 3, 8250.0, 9, 2020), ('2024-12-31', 'Biomassa', 'Resíduos sólidos urbanos', 'Resíduos Sólidos Urbanos - RU', 1, 4278.0, 9, 2020), ('2024-12-31', 'Fóssil', 'Carvão mineral', 'Calor de Processo - CM', 2, 28400.0, 9, 2020), ('2024-12-31', 'Fóssil', 'Carvão mineral', 'Carvão Mineral', 13, 3202740.0, 9, 2020), ('2024-12-31', 'Fóssil', 'Carvão mineral', 'Gás de Alto Forno - CM', 7, 351690.0, 9, 2020), ('2024-12-31', 'Fóssil', 'Gás natural', 'Calor de Processo - GN', 1, 40000.0, 9, 2020), ('2024-12-31', 'Fóssil', 'Gás natural', 'Gás Natural', 166, 14912840.79, 9, 2020), ('2024-12-31', 'Fóssil', 'Outros Fósseis', 'Calor de Processo - OF', 4, 165970.0, 9, 2020), ('2024-12-31', 'Fóssil', 'Petróleo', 'Gás de Alto Forno - PE', 1, 1200.0, 9, 2020), ('2024-12-31', 'Fóssil', 'Petróleo', 'Gás de Refinaria', 6, 319530.0, 9, 2020), ('2024-12-31', 'Fóssil', 'Petróleo', 'Óleo Combustível', 75, 3351595.38, 9, 2020), ('2024-12-31', 'Fóssil', 'Petróleo', 'Óleo Diesel', 2198, 4440343.27, 9, 2020), ('2024-12-31', 'Fóssil', 'Petróleo', 'Outros Energéticos de Petróleo', 17, 1023328.0, 9, 2020), ('2024-12-31', 'Biomassa', 'Agroindustriais', 'Bagaço de Cana de Açúcar', 409, 11691022.2, 12, 2020), ('2024-12-31', 'Biomassa', 'Agroindustriais', 'Biogás - AGR', 4, 25861.0, 12, 2020), ('2024-12-31', 'Biomassa', 'Agroindustriais', 'Capim Elefante', 2, 31700.0, 12, 2020), ('2024-12-31', 'Biomassa', 'Agroindustriais', 'Casca de Arroz', 13, 53333.0, 12, 2020), ('2024-12-31', 'Biomassa', 'Biocombustíveis líquidos', 'Etanol', 1, 320.0, 12, 2020), ('2024-12-31', 'Biomassa', 'Biocombustíveis líquidos', 'Óleos Vegetais', 2, 4350.4, 12, 2020), ('2024-12-31', 'Biomassa', 'Floresta', 'Biogás - Floresta', 1, 5000.0, 12, 2020), ('2024-12-31', 'Biomassa', 'Floresta', 'Carvão Vegetal', 7, 38197.0, 12, 2020), ('2024-12-31', 'Biomassa', 'Floresta', 'Gás de Alto Forno - Biomassa', 12, 127705.05, 12, 2020), ('2024-12-31', 'Biomassa', 'Floresta', 'Lenha', 8, 104575.0, 12, 2020), ('2024-12-31', 'Biomassa', 'Floresta', 'Licor Negro', 18, 2530719.0, 12, 2020), ('2024-12-31', 'Biomassa', 'Floresta', 'Resíduos Florestais', 60, 473317.0, 12, 2020), ('2024-12-31', 'Biomassa', 'Resíduos animais', 'Biogás - RA', 15, 4741.2, 12, 2020), ('2024-12-31', 'Biomassa', 'Resíduos sólidos urbanos', 'Biogás - RU', 21, 169934.6, 12, 2020), ('2024-12-31', 'Biomassa', 'Resíduos sólidos urbanos', 'Carvão - RU', 3, 8250.0, 12, 2020), ('2024-12-31', 'Biomassa', 'Resíduos sólidos urbanos', 'Resíduos Sólidos Urbanos - RU', 1, 4278.0, 12, 2020), ('2024-12-31', 'Fóssil', 'Carvão mineral', 'Calor de Processo - CM', 2, 28400.0, 12, 2020), ('2024-12-31', 'Fóssil', 'Carvão mineral', 'Carvão Mineral', 13, 3202740.0, 12, 2020), ('2024-12-31', 'Fóssil', 'Carvão mineral', 'Gás de Alto Forno - CM', 7, 351690.0, 12, 2020), ('2024-12-31', 'Fóssil', 'Gás natural', 'Calor de Processo - GN', 1, 40000.0, 12, 2020), ('2024-12-31', 'Fóssil', 'Gás natural', 'Gás Natural', 164, 14905664.39, 12, 2020), ('2024-12-31', 'Fóssil', 'Outros Fósseis', 'Calor de Processo - OF', 4, 165970.0, 12, 2020), ('2024-12-31', 'Fóssil', 'Petróleo', 'Gás de Alto Forno - PE', 1, 1200.0, 12, 2020), ('2024-12-31', 'Fóssil', 'Petróleo', 'Gás de Refinaria', 6, 319530.0, 12, 2020), ('2024-12-31', 'Fóssil', 'Petróleo', 'Óleo Combustível', 74, 3241595.38, 12, 2020), ('2024-12-31', 'Fóssil', 'Petróleo', 'Óleo Diesel', 2204, 4439398.17, 12, 2020), ('2024-12-31', 'Fóssil', 'Petróleo', 'Outros Energéticos de Petróleo', 16, 1010608.0, 12, 2020), ('2024-12-31', 'Biomassa', 'Agroindustriais', 'Bagaço de Cana de Açúcar', 410, 11671707.2, 3, 2021), ('2024-12-31', 'Biomassa', 'Agroindustriais', 'Biogás - AGR', 4, 28844.0, 3, 2021), ('2024-12-31', 'Biomassa', 'Agroindustriais', 'Capim Elefante', 2, 31700.0, 3, 2021), ('2024-12-31', 'Biomassa', 'Agroindustriais', 'Casca de Arroz', 13, 53333.0, 3, 2021), ('2024-12-31', 'Biomassa', 'Biocombustíveis líquidos', 'Etanol', 1, 320.0, 3, 2021), ('2024-12-31', 'Biomassa', 'Biocombustíveis líquidos', 'Óleos Vegetais', 2, 4350.4, 3, 2021), ('2024-12-31', 'Biomassa', 'Floresta', 'Biogás - Floresta', 1, 5000.0, 3, 2021), ('2024-12-31', 'Biomassa', 'Floresta', 'Carvão Vegetal', 7, 38197.0, 3, 2021), ('2024-12-31', 'Biomassa', 'Floresta', 'Gás de Alto Forno - Biomassa', 12, 127705.05, 3, 2021), ('2024-12-31', 'Biomassa', 'Floresta', 'Lenha', 8, 104575.0, 3, 2021), ('2024-12-31', 'Biomassa', 'Floresta', 'Licor Negro', 18, 2530719.0, 3, 2021), ('2024-12-31', 'Biomassa', 'Floresta', 'Resíduos Florestais', 60, 473317.0, 3, 2021), ('2024-12-31', 'Biomassa', 'Resíduos animais', 'Biogás - RA', 15, 4741.2, 3, 2021), ('2024-12-31', 'Biomassa', 'Resíduos sólidos urbanos', 'Biogás - RU', 22, 173311.6, 3, 2021), ('2024-12-31', 'Biomassa', 'Resíduos sólidos urbanos', 'Carvão - RU', 3, 8250.0, 3, 2021), ('2024-12-31', 'Biomassa', 'Resíduos sólidos urbanos', 'Resíduos Sólidos Urbanos - RU', 1, 4278.0, 3, 2021), ('2024-12-31', 'Fóssil', 'Carvão mineral', 'Calor de Processo - CM', 2, 28400.0, 3, 2021), ('2024-12-31', 'Fóssil', 'Carvão mineral', 'Carvão Mineral', 13, 3202740.0, 3, 2021), ('2024-12-31', 'Fóssil', 'Carvão mineral', 'Gás de Alto Forno - CM', 7, 351690.0, 3, 2021), ('2024-12-31', 'Fóssil', 'Gás natural', 'Calor de Processo - GN', 1, 40000.0, 3, 2021), ('2024-12-31', 'Fóssil', 'Gás natural', 'Gás Natural', 163, 14785664.39, 3, 2021), ('2024-12-31', 'Fóssil', 'Outros Fósseis', 'Calor de Processo - OF', 4, 165970.0, 3, 2021), ('2024-12-31', 'Fóssil', 'Petróleo', 'Gás de Alto Forno - PE', 1, 1200.0, 3, 2021), ('2024-12-31', 'Fóssil', 'Petróleo', 'Gás de Refinaria', 6, 319530.0, 3, 2021), ('2024-12-31', 'Fóssil', 'Petróleo', 'Óleo Combustível', 73, 3110595.38, 3, 2021), ('2024-12-31', 'Fóssil', 'Petróleo', 'Óleo Diesel', 2215, 4486970.17, 3, 2021), ('2024-12-31', 'Fóssil', 'Petróleo', 'Outros Energéticos de Petróleo', 16, 1010608.0, 3, 2021), ('2024-12-31', 'Biomassa', 'Agroindustriais', 'Bagaço de Cana de Açúcar', 411, 11670192.2, 6, 2021), ('2024-12-31', 'Biomassa', 'Agroindustriais', 'Biogás - AGR', 4, 28844.0, 6, 2021), ('2024-12-31', 'Biomassa', 'Agroindustriais', 'Capim Elefante', 2, 31700.0, 6, 2021), ('2024-12-31', 'Biomassa', 'Agroindustriais', 'Casca de Arroz', 13, 53333.0, 6, 2021), ('2024-12-31', 'Biomassa', 'Biocombustíveis líquidos', 'Etanol', 1, 320.0, 6, 2021), ('2024-12-31', 'Biomassa', 'Biocombustíveis líquidos', 'Óleos Vegetais', 2, 4350.4, 6, 2021), ('2024-12-31', 'Biomassa', 'Floresta', 'Biogás - Floresta', 1, 5000.0, 6, 2021), ('2024-12-31', 'Biomassa', 'Floresta', 'Carvão Vegetal', 7, 38197.0, 6, 2021), ('2024-12-31', 'Biomassa', 'Floresta', 'Gás de Alto Forno - Biomassa', 12, 127705.05, 6, 2021), ('2024-12-31', 'Biomassa', 'Floresta', 'Lenha', 8, 104575.0, 6, 2021), ('2024-12-31', 'Biomassa', 'Floresta', 'Licor Negro', 18, 2530659.0, 6, 2021), ('2024-12-31', 'Biomassa', 'Floresta', 'Resíduos Florestais', 62, 553317.0, 6, 2021), ('2024-12-31', 'Biomassa', 'Resíduos animais', 'Biogás - RA', 15, 4741.2, 6, 2021), ('2024-12-31', 'Biomassa', 'Resíduos sólidos urbanos', 'Biogás - RU', 22, 171885.6, 6, 2021), ('2024-12-31', 'Biomassa', 'Resíduos sólidos urbanos', 'Carvão - RU', 3, 8250.0, 6, 2021), ('2024-12-31', 'Biomassa', 'Resíduos sólidos urbanos', 'Resíduos Sólidos Urbanos - RU', 4, 16758.0, 6, 2021), ('2024-12-31', 'Fóssil', 'Carvão mineral', 'Calor de Processo - CM', 2, 28400.0, 6, 2021), ('2024-12-31', 'Fóssil', 'Carvão mineral', 'Carvão Mineral', 13, 3202740.0, 6, 2021), ('2024-12-31', 'Fóssil', 'Carvão mineral', 'Gás de Alto Forno - CM', 7, 351690.0, 6, 2021), ('2024-12-31', 'Fóssil', 'Gás natural', 'Calor de Processo - GN', 1, 40000.0, 6, 2021), ('2024-12-31', 'Fóssil', 'Gás natural', 'Gás Natural', 163, 14781634.39, 6, 2021), ('2024-12-31', 'Fóssil', 'Outros Fósseis', 'Calor de Processo - OF', 4, 165970.0, 6, 2021), ('2024-12-31', 'Fóssil', 'Petróleo', 'Gás de Alto Forno - PE', 1, 1200.0, 6, 2021), ('2024-12-31', 'Fóssil', 'Petróleo', 'Gás de Refinaria', 6, 319530.0, 6, 2021), ('2024-12-31', 'Fóssil', 'Petróleo', 'Óleo Combustível', 68, 3110528.98, 6, 2021), ('2024-12-31', 'Fóssil', 'Petróleo', 'Óleo Diesel', 2224, 4534636.77, 6, 2021), ('2024-12-31', 'Fóssil', 'Petróleo', 'Outros Energéticos de Petróleo', 16, 1010608.0, 6, 2021), ('2024-12-31', 'Biomassa', 'Agroindustriais', 'Bagaço de Cana de Açúcar', 412, 11773763.18, 9, 2021), ('2024-12-31', 'Biomassa', 'Agroindustriais', 'Biogás - AGR', 4, 31867.0, 9, 2021), ('2024-12-31', 'Biomassa', 'Agroindustriais', 'Capim Elefante', 2, 31700.0, 9, 2021), ('2024-12-31', 'Biomassa', 'Agroindustriais', 'Casca de Arroz', 13, 53333.0, 9, 2021), ('2024-12-31', 'Biomassa', 'Biocombustíveis líquidos', 'Etanol', 1, 320.0, 9, 2021), ('2024-12-31', 'Biomassa', 'Biocombustíveis líquidos', 'Óleos Vegetais', 2, 4350.4, 9, 2021), ('2024-12-31', 'Biomassa', 'Floresta', 'Biogás - Floresta', 1, 5000.0, 9, 2021), ('2024-12-31', 'Biomassa', 'Floresta', 'Carvão Vegetal', 7, 38197.0, 9, 2021), ('2024-12-31', 'Biomassa', 'Floresta', 'Gás de Alto Forno - Biomassa', 12, 127705.05, 9, 2021), ('2024-12-31', 'Biomassa', 'Floresta', 'Lenha', 8, 104575.0, 9, 2021), ('2024-12-31', 'Biomassa', 'Floresta', 'Licor Negro', 18, 2530659.0, 9, 2021), ('2024-12-31', 'Biomassa', 'Floresta', 'Resíduos Florestais', 63, 603010.0, 9, 2021), ('2024-12-31', 'Biomassa', 'Resíduos animais', 'Biogás - RA', 15, 4741.2, 9, 2021), ('2024-12-31', 'Biomassa', 'Resíduos sólidos urbanos', 'Biogás - RU', 23, 180441.6, 9, 2021), ('2024-12-31', 'Biomassa', 'Resíduos sólidos urbanos', 'Carvão - RU', 3, 8250.0, 9, 2021), ('2024-12-31', 'Biomassa', 'Resíduos sólidos urbanos', 'Resíduos Sólidos Urbanos - RU', 5, 24288.0, 9, 2021), ('2024-12-31', 'Fóssil', 'Carvão mineral', 'Calor de Processo - CM', 2, 28400.0, 9, 2021), ('2024-12-31', 'Fóssil', 'Carvão mineral', 'Carvão Mineral', 13, 3202740.0, 9, 2021), ('2024-12-31', 'Fóssil', 'Carvão mineral', 'Gás de Alto Forno - CM', 7, 351690.0, 9, 2021), ('2024-12-31', 'Fóssil', 'Gás natural', 'Calor de Processo - GN', 1, 40000.0, 9, 2021), ('2024-12-31', 'Fóssil', 'Gás natural', 'Gás Natural', 165, 16221360.39, 9, 2021), ('2024-12-31', 'Fóssil', 'Outros Fósseis', 'Calor de Processo - OF', 4, 165970.0, 9, 2021), ('2024-12-31', 'Fóssil', 'Petróleo', 'Gás de Alto Forno - PE', 1, 1200.0, 9, 2021), ('2024-12-31', 'Fóssil', 'Petróleo', 'Gás de Refinaria', 6, 319530.0, 9, 2021), ('2024-12-31', 'Fóssil', 'Petróleo', 'Óleo Combustível', 68, 3110528.98, 9, 2021), ('2024-12-31', 'Fóssil', 'Petróleo', 'Óleo Diesel', 2228, 4604348.77, 9, 2021), ('2024-12-31', 'Fóssil', 'Petróleo', 'Outros Energéticos de Petróleo', 16, 998108.0, 9, 2021), ('2024-12-31', 'Biomassa', 'Agroindustriais', 'Bagaço de Cana de Açúcar', 413, 11657646.2, 12, 2021), ('2024-12-31', 'Biomassa', 'Agroindustriais', 'Biogás - AGR', 4, 31867.0, 12, 2021), ('2024-12-31', 'Biomassa', 'Agroindustriais', 'Capim Elefante', 2, 31700.0, 12, 2021), ('2024-12-31', 'Biomassa', 'Agroindustriais', 'Casca de Arroz', 13, 53333.0, 12, 2021), ('2024-12-31', 'Biomassa', 'Biocombustíveis líquidos', 'Etanol', 1, 320.0, 12, 2021), ('2024-12-31', 'Biomassa', 'Biocombustíveis líquidos', 'Óleos Vegetais', 2, 4350.4, 12, 2021), ('2024-12-31', 'Biomassa', 'Floresta', 'Biogás - Floresta', 1, 5000.0, 12, 2021), ('2024-12-31', 'Biomassa', 'Floresta', 'Carvão Vegetal', 7, 38197.0, 12, 2021), ('2024-12-31', 'Biomassa', 'Floresta', 'Gás de Alto Forno - Biomassa', 12, 127705.05, 12, 2021), ('2024-12-31', 'Biomassa', 'Floresta', 'Lenha', 9, 137075.0, 12, 2021), ('2024-12-31', 'Biomassa', 'Floresta', 'Licor Negro', 19, 2938386.0, 12, 2021), ('2024-12-31', 'Biomassa', 'Floresta', 'Resíduos Florestais', 63, 603010.0, 12, 2021), ('2024-12-31', 'Biomassa', 'Resíduos animais', 'Biogás - RA', 15, 4741.2, 12, 2021), ('2024-12-31', 'Biomassa', 'Resíduos sólidos urbanos', 'Biogás - RU', 24, 186144.8, 12, 2021), ('2024-12-31', 'Biomassa', 'Resíduos sólidos urbanos', 'Carvão - RU', 3, 8250.0, 12, 2021), ('2024-12-31', 'Biomassa', 'Resíduos sólidos urbanos', 'Resíduos Sólidos Urbanos - RU', 5, 19608.0, 12, 2021), ('2024-12-31', 'Fóssil', 'Carvão mineral', 'Calor de Processo - CM', 2, 28400.0, 12, 2021), ('2024-12-31', 'Fóssil', 'Carvão mineral', 'Carvão Mineral', 13, 3202740.0, 12, 2021), ('2024-12-31', 'Fóssil', 'Carvão mineral', 'Gás de Alto Forno - CM', 7, 351690.0, 12, 2021), ('2024-12-31', 'Fóssil', 'Gás natural', 'Calor de Processo - GN', 1, 40000.0, 12, 2021), ('2024-12-31', 'Fóssil', 'Gás natural', 'Gás Natural', 166, 16188939.39, 12, 2021), ('2024-12-31', 'Fóssil', 'Outros Fósseis', 'Calor de Processo - OF', 4, 165970.0, 12, 2021), ('2024-12-31', 'Fóssil', 'Petróleo', 'Gás de Alto Forno - PE', 1, 1200.0, 12, 2021), ('2024-12-31', 'Fóssil', 'Petróleo', 'Gás de Refinaria', 6, 319530.0, 12, 2021), ('2024-12-31', 'Fóssil', 'Petróleo', 'Óleo Combustível', 68, 3103150.48, 12, 2021), ('2024-12-31', 'Fóssil', 'Petróleo', 'Óleo Diesel', 2226, 4549263.77, 12, 2021), ('2024-12-31', 'Fóssil', 'Petróleo', 'Outros Energéticos de Petróleo', 16, 991108.0, 12, 2021), ('2024-12-31', 'Biomassa', 'Agroindustriais', 'Bagaço de Cana de Açúcar', 413, 11528046.2, 3, 2022), ('2024-12-31', 'Biomassa', 'Agroindustriais', 'Biogás - AGR', 4, 31867.0, 3, 2022), ('2024-12-31', 'Biomassa', 'Agroindustriais', 'Capim Elefante', 2, 31700.0, 3, 2022), ('2024-12-31', 'Biomassa', 'Agroindustriais', 'Casca de Arroz', 13, 53333.0, 3, 2022), ('2024-12-31', 'Biomassa', 'Biocombustíveis líquidos', 'Etanol', 1, 320.0, 3, 2022), ('2024-12-31', 'Biomassa', 'Biocombustíveis líquidos', 'Óleos Vegetais', 4, 5630.4, 3, 2022), ('2024-12-31', 'Biomassa', 'Floresta', 'Biogás - Floresta', 1, 5000.0, 3, 2022), ('2024-12-31', 'Biomassa', 'Floresta', 'Carvão Vegetal', 7, 38197.0, 3, 2022), ('2024-12-31', 'Biomassa', 'Floresta', 'Gás de Alto Forno - Biomassa', 12, 127705.05, 3, 2022), ('2024-12-31', 'Biomassa', 'Floresta', 'Lenha', 9, 137075.0, 3, 2022), ('2024-12-31', 'Biomassa', 'Floresta', 'Licor Negro', 20, 3073186.0, 3, 2022), ('2024-12-31', 'Biomassa', 'Floresta', 'Resíduos Florestais', 65, 609710.0, 3, 2022), ('2024-12-31', 'Biomassa', 'Resíduos animais', 'Biogás - RA', 16, 4891.2, 3, 2022), ('2024-12-31', 'Biomassa', 'Resíduos sólidos urbanos', 'Biogás - RU', 24, 186855.6, 3, 2022), ('2024-12-31', 'Biomassa', 'Resíduos sólidos urbanos', 'Carvão - RU', 3, 8250.0, 3, 2022), ('2024-12-31', 'Biomassa', 'Resíduos sólidos urbanos', 'Resíduos Sólidos Urbanos - RU', 6, 20608.0, 3, 2022), ('2024-12-31', 'Fóssil', 'Carvão mineral', 'Calor de Processo - CM', 2, 28400.0, 3, 2022), ('2024-12-31', 'Fóssil', 'Carvão mineral', 'Carvão Mineral', 13, 3202740.0, 3, 2022), ('2024-12-31', 'Fóssil', 'Carvão mineral', 'Gás de Alto Forno - CM', 7, 351690.0, 3, 2022), ('2024-12-31', 'Fóssil', 'Gás natural', 'Calor de Processo - GN', 1, 40000.0, 3, 2022), ('2024-12-31', 'Fóssil', 'Gás natural', 'Gás Natural', 167, 16337904.39, 3, 2022), ('2024-12-31', 'Fóssil', 'Outros Fósseis', 'Calor de Processo - OF', 4, 165970.0, 3, 2022), ('2024-12-31', 'Fóssil', 'Petróleo', 'Gás de Alto Forno - PE', 1, 1200.0, 3, 2022), ('2024-12-31', 'Fóssil', 'Petróleo', 'Gás de Refinaria', 6, 319530.0, 3, 2022), ('2024-12-31', 'Fóssil', 'Petróleo', 'Óleo Combustível', 49, 3102317.28, 3, 2022), ('2024-12-31', 'Fóssil', 'Petróleo', 'Óleo Diesel', 2248, 4557453.59, 3, 2022), ('2024-12-31', 'Fóssil', 'Petróleo', 'Outros Energéticos de Petróleo', 16, 985108.0, 3, 2022), ('2024-12-31', 'Biomassa', 'Agroindustriais', 'Bagaço de Cana de Açúcar', 415, 11578046.2, 6, 2022), ('2024-12-31', 'Biomassa', 'Agroindustriais', 'Biogás - AGR', 4, 31867.0, 6, 2022), ('2024-12-31', 'Biomassa', 'Agroindustriais', 'Capim Elefante', 2, 31700.0, 6, 2022), ('2024-12-31', 'Biomassa', 'Agroindustriais', 'Casca de Arroz', 13, 53333.0, 6, 2022), ('2024-12-31', 'Biomassa', 'Biocombustíveis líquidos', 'Etanol', 1, 320.0, 6, 2022), ('2024-12-31', 'Biomassa', 'Biocombustíveis líquidos', 'Óleos Vegetais', 4, 5630.4, 6, 2022), ('2024-12-31', 'Biomassa', 'Floresta', 'Biogás - Floresta', 1, 5000.0, 6, 2022), ('2024-12-31', 'Biomassa', 'Floresta', 'Carvão Vegetal', 7, 38197.0, 6, 2022), ('2024-12-31', 'Biomassa', 'Floresta', 'Gás de Alto Forno - Biomassa', 12, 127705.05, 6, 2022), ('2024-12-31', 'Biomassa', 'Floresta', 'Lenha', 10, 163075.0, 6, 2022), ('2024-12-31', 'Biomassa', 'Floresta', 'Licor Negro', 21, 3275886.0, 6, 2022), ('2024-12-31', 'Biomassa', 'Floresta', 'Resíduos Florestais', 70, 652210.0, 6, 2022), ('2024-12-31', 'Biomassa', 'Resíduos animais', 'Biogás - RA', 16, 4891.2, 6, 2022), ('2024-12-31', 'Biomassa', 'Resíduos sólidos urbanos', 'Biogás - RU', 24, 186855.6, 6, 2022), ('2024-12-31', 'Biomassa', 'Resíduos sólidos urbanos', 'Carvão - RU', 3, 8250.0, 6, 2022), ('2024-12-31', 'Biomassa', 'Resíduos sólidos urbanos', 'Resíduos Sólidos Urbanos - RU', 7, 23413.0, 6, 2022), ('2024-12-31', 'Fóssil', 'Carvão mineral', 'Calor de Processo - CM', 2, 28400.0, 6, 2022), ('2024-12-31', 'Fóssil', 'Carvão mineral', 'Carvão Mineral', 13, 3202740.0, 6, 2022), ('2024-12-31', 'Fóssil', 'Carvão mineral', 'Gás de Alto Forno - CM', 7, 351690.0, 6, 2022), ('2024-12-31', 'Fóssil', 'Gás natural', 'Calor de Processo - GN', 1, 40000.0, 6, 2022), ('2024-12-31', 'Fóssil', 'Gás natural', 'Gás Natural', 168, 16326426.39, 6, 2022), ('2024-12-31', 'Fóssil', 'Outros Fósseis', 'Calor de Processo - OF', 4, 165970.0, 6, 2022), ('2024-12-31', 'Fóssil', 'Petróleo', 'Gás de Alto Forno - PE', 1, 1200.0, 6, 2022), ('2024-12-31', 'Fóssil', 'Petróleo', 'Gás de Refinaria', 7, 419530.0, 6, 2022), ('2024-12-31', 'Fóssil', 'Petróleo', 'Óleo Combustível', 47, 3002307.28, 6, 2022), ('2024-12-31', 'Fóssil', 'Petróleo', 'Óleo Diesel', 2245, 4455396.59, 6, 2022), ('2024-12-31', 'Fóssil', 'Petróleo', 'Outros Energéticos de Petróleo', 16, 985108.0, 6, 2022), ('2024-12-31', 'Biomassa', 'Agroindustriais', 'Bagaço de Cana de Açúcar', 419, 11748446.2, 9, 2022), ('2024-12-31', 'Biomassa', 'Agroindustriais', 'Biogás - AGR', 4, 31867.0, 9, 2022), ('2024-12-31', 'Biomassa', 'Agroindustriais', 'Capim Elefante', 2, 31700.0, 9, 2022), ('2024-12-31', 'Biomassa', 'Agroindustriais', 'Casca de Arroz', 13, 53333.0, 9, 2022), ('2024-12-31', 'Biomassa', 'Biocombustíveis líquidos', 'Etanol', 1, 320.0, 9, 2022), ('2024-12-31', 'Biomassa', 'Biocombustíveis líquidos', 'Óleos Vegetais', 4, 5630.4, 9, 2022), ('2024-12-31', 'Biomassa', 'Floresta', 'Biogás - Floresta', 1, 5000.0, 9, 2022), ('2024-12-31', 'Biomassa', 'Floresta', 'Carvão Vegetal', 7, 38197.0, 9, 2022), ('2024-12-31', 'Biomassa', 'Floresta', 'Gás de Alto Forno - Biomassa', 12, 127705.05, 9, 2022), ('2024-12-31', 'Biomassa', 'Floresta', 'Lenha', 10, 163075.0, 9, 2022), ('2024-12-31', 'Biomassa', 'Floresta', 'Licor Negro', 21, 3275886.0, 9, 2022), ('2024-12-31', 'Biomassa', 'Floresta', 'Resíduos Florestais', 73, 717690.0, 9, 2022), ('2024-12-31', 'Biomassa', 'Resíduos animais', 'Biogás - RA', 17, 6023.2, 9, 2022), ('2024-12-31', 'Biomassa', 'Resíduos sólidos urbanos', 'Biogás - RU', 26, 191707.6, 9, 2022), ('2024-12-31', 'Biomassa', 'Resíduos sólidos urbanos', 'Carvão - RU', 3, 8250.0, 9, 2022), ('2024-12-31', 'Biomassa', 'Resíduos sólidos urbanos', 'Resíduos Sólidos Urbanos - RU', 8, 24413.0, 9, 2022), ('2024-12-31', 'Fóssil', 'Carvão mineral', 'Calor de Processo - CM', 2, 28400.0, 9, 2022), ('2024-12-31', 'Fóssil', 'Carvão mineral', 'Carvão Mineral', 13, 3202740.0, 9, 2022), ('2024-12-31', 'Fóssil', 'Carvão mineral', 'Gás de Alto Forno - CM', 7, 351690.0, 9, 2022), ('2024-12-31', 'Fóssil', 'Gás natural', 'Calor de Processo - GN', 1, 40000.0, 9, 2022), ('2024-12-31', 'Fóssil', 'Gás natural', 'Gás Natural', 173, 16706602.95, 9, 2022), ('2024-12-31', 'Fóssil', 'Outros Fósseis', 'Calor de Processo - OF', 4, 165970.0, 9, 2022), ('2024-12-31', 'Fóssil', 'Petróleo', 'Gás de Alto Forno - PE', 1, 1200.0, 9, 2022), ('2024-12-31', 'Fóssil', 'Petróleo', 'Gás de Refinaria', 7, 419530.0, 9, 2022), ('2024-12-31', 'Fóssil', 'Petróleo', 'Óleo Combustível', 47, 3002307.28, 9, 2022), ('2024-12-31', 'Fóssil', 'Petróleo', 'Óleo Diesel', 2234, 4293944.99, 9, 2022), ('2024-12-31', 'Fóssil', 'Petróleo', 'Outros Energéticos de Petróleo', 16, 985108.0, 9, 2022), ('2024-12-31', 'Biomassa', 'Agroindustriais', 'Bagaço de Cana de Açúcar', 420, 11839066.2, 12, 2022), ('2024-12-31', 'Biomassa', 'Agroindustriais', 'Biogás - AGR', 4, 31867.0, 12, 2022), ('2024-12-31', 'Biomassa', 'Agroindustriais', 'Capim Elefante', 2, 31700.0, 12, 2022), ('2024-12-31', 'Biomassa', 'Agroindustriais', 'Casca de Arroz', 13, 53333.0, 12, 2022), ('2024-12-31', 'Biomassa', 'Biocombustíveis líquidos', 'Etanol', 1, 320.0, 12, 2022), ('2024-12-31', 'Biomassa', 'Biocombustíveis líquidos', 'Óleos Vegetais', 5, 17180.4, 12, 2022), ('2024-12-31', 'Biomassa', 'Floresta', 'Biogás - Floresta', 1, 5000.0, 12, 2022), ('2024-12-31', 'Biomassa', 'Floresta', 'Carvão Vegetal', 7, 38197.0, 12, 2022), ('2024-12-31', 'Biomassa', 'Floresta', 'Gás de Alto Forno - Biomassa', 12, 127705.05, 12, 2022), ('2024-12-31', 'Biomassa', 'Floresta', 'Lenha', 11, 165075.0, 12, 2022), ('2024-12-31', 'Biomassa', 'Floresta', 'Licor Negro', 21, 3275886.0, 12, 2022), ('2024-12-31', 'Biomassa', 'Floresta', 'Resíduos Florestais', 72, 713990.0, 12, 2022), ('2024-12-31', 'Biomassa', 'Resíduos animais', 'Biogás - RA', 17, 6023.2, 12, 2022), ('2024-12-31', 'Biomassa', 'Resíduos sólidos urbanos', 'Biogás - RU', 26, 193133.6, 12, 2022), ('2024-12-31', 'Biomassa', 'Resíduos sólidos urbanos', 'Carvão - RU', 3, 8250.0, 12, 2022), ('2024-12-31', 'Biomassa', 'Resíduos sólidos urbanos', 'Resíduos Sólidos Urbanos - RU', 8, 24413.0, 12, 2022), ('2024-12-31', 'Fóssil', 'Carvão mineral', 'Calor de Processo - CM', 2, 28400.0, 12, 2022), ('2024-12-31', 'Fóssil', 'Carvão mineral', 'Carvão Mineral', 13, 3202740.0, 12, 2022), ('2024-12-31', 'Fóssil', 'Carvão mineral', 'Gás de Alto Forno - CM', 7, 351690.0, 12, 2022), ('2024-12-31', 'Fóssil', 'Gás natural', 'Calor de Processo - GN', 2, 405320.0, 12, 2022), ('2024-12-31', 'Fóssil', 'Gás natural', 'Gás Natural', 180, 17041741.39, 12, 2022), ('2024-12-31', 'Fóssil', 'Outros Fósseis', 'Calor de Processo - OF', 4, 165970.0, 12, 2022), ('2024-12-31', 'Fóssil', 'Petróleo', 'Gás de Alto Forno - PE', 1, 1200.0, 12, 2022), ('2024-12-31', 'Fóssil', 'Petróleo', 'Gás de Refinaria', 7, 419530.0, 12, 2022), ('2024-12-31', 'Fóssil', 'Petróleo', 'Óleo Combustível', 47, 3097307.28, 12, 2022), ('2024-12-31', 'Fóssil', 'Petróleo', 'Óleo Diesel', 2131, 3977346.69, 12, 2022), ('2024-12-31', 'Fóssil', 'Petróleo', 'Outros Energéticos de Petróleo', 16, 985108.0, 12, 2022), ('2024-12-31', 'Biomassa', 'Agroindustriais', 'Bagaço de Cana de Açúcar', 421, 11832066.2, 3, 2023), ('2024-12-31', 'Biomassa', 'Agroindustriais', 'Biogás - AGR', 5, 32615.8, 3, 2023), ('2024-12-31', 'Biomassa', 'Agroindustriais', 'Capim Elefante', 2, 31700.0, 3, 2023), ('2024-12-31', 'Biomassa', 'Agroindustriais', 'Casca de Arroz', 13, 53333.0, 3, 2023), ('2024-12-31', 'Biomassa', 'Biocombustíveis líquidos', 'Etanol', 1, 320.0, 3, 2023), ('2024-12-31', 'Biomassa', 'Biocombustíveis líquidos', 'Óleos Vegetais', 5, 17180.4, 3, 2023), ('2024-12-31', 'Biomassa', 'Floresta', 'Biogás - Floresta', 1, 5000.0, 3, 2023), ('2024-12-31', 'Biomassa', 'Floresta', 'Carvão Vegetal', 6, 30197.0, 3, 2023), ('2024-12-31', 'Biomassa', 'Floresta', 'Gás de Alto Forno - Biomassa', 11, 120765.05, 3, 2023), ('2024-12-31', 'Biomassa', 'Floresta', 'Lenha', 12, 167827.8, 3, 2023), ('2024-12-31', 'Biomassa', 'Floresta', 'Licor Negro', 21, 3275886.0, 3, 2023), ('2024-12-31', 'Biomassa', 'Floresta', 'Resíduos Florestais', 72, 713990.0, 3, 2023), ('2024-12-31', 'Biomassa', 'Resíduos animais', 'Biogás - RA', 18, 6943.2, 3, 2023), ('2024-12-31', 'Biomassa', 'Resíduos sólidos urbanos', 'Biogás - RU', 26, 193133.6, 3, 2023), ('2024-12-31', 'Biomassa', 'Resíduos sólidos urbanos', 'Carvão - RU', 3, 8250.0, 3, 2023), ('2024-12-31', 'Biomassa', 'Resíduos sólidos urbanos', 'Resíduos Sólidos Urbanos - RU', 8, 24413.0, 3, 2023), ('2024-12-31', 'Fóssil', 'Carvão mineral', 'Calor de Processo - CM', 2, 28400.0, 3, 2023), ('2024-12-31', 'Fóssil', 'Carvão mineral', 'Carvão Mineral', 13, 3085740.0, 3, 2023), ('2024-12-31', 'Fóssil', 'Carvão mineral', 'Gás de Alto Forno - CM', 7, 351690.0, 3, 2023), ('2024-12-31', 'Fóssil', 'Gás natural', 'Calor de Processo - GN', 2, 405320.0, 3, 2023), ('2024-12-31', 'Fóssil', 'Gás natural', 'Gás Natural', 178, 17051465.39, 3, 2023), ('2024-12-31', 'Fóssil', 'Outros Fósseis', 'Calor de Processo - OF', 4, 165970.0, 3, 2023), ('2024-12-31', 'Fóssil', 'Petróleo', 'Gás de Alto Forno - PE', 1, 1200.0, 3, 2023), ('2024-12-31', 'Fóssil', 'Petróleo', 'Gás de Refinaria', 7, 419530.0, 3, 2023), ('2024-12-31', 'Fóssil', 'Petróleo', 'Óleo Combustível', 44, 3097177.28, 3, 2023), ('2024-12-31', 'Fóssil', 'Petróleo', 'Óleo Diesel', 2116, 3951795.69, 3, 2023), ('2024-12-31', 'Fóssil', 'Petróleo', 'Outros Energéticos de Petróleo', 16, 985108.0, 3, 2023), ('2024-12-31', 'Biomassa', 'Agroindustriais', 'Bagaço de Cana de Açúcar', 422, 11887066.2, 5, 2023), ('2024-12-31', 'Biomassa', 'Agroindustriais', 'Biogás - AGR', 5, 32615.8, 5, 2023), ('2024-12-31', 'Biomassa', 'Agroindustriais', 'Capim Elefante', 2, 31700.0, 5, 2023), ('2024-12-31', 'Biomassa', 'Agroindustriais', 'Casca de Arroz', 13, 53333.0, 5, 2023), ('2024-12-31', 'Biomassa', 'Biocombustíveis líquidos', 'Etanol', 1, 320.0, 5, 2023), ('2024-12-31', 'Biomassa', 'Biocombustíveis líquidos', 'Óleos Vegetais', 5, 17180.4, 5, 2023), ('2024-12-31', 'Biomassa', 'Floresta', 'Biogás - Floresta', 1, 5000.0, 5, 2023), ('2024-12-31', 'Biomassa', 'Floresta', 'Carvão Vegetal', 6, 30197.0, 5, 2023), ('2024-12-31', 'Biomassa', 'Floresta', 'Gás de Alto Forno - Biomassa', 12, 124265.05, 5, 2023), ('2024-12-31', 'Biomassa', 'Floresta', 'Lenha', 12, 167827.8, 5, 2023), ('2024-12-31', 'Biomassa', 'Floresta', 'Licor Negro', 21, 3275886.0, 5, 2023), ('2024-12-31', 'Biomassa', 'Floresta', 'Resíduos Florestais', 72, 713990.0, 5, 2023), ('2024-12-31', 'Biomassa', 'Resíduos animais', 'Biogás - RA', 18, 6943.2, 5, 2023), ('2024-12-31', 'Biomassa', 'Resíduos sólidos urbanos', 'Biogás - RU', 26, 193133.6, 5, 2023), ('2024-12-31', 'Biomassa', 'Resíduos sólidos urbanos', 'Carvão - RU', 3, 8250.0, 5, 2023), ('2024-12-31', 'Biomassa', 'Resíduos sólidos urbanos', 'Resíduos Sólidos Urbanos - RU', 8, 24413.0, 5, 2023), ('2024-12-31', 'Fóssil', 'Carvão mineral', 'Calor de Processo - CM', 2, 28400.0, 5, 2023), ('2024-12-31', 'Fóssil', 'Carvão mineral', 'Carvão Mineral', 13, 3085740.0, 5, 2023), ('2024-12-31', 'Fóssil', 'Carvão mineral', 'Gás de Alto Forno - CM', 7, 351690.0, 5, 2023), ('2024-12-31', 'Fóssil', 'Gás natural', 'Calor de Processo - GN', 2, 425747.0, 5, 2023), ('2024-12-31', 'Fóssil', 'Gás natural', 'Gás Natural', 181, 17154251.39, 5, 2023), ('2024-12-31', 'Fóssil', 'Outros Fósseis', 'Calor de Processo - OF', 4, 165970.0, 5, 2023), ('2024-12-31', 'Fóssil', 'Petróleo', 'Gás de Alto Forno - PE', 1, 1200.0, 5, 2023), ('2024-12-31', 'Fóssil', 'Petróleo', 'Gás de Refinaria', 7, 419530.0, 5, 2023), ('2024-12-31', 'Fóssil', 'Petróleo', 'Óleo Combustível', 44, 3097177.28, 5, 2023), ('2024-12-31', 'Fóssil', 'Petróleo', 'Óleo Diesel', 2123, 3997556.29, 5, 2023), ('2024-12-31', 'Fóssil', 'Petróleo', 'Outros Energéticos de Petróleo', 16, 985108.0, 5, 2023), ('2024-12-31', 'Biomassa', 'Agroindustriais', 'Bagaço de Cana de Açúcar', 423, 11979661.2, 8, 2023), ('2024-12-31', 'Biomassa', 'Agroindustriais', 'Biogás - AGR', 5, 32615.8, 8, 2023), ('2024-12-31', 'Biomassa', 'Agroindustriais', 'Capim Elefante', 3, 41500.0, 8, 2023), ('2024-12-31', 'Biomassa', 'Agroindustriais', 'Casca de Arroz', 14, 56833.0, 8, 2023), ('2024-12-31', 'Biomassa', 'Biocombustíveis líquidos', 'Etanol', 1, 320.0, 8, 2023), ('2024-12-31', 'Biomassa', 'Biocombustíveis líquidos', 'Óleos Vegetais', 5, 17180.4, 8, 2023), ('2024-12-31', 'Biomassa', 'Floresta', 'Biogás - Floresta', 1, 5000.0, 8, 2023), ('2024-12-31', 'Biomassa', 'Floresta', 'Carvão Vegetal', 6, 30197.0, 8, 2023), ('2024-12-31', 'Biomassa', 'Floresta', 'Gás de Alto Forno - Biomassa', 12, 124265.05, 8, 2023), ('2024-12-31', 'Biomassa', 'Floresta', 'Lenha', 13, 170827.8, 8, 2023), ('2024-12-31', 'Biomassa', 'Floresta', 'Licor Negro', 21, 3275886.0, 8, 2023), ('2024-12-31', 'Biomassa', 'Floresta', 'Resíduos Florestais', 74, 749250.0, 8, 2023), ('2024-12-31', 'Biomassa', 'Resíduos animais', 'Biogás - RA', 18, 6943.2, 8, 2023), ('2024-12-31', 'Biomassa', 'Resíduos sólidos urbanos', 'Biogás - RU', 26, 193133.6, 8, 2023), ('2024-12-31', 'Biomassa', 'Resíduos sólidos urbanos', 'Carvão - RU', 3, 8250.0, 8, 2023), ('2024-12-31', 'Biomassa', 'Resíduos sólidos urbanos', 'Resíduos Sólidos Urbanos - RU', 8, 24413.0, 8, 2023), ('2024-12-31', 'Fóssil', 'Carvão mineral', 'Calor de Processo - CM', 2, 28400.0, 8, 2023), ('2024-12-31', 'Fóssil', 'Carvão mineral', 'Carvão Mineral', 13, 3085740.0, 8, 2023), ('2024-12-31', 'Fóssil', 'Carvão mineral', 'Gás de Alto Forno - CM', 6, 346790.0, 8, 2023), ('2024-12-31', 'Fóssil', 'Gás natural', 'Calor de Processo - GN', 2, 425747.0, 8, 2023), ('2024-12-31', 'Fóssil', 'Gás natural', 'Gás Natural', 181, 17148273.39, 8, 2023), ('2024-12-31', 'Fóssil', 'Outros Fósseis', 'Calor de Processo - OF', 4, 165970.0, 8, 2023), ('2024-12-31', 'Fóssil', 'Petróleo', 'Gás de Alto Forno - PE', 1, 1200.0, 8, 2023), ('2024-12-31', 'Fóssil', 'Petróleo', 'Gás de Refinaria', 7, 419530.0, 8, 2023), ('2024-12-31', 'Fóssil', 'Petróleo', 'Óleo Combustível', 44, 3097177.28, 8, 2023), ('2024-12-31', 'Fóssil', 'Petróleo', 'Óleo Diesel', 2128, 4021504.29, 8, 2023), ('2024-12-31', 'Fóssil', 'Petróleo', 'Outros Energéticos de Petróleo', 16, 985108.0, 8, 2023), ('2024-12-31', 'Biomassa', 'Agroindustriais', 'Bagaço de Cana de Açúcar', 422, 11975261.2, 11, 2023), ('2024-12-31', 'Biomassa', 'Agroindustriais', 'Biogás - AGR', 6, 32846.2, 11, 2023), ('2024-12-31', 'Biomassa', 'Agroindustriais', 'Capim Elefante', 3, 41500.0, 11, 2023), ('2024-12-31', 'Biomassa', 'Agroindustriais', 'Casca de Arroz', 15, 59458.6, 11, 2023), ('2024-12-31', 'Biomassa', 'Biocombustíveis líquidos', 'Etanol', 1, 320.0, 11, 2023), ('2024-12-31', 'Biomassa', 'Biocombustíveis líquidos', 'Óleos Vegetais', 5, 17180.4, 11, 2023), ('2024-12-31', 'Biomassa', 'Floresta', 'Carvão Vegetal', 6, 30197.0, 11, 2023), ('2024-12-31', 'Biomassa', 'Floresta', 'Gás de Alto Forno - Biomassa', 12, 124265.05, 11, 2023), ('2024-12-31', 'Biomassa', 'Floresta', 'Lenha', 13, 170827.8, 11, 2023), ('2024-12-31', 'Biomassa', 'Floresta', 'Licor Negro', 22, 3265996.0, 11, 2023), ('2024-12-31', 'Biomassa', 'Floresta', 'Resíduos Florestais', 76, 798006.0, 11, 2023), ('2024-12-31', 'Biomassa', 'Resíduos animais', 'Biogás - RA', 19, 7263.2, 11, 2023), ('2024-12-31', 'Biomassa', 'Resíduos sólidos urbanos', 'Biogás - RU', 26, 193133.6, 11, 2023), ('2024-12-31', 'Biomassa', 'Resíduos sólidos urbanos', 'Carvão - RU', 3, 8250.0, 11, 2023), ('2024-12-31', 'Biomassa', 'Resíduos sólidos urbanos', 'Resíduos Sólidos Urbanos - RU', 8, 24413.0, 11, 2023), ('2024-12-31', 'Fóssil', 'Carvão mineral', 'Calor de Processo - CM', 2, 28400.0, 11, 2023), ('2024-12-31', 'Fóssil', 'Carvão mineral', 'Carvão Mineral', 13, 3085740.0, 11, 2023), ('2024-12-31', 'Fóssil', 'Carvão mineral', 'Gás de Alto Forno - CM', 6, 346790.0, 11, 2023), ('2024-12-31', 'Fóssil', 'Gás natural', 'Calor de Processo - GN', 2, 425747.0, 11, 2023), ('2024-12-31', 'Fóssil', 'Gás natural', 'Gás Natural', 180, 17150393.39, 11, 2023), ('2024-12-31', 'Fóssil', 'Outros Fósseis', 'Calor de Processo - OF', 4, 165970.0, 11, 2023), ('2024-12-31', 'Fóssil', 'Petróleo', 'Gás de Alto Forno - PE', 1, 1200.0, 11, 2023), ('2024-12-31', 'Fóssil', 'Petróleo', 'Gás de Refinaria', 8, 459670.0, 11, 2023), ('2024-12-31', 'Fóssil', 'Petróleo', 'Óleo Combustível', 44, 3097177.28, 11, 2023), ('2024-12-31', 'Fóssil', 'Petróleo', 'Óleo Diesel', 2128, 4021504.29, 11, 2023), ('2024-12-31', 'Fóssil', 'Petróleo', 'Outros Energéticos de Petróleo', 16, 985108.0, 11, 2023), ('2024-12-31', 'Biomassa', 'Agroindustriais', 'Bagaço de Cana de Açúcar', 422, 11912466.2, 2, 2024), ('2024-12-31', 'Biomassa', 'Agroindustriais', 'Biogás - AGR', 6, 32846.2, 2, 2024), ('2024-12-31', 'Biomassa', 'Agroindustriais', 'Capim Elefante', 3, 41500.0, 2, 2024), ('2024-12-31', 'Biomassa', 'Agroindustriais', 'Casca de Arroz', 15, 59458.6, 2, 2024), ('2024-12-31', 'Biomassa', 'Biocombustíveis líquidos', 'Etanol', 1, 320.0, 2, 2024), ('2024-12-31', 'Biomassa', 'Biocombustíveis líquidos', 'Óleos Vegetais', 5, 17180.4, 2, 2024), ('2024-12-31', 'Biomassa', 'Floresta', 'Carvão Vegetal', 6, 30197.0, 2, 2024), ('2024-12-31', 'Biomassa', 'Floresta', 'Gás de Alto Forno - Biomassa', 12, 124265.05, 2, 2024), ('2024-12-31', 'Biomassa', 'Floresta', 'Lenha', 13, 170827.8, 2, 2024), ('2024-12-31', 'Biomassa', 'Floresta', 'Licor Negro', 22, 3325045.0, 2, 2024), ('2024-12-31', 'Biomassa', 'Floresta', 'Resíduos Florestais', 76, 798806.0, 2, 2024), ('2024-12-31', 'Biomassa', 'Resíduos animais', 'Biogás - RA', 19, 7272.2, 2, 2024), ('2024-12-31', 'Biomassa', 'Resíduos sólidos urbanos', 'Biogás - RU', 26, 193133.6, 2, 2024), ('2024-12-31', 'Biomassa', 'Resíduos sólidos urbanos', 'Carvão - RU', 3, 8250.0, 2, 2024), ('2024-12-31', 'Biomassa', 'Resíduos sólidos urbanos', 'Resíduos Sólidos Urbanos - RU', 8, 24413.0, 2, 2024), ('2024-12-31', 'Fóssil', 'Carvão mineral', 'Calor de Processo - CM', 2, 28400.0, 2, 2024), ('2024-12-31', 'Fóssil', 'Carvão mineral', 'Carvão Mineral', 13, 3085740.0, 2, 2024), ('2024-12-31', 'Fóssil', 'Carvão mineral', 'Gás de Alto Forno - CM', 6, 346790.0, 2, 2024), ('2024-12-31', 'Fóssil', 'Gás natural', 'Calor de Processo - GN', 2, 405320.0, 2, 2024), ('2024-12-31', 'Fóssil', 'Gás natural', 'Gás Natural', 180, 17544592.39, 2, 2024), ('2024-12-31', 'Fóssil', 'Outros Fósseis', 'Calor de Processo - OF', 4, 165970.0, 2, 2024), ('2024-12-31', 'Fóssil', 'Petróleo', 'Gás de Alto Forno - PE', 1, 1200.0, 2, 2024), ('2024-12-31', 'Fóssil', 'Petróleo', 'Gás de Refinaria', 8, 459670.0, 2, 2024), ('2024-12-31', 'Fóssil', 'Petróleo', 'Óleo Combustível', 42, 2800022.58, 2, 2024), ('2024-12-31', 'Fóssil', 'Petróleo', 'Óleo Diesel', 2125, 3676253.29, 2, 2024), ('2024-12-31', 'Fóssil', 'Petróleo', 'Outros Energéticos de Petróleo', 15, 979108.0, 2, 2024), ('2024-12-31', 'Biomassa', 'Agroindustriais', 'Bagaço de Cana de Açúcar', 423, 11964466.2, 5, 2024), ('2024-12-31', 'Biomassa', 'Agroindustriais', 'Biogás - AGR', 6, 32846.2, 5, 2024), ('2024-12-31', 'Biomassa', 'Agroindustriais', 'Capim Elefante', 2, 19636.0, 5, 2024), ('2024-12-31', 'Biomassa', 'Agroindustriais', 'Casca de Arroz', 15, 59458.6, 5, 2024), ('2024-12-31', 'Biomassa', 'Biocombustíveis líquidos', 'Etanol', 1, 320.0, 5, 2024), ('2024-12-31', 'Biomassa', 'Biocombustíveis líquidos', 'Óleos Vegetais', 5, 17180.4, 5, 2024), ('2024-12-31', 'Biomassa', 'Floresta', 'Carvão Vegetal', 6, 30197.0, 5, 2024), ('2024-12-31', 'Biomassa', 'Floresta', 'Gás de Alto Forno - Biomassa', 12, 124265.05, 5, 2024), ('2024-12-31', 'Biomassa', 'Floresta', 'Lenha', 13, 237202.8, 5, 2024), ('2024-12-31', 'Biomassa', 'Floresta', 'Licor Negro', 22, 3325045.0, 5, 2024), ('2024-12-31', 'Biomassa', 'Floresta', 'Resíduos Florestais', 76, 798806.0, 5, 2024), ('2024-12-31', 'Biomassa', 'Resíduos animais', 'Biogás - RA', 19, 7272.2, 5, 2024), ('2024-12-31', 'Biomassa', 'Resíduos sólidos urbanos', 'Biogás - RU', 26, 193133.6, 5, 2024), ('2024-12-31', 'Biomassa', 'Resíduos sólidos urbanos', 'Carvão - RU', 3, 8250.0, 5, 2024), ('2024-12-31', 'Biomassa', 'Resíduos sólidos urbanos', 'Resíduos Sólidos Urbanos - RU', 8, 24413.0, 5, 2024), ('2024-12-31', 'Fóssil', 'Carvão mineral', 'Calor de Processo - CM', 2, 28400.0, 5, 2024), ('2024-12-31', 'Fóssil', 'Carvão mineral', 'Carvão Mineral', 13, 3085740.0, 5, 2024), ('2024-12-31', 'Fóssil', 'Carvão mineral', 'Gás de Alto Forno - CM', 6, 346790.0, 5, 2024), ('2024-12-31', 'Fóssil', 'Gás natural', 'Calor de Processo - GN', 2, 405320.0, 5, 2024), ('2024-12-31', 'Fóssil', 'Gás natural', 'Gás Natural', 178, 17504698.39, 5, 2024), ('2024-12-31', 'Fóssil', 'Outros Fósseis', 'Calor de Processo - OF', 4, 165970.0, 5, 2024), ('2024-12-31', 'Fóssil', 'Petróleo', 'Gás de Alto Forno - PE', 1, 1200.0, 5, 2024), ('2024-12-31', 'Fóssil', 'Petróleo', 'Gás de Refinaria', 8, 459670.0, 5, 2024), ('2024-12-31', 'Fóssil', 'Petróleo', 'Óleo Combustível', 42, 2800022.58, 5, 2024), ('2024-12-31', 'Fóssil', 'Petróleo', 'Óleo Diesel', 2113, 3593333.29, 5, 2024), ('2024-12-31', 'Fóssil', 'Petróleo', 'Outros Energéticos de Petróleo', 15, 979108.0, 5, 2024), ('2024-12-31', 'Biomassa', 'Agroindustriais', 'Bagaço de Cana de Açúcar', 424, 12066066.2, 8, 2024), ('2024-12-31', 'Biomassa', 'Agroindustriais', 'Biogás - AGR', 6, 32846.2, 8, 2024), ('2024-12-31', 'Biomassa', 'Agroindustriais', 'Capim Elefante', 2, 19636.0, 8, 2024), ('2024-12-31', 'Biomassa', 'Agroindustriais', 'Casca de Arroz', 15, 59458.6, 8, 2024), ('2024-12-31', 'Biomassa', 'Biocombustíveis líquidos', 'Etanol', 1, 320.0, 8, 2024), ('2024-12-31', 'Biomassa', 'Biocombustíveis líquidos', 'Óleos Vegetais', 5, 17180.4, 8, 2024), ('2024-12-31', 'Biomassa', 'Floresta', 'Carvão Vegetal', 6, 30197.0, 8, 2024), ('2024-12-31', 'Biomassa', 'Floresta', 'Gás de Alto Forno - Biomassa', 12, 124265.05, 8, 2024), ('2024-12-31', 'Biomassa', 'Floresta', 'Lenha', 13, 237202.8, 8, 2024), ('2024-12-31', 'Biomassa', 'Floresta', 'Licor Negro', 22, 3325045.0, 8, 2024), ('2024-12-31', 'Biomassa', 'Floresta', 'Resíduos Florestais', 76, 776606.0, 8, 2024), ('2024-12-31', 'Biomassa', 'Resíduos animais', 'Biogás - RA', 19, 7272.2, 8, 2024), ('2024-12-31', 'Biomassa', 'Resíduos sólidos urbanos', 'Biogás - RU', 26, 193133.6, 8, 2024), ('2024-12-31', 'Biomassa', 'Resíduos sólidos urbanos', 'Carvão - RU', 3, 8250.0, 8, 2024), ('2024-12-31', 'Biomassa', 'Resíduos sólidos urbanos', 'Resíduos Sólidos Urbanos - RU', 8, 24413.0, 8, 2024), ('2024-12-31', 'Fóssil', 'Carvão mineral', 'Calor de Processo - CM', 2, 28400.0, 8, 2024), ('2024-12-31', 'Fóssil', 'Carvão mineral', 'Carvão Mineral', 13, 3085740.0, 8, 2024), ('2024-12-31', 'Fóssil', 'Carvão mineral', 'Gás de Alto Forno - CM', 6, 346790.0, 8, 2024), ('2024-12-31', 'Fóssil', 'Gás natural', 'Calor de Processo - GN', 2, 405320.0, 8, 2024), ('2024-12-31', 'Fóssil', 'Gás natural', 'Gás Natural', 178, 17291731.24, 8, 2024), ('2024-12-31', 'Fóssil', 'Outros Fósseis', 'Calor de Processo - OF', 4, 165970.0, 8, 2024), ('2024-12-31', 'Fóssil', 'Petróleo', 'Gás de Alto Forno - PE', 1, 1200.0, 8, 2024), ('2024-12-31', 'Fóssil', 'Petróleo', 'Gás de Refinaria', 8, 459670.0, 8, 2024), ('2024-12-31', 'Fóssil', 'Petróleo', 'Óleo Combustível', 42, 2800022.58, 8, 2024), ('2024-12-31', 'Fóssil', 'Petróleo', 'Óleo Diesel', 2114, 3593894.29, 8, 2024), ('2024-12-31', 'Fóssil', 'Petróleo', 'Outros Energéticos de Petróleo', 16, 1009108.0, 8, 2024), ('2024-12-31', 'Biomassa', 'Agroindustriais', 'Bagaço de Cana de Açúcar', 427, 12187866.2, 11, 2024), ('2024-12-31', 'Biomassa', 'Agroindustriais', 'Biogás - AGR', 6, 32846.2, 11, 2024), ('2024-12-31', 'Biomassa', 'Agroindustriais', 'Capim Elefante', 2, 19636.0, 11, 2024), ('2024-12-31', 'Biomassa', 'Agroindustriais', 'Casca de Arroz', 15, 59458.6, 11, 2024), ('2024-12-31', 'Biomassa', 'Biocombustíveis líquidos', 'Etanol', 1, 320.0, 11, 2024), ('2024-12-31', 'Biomassa', 'Biocombustíveis líquidos', 'Óleos Vegetais', 5, 17180.4, 11, 2024), ('2024-12-31', 'Biomassa', 'Floresta', 'Carvão Vegetal', 6, 30197.0, 11, 2024), ('2024-12-31', 'Biomassa', 'Floresta', 'Gás de Alto Forno - Biomassa', 12, 124265.05, 11, 2024), ('2024-12-31', 'Biomassa', 'Floresta', 'Lenha', 13, 237202.8, 11, 2024), ('2024-12-31', 'Biomassa', 'Floresta', 'Licor Negro', 22, 3325045.0, 11, 2024), ('2024-12-31', 'Biomassa', 'Floresta', 'Resíduos Florestais', 77, 796106.0, 11, 2024), ('2024-12-31', 'Biomassa', 'Resíduos animais', 'Biogás - RA', 19, 7792.2, 11, 2024), ('2024-12-31', 'Biomassa', 'Resíduos sólidos urbanos', 'Biogás - RU', 26, 193133.6, 11, 2024), ('2024-12-31', 'Biomassa', 'Resíduos sólidos urbanos', 'Carvão - RU', 3, 8250.0, 11, 2024), ('2024-12-31', 'Biomassa', 'Resíduos sólidos urbanos', 'Resíduos Sólidos Urbanos - RU', 8, 24413.0, 11, 2024), ('2024-12-31', 'Fóssil', 'Carvão mineral', 'Calor de Processo - CM', 2, 28400.0, 11, 2024), ('2024-12-31', 'Fóssil', 'Carvão mineral', 'Carvão Mineral', 13, 3085740.0, 11, 2024), ('2024-12-31', 'Fóssil', 'Carvão mineral', 'Gás de Alto Forno - CM', 6, 346790.0, 11, 2024), ('2024-12-31', 'Fóssil', 'Gás natural', 'Calor de Processo - GN', 2, 405320.0, 11, 2024), ('2024-12-31', 'Fóssil', 'Gás natural', 'Gás Natural', 179, 17404579.24, 11, 2024), ('2024-12-31', 'Fóssil', 'Outros Fósseis', 'Calor de Processo - OF', 4, 165970.0, 11, 2024), ('2024-12-31', 'Fóssil', 'Petróleo', 'Gás de Alto Forno - PE', 1, 1200.0, 11, 2024), ('2024-12-31', 'Fóssil', 'Petróleo', 'Gás de Refinaria', 8, 459670.0, 11, 2024), ('2024-12-31', 'Fóssil', 'Petróleo', 'Óleo Combustível', 42, 2800022.58, 11, 2024), ('2024-12-31', 'Fóssil', 'Petróleo', 'Óleo Diesel', 2116, 3863234.29, 11, 2024), ('2024-12-31', 'Fóssil', 'Petróleo', 'Outros Energéticos de Petróleo', 16, 1009108.0, 11, 2024)]\n"
     ]
    }
   ],
   "source": [
    "#1 Retornando toda a tabela\n",
    "query = 'SELECT * FROM usinas'\n",
    "cursor.execute(query)\n",
    "print(cursor.fetchall())"
   ]
  },
  {
   "cell_type": "code",
   "execution_count": 5,
   "id": "77052e27",
   "metadata": {},
   "outputs": [
    {
     "name": "stdout",
     "output_type": "stream",
     "text": [
      "[('usinas',)]\n"
     ]
    }
   ],
   "source": [
    "#2 Nome da Tabela\n",
    "query1 = \"\"\"SELECT name FROM sqlite_master\n",
    "            WHERE type = 'table';\"\"\"\n",
    "cursor.execute(query1)\n",
    "print(cursor.fetchall())"
   ]
  },
  {
   "cell_type": "code",
   "execution_count": 6,
   "id": "2fbb6d1b",
   "metadata": {},
   "outputs": [
    {
     "name": "stdout",
     "output_type": "stream",
     "text": [
      "Column Names: ['Data_Update', 'Origem', 'Segmento_Combustivel', 'Combustivel', 'Quantidade', 'Potencia_KW', 'Mes', 'Ano']\n"
     ]
    }
   ],
   "source": [
    "#3 Nome das colunas\n",
    "cursor.execute(\"PRAGMA table_info(usinas);\")\n",
    "columns_info = cursor.fetchall()\n",
    "column_names = [column[1] for column in columns_info]\n",
    "\n",
    "print(\"Column Names:\", column_names)"
   ]
  },
  {
   "cell_type": "code",
   "execution_count": 7,
   "id": "950bb243",
   "metadata": {},
   "outputs": [
    {
     "name": "stdout",
     "output_type": "stream",
     "text": [
      "[('2024-12-31', 'Biomassa', 'Agroindustriais', 'Bagaço de Cana de Açúcar', 359, 8125583.7, 12, 2012), ('2024-12-31', 'Biomassa', 'Agroindustriais', 'Bagaço de Cana de Açúcar', 381, 9358566.0, 12, 2013), ('2024-12-31', 'Biomassa', 'Agroindustriais', 'Bagaço de Cana de Açúcar', 387, 9880703.0, 12, 2014), ('2024-12-31', 'Biomassa', 'Agroindustriais', 'Bagaço de Cana de Açúcar', 394, 10531820.2, 12, 2015), ('2024-12-31', 'Biomassa', 'Agroindustriais', 'Bagaço de Cana de Açúcar', 398, 10897104.2, 12, 2016), ('2024-12-31', 'Biomassa', 'Agroindustriais', 'Bagaço de Cana de Açúcar', 349, 7271587.7, 3, 2012), ('2024-12-31', 'Biomassa', 'Agroindustriais', 'Bagaço de Cana de Açúcar', 367, 8532611.7, 3, 2013), ('2024-12-31', 'Biomassa', 'Agroindustriais', 'Bagaço de Cana de Açúcar', 378, 9339425.7, 3, 2014), ('2024-12-31', 'Biomassa', 'Agroindustriais', 'Bagaço de Cana de Açúcar', 387, 9933550.2, 3, 2015), ('2024-12-31', 'Biomassa', 'Agroindustriais', 'Bagaço de Cana de Açúcar', 394, 10594460.0, 3, 2016), ('2024-12-31', 'Biomassa', 'Agroindustriais', 'Bagaço de Cana de Açúcar', 399, 10909920.2, 3, 2017), ('2024-12-31', 'Biomassa', 'Agroindustriais', 'Bagaço de Cana de Açúcar', 353, 7618287.7, 6, 2012), ('2024-12-31', 'Biomassa', 'Agroindustriais', 'Bagaço de Cana de Açúcar', 370, 8926911.7, 6, 2013), ('2024-12-31', 'Biomassa', 'Agroindustriais', 'Bagaço de Cana de Açúcar', 378, 9390071.0, 6, 2014), ('2024-12-31', 'Biomassa', 'Agroindustriais', 'Bagaço de Cana de Açúcar', 391, 10295950.2, 6, 2015), ('2024-12-31', 'Biomassa', 'Agroindustriais', 'Bagaço de Cana de Açúcar', 392, 10661760.2, 6, 2016), ('2024-12-31', 'Biomassa', 'Agroindustriais', 'Bagaço de Cana de Açúcar', 358, 8027644.0, 9, 2012), ('2024-12-31', 'Biomassa', 'Agroindustriais', 'Bagaço de Cana de Açúcar', 374, 9154935.7, 9, 2013), ('2024-12-31', 'Biomassa', 'Agroindustriais', 'Bagaço de Cana de Açúcar', 384, 9778071.0, 9, 2014), ('2024-12-31', 'Biomassa', 'Agroindustriais', 'Bagaço de Cana de Açúcar', 390, 10436420.2, 9, 2015), ('2024-12-31', 'Biomassa', 'Agroindustriais', 'Bagaço de Cana de Açúcar', 396, 10771760.2, 9, 2016), ('2024-12-31', 'Biomassa', 'Agroindustriais', 'Bagaço de Cana de Açúcar', 397, 11020810.2, 6, 2017), ('2024-12-31', 'Biomassa', 'Agroindustriais', 'Bagaço de Cana de Açúcar', 400, 11157935.2, 12, 2017), ('2024-12-31', 'Biomassa', 'Agroindustriais', 'Bagaço de Cana de Açúcar', 396, 11097035.2, 9, 2017), ('2024-12-31', 'Biomassa', 'Agroindustriais', 'Bagaço de Cana de Açúcar', 401, 11180735.2, 3, 2018), ('2024-12-31', 'Biomassa', 'Agroindustriais', 'Bagaço de Cana de Açúcar', 401, 11180735.2, 6, 2018), ('2024-12-31', 'Biomassa', 'Agroindustriais', 'Bagaço de Cana de Açúcar', 404, 11264992.0, 9, 2018), ('2024-12-31', 'Biomassa', 'Agroindustriais', 'Bagaço de Cana de Açúcar', 406, 11345247.2, 12, 2018), ('2024-12-31', 'Biomassa', 'Agroindustriais', 'Bagaço de Cana de Açúcar', 407, 11352402.2, 3, 2019), ('2024-12-31', 'Biomassa', 'Agroindustriais', 'Bagaço de Cana de Açúcar', 405, 11404802.2, 6, 2019), ('2024-12-31', 'Biomassa', 'Agroindustriais', 'Bagaço de Cana de Açúcar', 404, 11400822.2, 9, 2019), ('2024-12-31', 'Biomassa', 'Agroindustriais', 'Bagaço de Cana de Açúcar', 405, 11447902.2, 12, 2019), ('2024-12-31', 'Biomassa', 'Agroindustriais', 'Bagaço de Cana de Açúcar', 405, 11489702.2, 3, 2020), ('2024-12-31', 'Biomassa', 'Agroindustriais', 'Bagaço de Cana de Açúcar', 407, 11627702.2, 6, 2020), ('2024-12-31', 'Biomassa', 'Agroindustriais', 'Bagaço de Cana de Açúcar', 406, 11600902.2, 9, 2020), ('2024-12-31', 'Biomassa', 'Agroindustriais', 'Bagaço de Cana de Açúcar', 409, 11691022.2, 12, 2020), ('2024-12-31', 'Biomassa', 'Agroindustriais', 'Bagaço de Cana de Açúcar', 410, 11671707.2, 3, 2021), ('2024-12-31', 'Biomassa', 'Agroindustriais', 'Bagaço de Cana de Açúcar', 411, 11670192.2, 6, 2021), ('2024-12-31', 'Biomassa', 'Agroindustriais', 'Bagaço de Cana de Açúcar', 412, 11773763.18, 9, 2021), ('2024-12-31', 'Biomassa', 'Agroindustriais', 'Bagaço de Cana de Açúcar', 413, 11657646.2, 12, 2021), ('2024-12-31', 'Biomassa', 'Agroindustriais', 'Bagaço de Cana de Açúcar', 413, 11528046.2, 3, 2022), ('2024-12-31', 'Biomassa', 'Agroindustriais', 'Bagaço de Cana de Açúcar', 415, 11578046.2, 6, 2022), ('2024-12-31', 'Biomassa', 'Agroindustriais', 'Bagaço de Cana de Açúcar', 419, 11748446.2, 9, 2022), ('2024-12-31', 'Biomassa', 'Agroindustriais', 'Bagaço de Cana de Açúcar', 420, 11839066.2, 12, 2022), ('2024-12-31', 'Biomassa', 'Agroindustriais', 'Bagaço de Cana de Açúcar', 421, 11832066.2, 3, 2023), ('2024-12-31', 'Biomassa', 'Agroindustriais', 'Bagaço de Cana de Açúcar', 422, 11887066.2, 5, 2023), ('2024-12-31', 'Biomassa', 'Agroindustriais', 'Bagaço de Cana de Açúcar', 423, 11979661.2, 8, 2023), ('2024-12-31', 'Biomassa', 'Agroindustriais', 'Bagaço de Cana de Açúcar', 422, 11975261.2, 11, 2023), ('2024-12-31', 'Biomassa', 'Agroindustriais', 'Bagaço de Cana de Açúcar', 422, 11912466.2, 2, 2024), ('2024-12-31', 'Biomassa', 'Agroindustriais', 'Bagaço de Cana de Açúcar', 423, 11964466.2, 5, 2024), ('2024-12-31', 'Biomassa', 'Agroindustriais', 'Bagaço de Cana de Açúcar', 424, 12066066.2, 8, 2024), ('2024-12-31', 'Biomassa', 'Agroindustriais', 'Bagaço de Cana de Açúcar', 427, 12187866.2, 11, 2024)]\n"
     ]
    }
   ],
   "source": [
    "#4 Retornando todas as linhas com o combustível Bagaço de Cana de Açúcar\n",
    "query2 = '''\n",
    "SELECT * \n",
    "FROM usinas \n",
    "WHERE Combustivel = 'Bagaço de Cana de Açúcar'\n",
    "'''\n",
    "cursor.execute(query2)\n",
    "print(cursor.fetchall())"
   ]
  },
  {
   "cell_type": "code",
   "execution_count": 8,
   "id": "3c0f9ca1",
   "metadata": {},
   "outputs": [
    {
     "name": "stdout",
     "output_type": "stream",
     "text": [
      "[('Bagaço de Cana de Açúcar',), ('Biogas - AGR',), ('Biogás - AGR',), ('Capim Elefante',), ('Casca de Arroz',), ('Etanol',), ('Óleos Vegetais',), ('Calor de Processo - CM',), ('Carvão Mineral',), ('Carvão Vegetal',), ('Gás de Alto Forno - Biomassa',), ('Lenha',), ('Licor Negro',), ('Resíduos Florestais',), ('Biogás - RA',), ('Biogás - RU',), ('Carvão - RU',), ('Gás de Alto Forno - CM',), ('Calor de Processo - GN',), ('Gás Natural',), ('Calor de Processo - OF',), ('Gás de Refinaria',), ('Óleo Combustível',), ('Óleo Diesel',), ('Outros Energéticos de Petróleo',), ('Gás de Alto Forno - PE',), ('Resíduos Sólidos Urbanos - RU',), ('Biogás - Floresta',)]\n"
     ]
    }
   ],
   "source": [
    "#5 Retornando os diferentes valores para os combustíveis\n",
    "query3 = \"\"\"\n",
    "SELECT DISTINCT Combustivel \n",
    "FROM usinas \n",
    "\"\"\"\n",
    "cursor.execute(query3)\n",
    "print(cursor.fetchall())"
   ]
  },
  {
   "cell_type": "code",
   "execution_count": 9,
   "id": "7de0e179",
   "metadata": {},
   "outputs": [
    {
     "name": "stdout",
     "output_type": "stream",
     "text": [
      "[(28,)]\n"
     ]
    }
   ],
   "source": [
    "#6 Retornando a quantidade de diferentes valores para os combustíveis\n",
    "query4 = \"\"\"\n",
    "SELECT COUNT (DISTINCT Combustivel)\n",
    "FROM usinas \n",
    "\"\"\"\n",
    "cursor.execute(query4)\n",
    "print(cursor.fetchall())"
   ]
  },
  {
   "cell_type": "code",
   "execution_count": 10,
   "id": "120ac044",
   "metadata": {},
   "outputs": [
    {
     "name": "stdout",
     "output_type": "stream",
     "text": [
      "[('2024-12-31', 'Biomassa', 'Floresta', 'Lenha', 2, 14650.0, 12, 2016), ('2024-12-31', 'Biomassa', 'Floresta', 'Lenha', 2, 14650.0, 9, 2016), ('2024-12-31', 'Biomassa', 'Floresta', 'Lenha', 2, 14650.0, 3, 2017), ('2024-12-31', 'Biomassa', 'Floresta', 'Lenha', 2, 14650.0, 6, 2017)]\n"
     ]
    }
   ],
   "source": [
    "#7 Retornando todas as linhas com o combustível Lenha, quantidade igual a 2 e ordenando por Ano\n",
    "query5 = '''\n",
    "SELECT * \n",
    "FROM usinas \n",
    "WHERE Combustivel = 'Lenha' AND Quantidade = 2\n",
    "ORDER BY Ano\n",
    "'''\n",
    "cursor.execute(query5)\n",
    "print(cursor.fetchall())"
   ]
  },
  {
   "cell_type": "code",
   "execution_count": 11,
   "id": "16895ac9",
   "metadata": {},
   "outputs": [
    {
     "name": "stdout",
     "output_type": "stream",
     "text": [
      "[('2024-12-31', 'Biomassa', 'Floresta', 'Carvão Vegetal', 3, 25200.0, 12, 2012), ('2024-12-31', 'Biomassa', 'Floresta', 'Carvão Vegetal', 3, 25200.0, 3, 2012), ('2024-12-31', 'Biomassa', 'Floresta', 'Carvão Vegetal', 3, 25200.0, 6, 2012), ('2024-12-31', 'Biomassa', 'Floresta', 'Carvão Vegetal', 3, 25200.0, 9, 2012), ('2024-12-31', 'Biomassa', 'Floresta', 'Carvão Vegetal', 3, 25200.0, 12, 2013), ('2024-12-31', 'Biomassa', 'Floresta', 'Carvão Vegetal', 3, 25200.0, 3, 2013), ('2024-12-31', 'Biomassa', 'Floresta', 'Carvão Vegetal', 3, 25200.0, 6, 2013), ('2024-12-31', 'Biomassa', 'Floresta', 'Carvão Vegetal', 3, 25200.0, 9, 2013), ('2024-12-31', 'Biomassa', 'Floresta', 'Carvão Vegetal', 7, 51400.0, 12, 2014), ('2024-12-31', 'Biomassa', 'Floresta', 'Carvão Vegetal', 5, 35000.0, 3, 2014), ('2024-12-31', 'Biomassa', 'Floresta', 'Carvão Vegetal', 5, 35000.0, 6, 2014), ('2024-12-31', 'Biomassa', 'Floresta', 'Carvão Vegetal', 7, 54900.0, 9, 2014), ('2024-12-31', 'Biomassa', 'Floresta', 'Carvão Vegetal', 7, 51397.0, 12, 2015), ('2024-12-31', 'Biomassa', 'Floresta', 'Carvão Vegetal', 7, 51397.0, 3, 2015), ('2024-12-31', 'Biomassa', 'Floresta', 'Carvão Vegetal', 7, 51397.0, 6, 2015), ('2024-12-31', 'Biomassa', 'Floresta', 'Carvão Vegetal', 7, 51397.0, 9, 2015), ('2024-12-31', 'Biomassa', 'Floresta', 'Carvão Vegetal', 8, 54097.0, 12, 2016), ('2024-12-31', 'Biomassa', 'Floresta', 'Carvão Vegetal', 7, 51397.0, 3, 2016), ('2024-12-31', 'Biomassa', 'Floresta', 'Carvão Vegetal', 8, 54097.0, 6, 2016), ('2024-12-31', 'Biomassa', 'Floresta', 'Carvão Vegetal', 8, 54097.0, 9, 2016), ('2024-12-31', 'Biomassa', 'Floresta', 'Lenha', 2, 14650.0, 12, 2016), ('2024-12-31', 'Biomassa', 'Floresta', 'Lenha', 2, 14650.0, 9, 2016), ('2024-12-31', 'Biomassa', 'Floresta', 'Carvão Vegetal', 8, 54097.0, 3, 2017), ('2024-12-31', 'Biomassa', 'Floresta', 'Lenha', 2, 14650.0, 3, 2017), ('2024-12-31', 'Biomassa', 'Floresta', 'Carvão Vegetal', 7, 41197.0, 6, 2017), ('2024-12-31', 'Biomassa', 'Floresta', 'Lenha', 2, 14650.0, 6, 2017), ('2024-12-31', 'Biomassa', 'Floresta', 'Carvão Vegetal', 8, 43197.0, 12, 2017), ('2024-12-31', 'Biomassa', 'Floresta', 'Lenha', 4, 23900.0, 12, 2017), ('2024-12-31', 'Biomassa', 'Floresta', 'Carvão Vegetal', 7, 41197.0, 9, 2017), ('2024-12-31', 'Biomassa', 'Floresta', 'Lenha', 3, 15650.0, 9, 2017), ('2024-12-31', 'Biomassa', 'Floresta', 'Carvão Vegetal', 8, 43197.0, 3, 2018), ('2024-12-31', 'Biomassa', 'Floresta', 'Lenha', 4, 23900.0, 3, 2018), ('2024-12-31', 'Biomassa', 'Floresta', 'Carvão Vegetal', 8, 43197.0, 6, 2018), ('2024-12-31', 'Biomassa', 'Floresta', 'Lenha', 4, 23900.0, 6, 2018), ('2024-12-31', 'Biomassa', 'Floresta', 'Carvão Vegetal', 8, 43197.0, 9, 2018), ('2024-12-31', 'Biomassa', 'Floresta', 'Lenha', 5, 36015.0, 9, 2018), ('2024-12-31', 'Biomassa', 'Floresta', 'Carvão Vegetal', 8, 43197.0, 12, 2018), ('2024-12-31', 'Biomassa', 'Floresta', 'Lenha', 5, 36015.0, 12, 2018), ('2024-12-31', 'Biomassa', 'Floresta', 'Carvão Vegetal', 8, 48197.0, 3, 2019), ('2024-12-31', 'Biomassa', 'Floresta', 'Lenha', 5, 36715.0, 3, 2019), ('2024-12-31', 'Biomassa', 'Floresta', 'Carvão Vegetal', 8, 48197.0, 6, 2019), ('2024-12-31', 'Biomassa', 'Floresta', 'Lenha', 5, 36715.0, 6, 2019), ('2024-12-31', 'Biomassa', 'Floresta', 'Carvão Vegetal', 8, 48197.0, 9, 2019), ('2024-12-31', 'Biomassa', 'Floresta', 'Lenha', 6, 39915.0, 9, 2019), ('2024-12-31', 'Biomassa', 'Floresta', 'Carvão Vegetal', 8, 48197.0, 12, 2019), ('2024-12-31', 'Biomassa', 'Floresta', 'Lenha', 7, 82215.0, 12, 2019), ('2024-12-31', 'Biomassa', 'Floresta', 'Carvão Vegetal', 8, 48197.0, 3, 2020), ('2024-12-31', 'Biomassa', 'Floresta', 'Lenha', 7, 82215.0, 3, 2020), ('2024-12-31', 'Biomassa', 'Floresta', 'Carvão Vegetal', 8, 48197.0, 6, 2020), ('2024-12-31', 'Biomassa', 'Floresta', 'Lenha', 7, 82215.0, 6, 2020), ('2024-12-31', 'Biomassa', 'Floresta', 'Carvão Vegetal', 8, 48197.0, 9, 2020), ('2024-12-31', 'Biomassa', 'Floresta', 'Lenha', 8, 104575.0, 9, 2020), ('2024-12-31', 'Biomassa', 'Floresta', 'Carvão Vegetal', 7, 38197.0, 12, 2020), ('2024-12-31', 'Biomassa', 'Floresta', 'Lenha', 8, 104575.0, 12, 2020), ('2024-12-31', 'Biomassa', 'Floresta', 'Carvão Vegetal', 7, 38197.0, 3, 2021), ('2024-12-31', 'Biomassa', 'Floresta', 'Lenha', 8, 104575.0, 3, 2021), ('2024-12-31', 'Biomassa', 'Floresta', 'Carvão Vegetal', 7, 38197.0, 6, 2021), ('2024-12-31', 'Biomassa', 'Floresta', 'Lenha', 8, 104575.0, 6, 2021), ('2024-12-31', 'Biomassa', 'Floresta', 'Carvão Vegetal', 7, 38197.0, 9, 2021), ('2024-12-31', 'Biomassa', 'Floresta', 'Lenha', 8, 104575.0, 9, 2021), ('2024-12-31', 'Biomassa', 'Floresta', 'Carvão Vegetal', 7, 38197.0, 12, 2021), ('2024-12-31', 'Biomassa', 'Floresta', 'Lenha', 9, 137075.0, 12, 2021), ('2024-12-31', 'Biomassa', 'Floresta', 'Carvão Vegetal', 7, 38197.0, 3, 2022), ('2024-12-31', 'Biomassa', 'Floresta', 'Lenha', 9, 137075.0, 3, 2022), ('2024-12-31', 'Biomassa', 'Floresta', 'Carvão Vegetal', 7, 38197.0, 6, 2022), ('2024-12-31', 'Biomassa', 'Floresta', 'Lenha', 10, 163075.0, 6, 2022), ('2024-12-31', 'Biomassa', 'Floresta', 'Carvão Vegetal', 7, 38197.0, 9, 2022), ('2024-12-31', 'Biomassa', 'Floresta', 'Lenha', 10, 163075.0, 9, 2022), ('2024-12-31', 'Biomassa', 'Floresta', 'Carvão Vegetal', 7, 38197.0, 12, 2022), ('2024-12-31', 'Biomassa', 'Floresta', 'Lenha', 11, 165075.0, 12, 2022), ('2024-12-31', 'Biomassa', 'Floresta', 'Carvão Vegetal', 6, 30197.0, 3, 2023), ('2024-12-31', 'Biomassa', 'Floresta', 'Lenha', 12, 167827.8, 3, 2023), ('2024-12-31', 'Biomassa', 'Floresta', 'Carvão Vegetal', 6, 30197.0, 5, 2023), ('2024-12-31', 'Biomassa', 'Floresta', 'Lenha', 12, 167827.8, 5, 2023), ('2024-12-31', 'Biomassa', 'Floresta', 'Carvão Vegetal', 6, 30197.0, 8, 2023), ('2024-12-31', 'Biomassa', 'Floresta', 'Lenha', 13, 170827.8, 8, 2023), ('2024-12-31', 'Biomassa', 'Floresta', 'Carvão Vegetal', 6, 30197.0, 11, 2023), ('2024-12-31', 'Biomassa', 'Floresta', 'Lenha', 13, 170827.8, 11, 2023), ('2024-12-31', 'Biomassa', 'Floresta', 'Carvão Vegetal', 6, 30197.0, 2, 2024), ('2024-12-31', 'Biomassa', 'Floresta', 'Lenha', 13, 170827.8, 2, 2024), ('2024-12-31', 'Biomassa', 'Floresta', 'Carvão Vegetal', 6, 30197.0, 5, 2024), ('2024-12-31', 'Biomassa', 'Floresta', 'Lenha', 13, 237202.8, 5, 2024), ('2024-12-31', 'Biomassa', 'Floresta', 'Carvão Vegetal', 6, 30197.0, 8, 2024), ('2024-12-31', 'Biomassa', 'Floresta', 'Lenha', 13, 237202.8, 8, 2024), ('2024-12-31', 'Biomassa', 'Floresta', 'Carvão Vegetal', 6, 30197.0, 11, 2024), ('2024-12-31', 'Biomassa', 'Floresta', 'Lenha', 13, 237202.8, 11, 2024)]\n"
     ]
    }
   ],
   "source": [
    "#8 Retornando todas as linhas com o combustível Lenha ou Carvão Vegetal\n",
    "query6 = '''\n",
    "SELECT * \n",
    "FROM usinas \n",
    "WHERE Combustivel = 'Carvão Vegetal' OR Combustivel = 'Lenha'\n",
    "ORDER BY Ano\n",
    "'''\n",
    "cursor.execute(query6)\n",
    "print(cursor.fetchall())"
   ]
  },
  {
   "cell_type": "code",
   "execution_count": 12,
   "id": "b359a062",
   "metadata": {},
   "outputs": [
    {
     "name": "stdout",
     "output_type": "stream",
     "text": [
      "[('2024-12-31', 'Fóssil', 'Petróleo', 'Óleo Diesel', 2204, 4439398.17, 12, 2020), ('2024-12-31', 'Fóssil', 'Petróleo', 'Óleo Diesel', 2215, 4486970.17, 3, 2021), ('2024-12-31', 'Fóssil', 'Petróleo', 'Óleo Diesel', 2224, 4534636.77, 6, 2021), ('2024-12-31', 'Fóssil', 'Petróleo', 'Óleo Diesel', 2226, 4549263.77, 12, 2021), ('2024-12-31', 'Fóssil', 'Petróleo', 'Óleo Diesel', 2228, 4604348.77, 9, 2021), ('2024-12-31', 'Fóssil', 'Petróleo', 'Óleo Diesel', 2234, 4293944.99, 9, 2022), ('2024-12-31', 'Fóssil', 'Petróleo', 'Óleo Diesel', 2245, 4455396.59, 6, 2022), ('2024-12-31', 'Fóssil', 'Petróleo', 'Óleo Diesel', 2248, 4557453.59, 3, 2022)]\n"
     ]
    }
   ],
   "source": [
    "#9 Retornando todas as linhas com quantidade maior que 2200, ordenando por\n",
    "query7 = '''\n",
    "SELECT * \n",
    "FROM usinas \n",
    "WHERE NOT Quantidade < 2200\n",
    "ORDER BY Quantidade\n",
    "'''\n",
    "cursor.execute(query7)\n",
    "print(cursor.fetchall())"
   ]
  },
  {
   "cell_type": "code",
   "execution_count": 13,
   "id": "80a7be0a",
   "metadata": {},
   "outputs": [
    {
     "name": "stdout",
     "output_type": "stream",
     "text": [
      "[]\n"
     ]
    }
   ],
   "source": [
    "#10 Procurando valores vazios na tabela (não há valores vazios)\n",
    "query8 = '''\n",
    "SELECT * \n",
    "FROM usinas \n",
    "WHERE Mes IS NULL\n",
    "'''\n",
    "cursor.execute(query8)\n",
    "print(cursor.fetchall())"
   ]
  },
  {
   "cell_type": "code",
   "execution_count": 14,
   "id": "e092bc9b",
   "metadata": {},
   "outputs": [
    {
     "name": "stdout",
     "output_type": "stream",
     "text": [
      "[(8125583.7,), (9358566.0,), (9880703.0,), (10531820.2,), (10897104.2,)]\n"
     ]
    }
   ],
   "source": [
    "#11 Retornando os 5 primeiros valores da coluna Potencia_KW\n",
    "query9 = '''\n",
    "SELECT Potencia_KW\n",
    "FROM usinas \n",
    "LIMIT 5\n",
    "'''\n",
    "cursor.execute(query9)\n",
    "print(cursor.fetchall())"
   ]
  },
  {
   "cell_type": "code",
   "execution_count": 15,
   "id": "aabc673d",
   "metadata": {},
   "outputs": [
    {
     "name": "stdout",
     "output_type": "stream",
     "text": [
      "[(0.0,)]\n"
     ]
    }
   ],
   "source": [
    "#12 Retornando o menor valor da coluna Potencia_KW\n",
    "query10 = '''\n",
    "SELECT MIN(Potencia_KW)\n",
    "FROM usinas \n",
    "'''\n",
    "cursor.execute(query10)\n",
    "print(cursor.fetchall())"
   ]
  },
  {
   "cell_type": "code",
   "execution_count": 16,
   "id": "15f09fce",
   "metadata": {},
   "outputs": [
    {
     "name": "stdout",
     "output_type": "stream",
     "text": [
      "[(2248,)]\n"
     ]
    }
   ],
   "source": [
    "#13 Retornando o maior valor da coluna Quantidade\n",
    "query11 = '''\n",
    "SELECT MAX(Quantidade)\n",
    "FROM usinas \n",
    "'''\n",
    "cursor.execute(query11)\n",
    "print(cursor.fetchall())"
   ]
  },
  {
   "cell_type": "code",
   "execution_count": 17,
   "id": "dd426f7a",
   "metadata": {},
   "outputs": [
    {
     "name": "stdout",
     "output_type": "stream",
     "text": [
      "[(7911,)]\n"
     ]
    }
   ],
   "source": [
    "#13 Retornando a soma da quantidade de usinas com potencia superior a 100000 com combustível Gás Natural\n",
    "query12 = '''\n",
    "SELECT SUM(Quantidade) \n",
    "FROM usinas\n",
    "WHERE Potencia_KW > 100000 AND Combustivel = 'Gás Natural'\n",
    "'''\n",
    "cursor.execute(query12)\n",
    "print(cursor.fetchall())"
   ]
  },
  {
   "cell_type": "code",
   "execution_count": 18,
   "id": "64146320",
   "metadata": {},
   "outputs": [
    {
     "name": "stdout",
     "output_type": "stream",
     "text": [
      "[('Agroindustriais', 398.63461538461536), ('Carvão mineral', 10.961538461538462), ('Floresta', 27.650306748466257), ('Gás natural', 113.15492957746478), ('Outros Fósseis', 4.826923076923077), ('Petróleo', 515.2171717171717), ('Resíduos sólidos urbanos', 21.941176470588236)]\n"
     ]
    }
   ],
   "source": [
    "#14 Retornando a média da quantidade de usinas por Segmento_Combustivel\n",
    "query13 = '''\n",
    "SELECT Segmento_Combustivel, AVG(Quantidade) \n",
    "FROM usinas\n",
    "WHERE Potencia_KW > 100000\n",
    "GROUP BY Segmento_Combustivel\n",
    "'''\n",
    "cursor.execute(query13)\n",
    "print(cursor.fetchall())"
   ]
  },
  {
   "cell_type": "code",
   "execution_count": 19,
   "id": "ba9a7425",
   "metadata": {},
   "outputs": [
    {
     "name": "stdout",
     "output_type": "stream",
     "text": [
      "[(52,)]\n"
     ]
    }
   ],
   "source": [
    "#15 Retornando a quantidade de linhas com combustivel que comece com 'Lic'\n",
    "query14 = '''\n",
    "SELECT COUNT(Combustivel)\n",
    "FROM usinas\n",
    "WHERE Combustivel LIKE 'Lic%'\n",
    "'''\n",
    "cursor.execute(query14)\n",
    "print(cursor.fetchall())"
   ]
  },
  {
   "cell_type": "code",
   "execution_count": 20,
   "id": "55b8c9c2",
   "metadata": {},
   "outputs": [
    {
     "name": "stdout",
     "output_type": "stream",
     "text": [
      "[(1259,)]\n"
     ]
    }
   ],
   "source": [
    "#16 Retornando a quantidade de linhas com combustivel que sejam de origem biomassa ou fóssil\n",
    "query15 = '''\n",
    "SELECT COUNT(Combustivel)\n",
    "FROM usinas\n",
    "WHERE Origem IN ('Biomassa','Fóssil')\n",
    "'''\n",
    "cursor.execute(query15)\n",
    "print(cursor.fetchall())"
   ]
  },
  {
   "cell_type": "code",
   "execution_count": 21,
   "id": "1a596d31",
   "metadata": {},
   "outputs": [
    {
     "name": "stdout",
     "output_type": "stream",
     "text": [
      "[(314,)]\n"
     ]
    }
   ],
   "source": [
    "#17 Retornando a quantidade de linhas com Quantidades entre 10 e 20 usinas instaladas\n",
    "query16 = '''\n",
    "SELECT COUNT(Combustivel)\n",
    "FROM usinas\n",
    "WHERE Quantidade BETWEEN 10 AND 20\n",
    "'''\n",
    "cursor.execute(query16)\n",
    "print(cursor.fetchall())"
   ]
  },
  {
   "cell_type": "code",
   "execution_count": 22,
   "id": "6f2f9344",
   "metadata": {},
   "outputs": [
    {
     "name": "stdout",
     "output_type": "stream",
     "text": [
      "[('Bagaço de Cana de Açúcar', 52), ('Biogas - AGR', 18), ('Biogás - AGR', 34), ('Biogás - Floresta', 16), ('Biogás - RA', 52), ('Biogás - RU', 52), ('Calor de Processo - CM', 52), ('Calor de Processo - GN', 52), ('Calor de Processo - OF', 52), ('Capim Elefante', 52), ('Carvão - RU', 32), ('Carvão Mineral', 52), ('Carvão Vegetal', 52), ('Casca de Arroz', 52), ('Gás de Alto Forno - Biomassa', 52), ('Gás de Alto Forno - CM', 52), ('Gás de Alto Forno - PE', 29), ('Gás de Refinaria', 52), ('Licor Negro', 52), ('Outros Energéticos de Petróleo', 52), ('Resíduos Florestais', 52), ('Resíduos Sólidos Urbanos - RU', 22), ('Óleo Combustível', 52), ('Óleo Diesel', 52), ('Óleos Vegetais', 52)]\n"
     ]
    }
   ],
   "source": [
    "#18 Retornando a quantidade de linhas por Combustível, difetentes de Lenha ou Gás Natural, com média de potência superior a 1000\n",
    "query17 = '''\n",
    "SELECT  Combustivel, COUNT(Combustivel)\n",
    "FROM usinas\n",
    "WHERE NOT (Combustivel = 'Lenha' OR Combustivel = 'Gás Natural')\n",
    "GROUP BY Combustivel\n",
    "HAVING AVG(Potencia_KW) > 1000\n",
    "ORDER BY Combustivel ASC\n",
    "'''\n",
    "cursor.execute(query17)\n",
    "print(cursor.fetchall())"
   ]
  },
  {
   "cell_type": "markdown",
   "id": "74d826b3",
   "metadata": {},
   "source": [
    "# Visualizando Queries no Pandas"
   ]
  },
  {
   "cell_type": "code",
   "execution_count": 23,
   "id": "04a49e1f",
   "metadata": {},
   "outputs": [],
   "source": [
    "# Gravando o resultado da query na variável\n",
    "query_df = cursor.execute(query)"
   ]
  },
  {
   "cell_type": "code",
   "execution_count": 24,
   "id": "249d0d15",
   "metadata": {},
   "outputs": [],
   "source": [
    "# Transformando a query em Data Frame nomeando as colunas\n",
    "query_df =  pd.DataFrame(query_df, columns = ['Data_Update', 'Origem', 'Segmento_Combustivel', 'Combustivel',\n",
    "       'Quantidade', 'Potencia_KW', 'Mes', 'Ano'])"
   ]
  },
  {
   "cell_type": "code",
   "execution_count": 25,
   "id": "1784da7d",
   "metadata": {},
   "outputs": [
    {
     "data": {
      "text/html": [
       "<div>\n",
       "<style scoped>\n",
       "    .dataframe tbody tr th:only-of-type {\n",
       "        vertical-align: middle;\n",
       "    }\n",
       "\n",
       "    .dataframe tbody tr th {\n",
       "        vertical-align: top;\n",
       "    }\n",
       "\n",
       "    .dataframe thead th {\n",
       "        text-align: right;\n",
       "    }\n",
       "</style>\n",
       "<table border=\"1\" class=\"dataframe\">\n",
       "  <thead>\n",
       "    <tr style=\"text-align: right;\">\n",
       "      <th></th>\n",
       "      <th>Data_Update</th>\n",
       "      <th>Origem</th>\n",
       "      <th>Segmento_Combustivel</th>\n",
       "      <th>Combustivel</th>\n",
       "      <th>Quantidade</th>\n",
       "      <th>Potencia_KW</th>\n",
       "      <th>Mes</th>\n",
       "      <th>Ano</th>\n",
       "    </tr>\n",
       "  </thead>\n",
       "  <tbody>\n",
       "    <tr>\n",
       "      <th>0</th>\n",
       "      <td>2024-12-31</td>\n",
       "      <td>Biomassa</td>\n",
       "      <td>Agroindustriais</td>\n",
       "      <td>Bagaço de Cana de Açúcar</td>\n",
       "      <td>359</td>\n",
       "      <td>8125583.7</td>\n",
       "      <td>12</td>\n",
       "      <td>2012</td>\n",
       "    </tr>\n",
       "    <tr>\n",
       "      <th>1</th>\n",
       "      <td>2024-12-31</td>\n",
       "      <td>Biomassa</td>\n",
       "      <td>Agroindustriais</td>\n",
       "      <td>Bagaço de Cana de Açúcar</td>\n",
       "      <td>381</td>\n",
       "      <td>9358566.0</td>\n",
       "      <td>12</td>\n",
       "      <td>2013</td>\n",
       "    </tr>\n",
       "    <tr>\n",
       "      <th>2</th>\n",
       "      <td>2024-12-31</td>\n",
       "      <td>Biomassa</td>\n",
       "      <td>Agroindustriais</td>\n",
       "      <td>Bagaço de Cana de Açúcar</td>\n",
       "      <td>387</td>\n",
       "      <td>9880703.0</td>\n",
       "      <td>12</td>\n",
       "      <td>2014</td>\n",
       "    </tr>\n",
       "    <tr>\n",
       "      <th>3</th>\n",
       "      <td>2024-12-31</td>\n",
       "      <td>Biomassa</td>\n",
       "      <td>Agroindustriais</td>\n",
       "      <td>Bagaço de Cana de Açúcar</td>\n",
       "      <td>394</td>\n",
       "      <td>10531820.2</td>\n",
       "      <td>12</td>\n",
       "      <td>2015</td>\n",
       "    </tr>\n",
       "    <tr>\n",
       "      <th>4</th>\n",
       "      <td>2024-12-31</td>\n",
       "      <td>Biomassa</td>\n",
       "      <td>Agroindustriais</td>\n",
       "      <td>Bagaço de Cana de Açúcar</td>\n",
       "      <td>398</td>\n",
       "      <td>10897104.2</td>\n",
       "      <td>12</td>\n",
       "      <td>2016</td>\n",
       "    </tr>\n",
       "  </tbody>\n",
       "</table>\n",
       "</div>"
      ],
      "text/plain": [
       "  Data_Update    Origem Segmento_Combustivel               Combustivel  \\\n",
       "0  2024-12-31  Biomassa      Agroindustriais  Bagaço de Cana de Açúcar   \n",
       "1  2024-12-31  Biomassa      Agroindustriais  Bagaço de Cana de Açúcar   \n",
       "2  2024-12-31  Biomassa      Agroindustriais  Bagaço de Cana de Açúcar   \n",
       "3  2024-12-31  Biomassa      Agroindustriais  Bagaço de Cana de Açúcar   \n",
       "4  2024-12-31  Biomassa      Agroindustriais  Bagaço de Cana de Açúcar   \n",
       "\n",
       "   Quantidade  Potencia_KW  Mes   Ano  \n",
       "0         359    8125583.7   12  2012  \n",
       "1         381    9358566.0   12  2013  \n",
       "2         387    9880703.0   12  2014  \n",
       "3         394   10531820.2   12  2015  \n",
       "4         398   10897104.2   12  2016  "
      ]
     },
     "execution_count": 25,
     "metadata": {},
     "output_type": "execute_result"
    }
   ],
   "source": [
    "query_df.head()"
   ]
  },
  {
   "cell_type": "code",
   "execution_count": 26,
   "id": "1a0815eb",
   "metadata": {},
   "outputs": [],
   "source": [
    "# Segundo exemplo, query 13\n",
    "query_df13 = cursor.execute(query13)\n",
    "query_df13 =  pd.DataFrame(query_df13, columns = ['Segmento_Combustivel','Quantidade_media'])"
   ]
  },
  {
   "cell_type": "code",
   "execution_count": 27,
   "id": "dfed7969",
   "metadata": {},
   "outputs": [
    {
     "data": {
      "text/html": [
       "<div>\n",
       "<style scoped>\n",
       "    .dataframe tbody tr th:only-of-type {\n",
       "        vertical-align: middle;\n",
       "    }\n",
       "\n",
       "    .dataframe tbody tr th {\n",
       "        vertical-align: top;\n",
       "    }\n",
       "\n",
       "    .dataframe thead th {\n",
       "        text-align: right;\n",
       "    }\n",
       "</style>\n",
       "<table border=\"1\" class=\"dataframe\">\n",
       "  <thead>\n",
       "    <tr style=\"text-align: right;\">\n",
       "      <th></th>\n",
       "      <th>Segmento_Combustivel</th>\n",
       "      <th>Quantidade_media</th>\n",
       "    </tr>\n",
       "  </thead>\n",
       "  <tbody>\n",
       "    <tr>\n",
       "      <th>0</th>\n",
       "      <td>Agroindustriais</td>\n",
       "      <td>398.634615</td>\n",
       "    </tr>\n",
       "    <tr>\n",
       "      <th>1</th>\n",
       "      <td>Carvão mineral</td>\n",
       "      <td>10.961538</td>\n",
       "    </tr>\n",
       "    <tr>\n",
       "      <th>2</th>\n",
       "      <td>Floresta</td>\n",
       "      <td>27.650307</td>\n",
       "    </tr>\n",
       "    <tr>\n",
       "      <th>3</th>\n",
       "      <td>Gás natural</td>\n",
       "      <td>113.154930</td>\n",
       "    </tr>\n",
       "    <tr>\n",
       "      <th>4</th>\n",
       "      <td>Outros Fósseis</td>\n",
       "      <td>4.826923</td>\n",
       "    </tr>\n",
       "  </tbody>\n",
       "</table>\n",
       "</div>"
      ],
      "text/plain": [
       "  Segmento_Combustivel  Quantidade_media\n",
       "0      Agroindustriais        398.634615\n",
       "1       Carvão mineral         10.961538\n",
       "2             Floresta         27.650307\n",
       "3          Gás natural        113.154930\n",
       "4       Outros Fósseis          4.826923"
      ]
     },
     "execution_count": 27,
     "metadata": {},
     "output_type": "execute_result"
    }
   ],
   "source": [
    "query_df13.head()"
   ]
  },
  {
   "cell_type": "code",
   "execution_count": 28,
   "id": "0b0952d7",
   "metadata": {},
   "outputs": [],
   "source": [
    "# Fechando o cursor e aconexão ao BD\n",
    "cursor.close()\n",
    "con.close()"
   ]
  }
 ],
 "metadata": {
  "kernelspec": {
   "display_name": "Python 3 (ipykernel)",
   "language": "python",
   "name": "python3"
  },
  "language_info": {
   "codemirror_mode": {
    "name": "ipython",
    "version": 3
   },
   "file_extension": ".py",
   "mimetype": "text/x-python",
   "name": "python",
   "nbconvert_exporter": "python",
   "pygments_lexer": "ipython3",
   "version": "3.9.13"
  }
 },
 "nbformat": 4,
 "nbformat_minor": 5
}
